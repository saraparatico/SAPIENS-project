{
  "nbformat": 4,
  "nbformat_minor": 0,
  "metadata": {
    "colab": {
      "provenance": [],
      "gpuType": "T4"
    },
    "kernelspec": {
      "name": "python3",
      "display_name": "Python 3"
    },
    "language_info": {
      "name": "python"
    },
    "accelerator": "GPU"
  },
  "cells": [
    {
      "cell_type": "markdown",
      "source": [
        "---\n",
        "# ***SETTINGS***\n",
        "---"
      ],
      "metadata": {
        "id": "dU5dx3zs4T6q"
      }
    },
    {
      "cell_type": "code",
      "execution_count": 109,
      "metadata": {
        "id": "545NYldq4Kt4",
        "colab": {
          "base_uri": "https://localhost:8080/"
        },
        "outputId": "100a8290-9876-4d96-a4cf-d9a1fe19d3eb"
      },
      "outputs": [
        {
          "output_type": "stream",
          "name": "stdout",
          "text": [
            "Drive already mounted at /content/gdrive; to attempt to forcibly remount, call drive.mount(\"/content/gdrive\", force_remount=True).\n"
          ]
        }
      ],
      "source": [
        "# SARA: montiamo a drive per collegarci alla cartella desiderata\n",
        "from google.colab import drive\n",
        "drive.mount('/content/gdrive')"
      ]
    },
    {
      "cell_type": "code",
      "source": [
        "# IMPORT LIBRARIES\n",
        "import json\n",
        "import os\n",
        "import pandas as pd\n",
        "import seaborn as sns\n",
        "%matplotlib inline\n",
        "import matplotlib.pyplot as plt\n",
        "import math\n",
        "from re import X\n",
        "import tensorflow as tf\n",
        "from sklearn.utils.class_weight import compute_class_weight\n",
        "from tensorflow.keras.applications import ResNet50\n",
        "from tensorflow.keras.applications.resnet50 import preprocess_input\n",
        "from tensorflow.keras.layers import Flatten, GlobalAveragePooling2D, Multiply, Reshape, Dense\n",
        "from tensorflow.keras.layers import UpSampling2D, Conv2D\n",
        "from tensorflow.keras.preprocessing import image\n",
        "from tensorflow.keras.models import Model\n",
        "from keras.utils import to_categorical\n",
        "from sklearn.model_selection import train_test_split\n",
        "\n",
        "tfk = tf.keras\n",
        "tfkl = tf.keras.layers\n",
        "\n",
        "import random\n",
        "import numpy as np\n",
        "seed = 4\n",
        "\n",
        "random.seed(seed)\n",
        "os.environ['PYTHONHASHSEED'] = str(seed)\n",
        "np.random.seed(seed)\n",
        "tf.random.set_seed(seed)\n",
        "tf.compat.v1.set_random_seed(seed)"
      ],
      "metadata": {
        "id": "jndhE5Kd4RPB"
      },
      "execution_count": 110,
      "outputs": []
    },
    {
      "cell_type": "markdown",
      "source": [
        "---\n",
        "# ***DATAFRAME CREATION***\n",
        "---"
      ],
      "metadata": {
        "id": "IIBOm0Nx4f50"
      }
    },
    {
      "cell_type": "code",
      "source": [
        "# I CREATE A LIST OD SINGLE DATAFRAMES AND THEN I CONCATENATE ALL OF THEM FOR MY FUTURE CLASSIFICATION TASK\n",
        "dfs_list = []\n",
        "lenght =  []\n",
        "phases = []\n",
        "\n",
        "# Iterate through all the JSON files in the specified range\n",
        "for i in range(0, 22):\n",
        "    # Generate the file name (assuming the format is POWxxx.json)\n",
        "    json_file_name = f'POW{i:03d}.json'\n",
        "    json_file_path = os.path.join('/content/gdrive/MyDrive/SAPIENS/DB_Macchinine', json_file_name)\n",
        "\n",
        "    # Check if the file exists before attempting to read it\n",
        "    if os.path.exists(json_file_path):\n",
        "        with open(json_file_path, 'r') as json_file:\n",
        "            data = json.load(json_file)\n",
        "\n",
        "        rows = []\n",
        "        # Iterate through the JSON data\n",
        "        for key, value in data.items():\n",
        "            user_id = value['UserID']\n",
        "            readings = value['Readings']\n",
        "\n",
        "            for reading_key, reading_value in readings.items():\n",
        "                phase = reading_value['Phase']\n",
        "                if phase not in phases:\n",
        "                  phases.append(phase)\n",
        "                if phase in  [\"sudoku\", \"Sudoku\", \"Baseline 000\", \"baseline 001\", \"Baseline 002\", \"Baseline 003\"]:\n",
        "                    time = reading_value['Time']\n",
        "                    af3_theta = reading_value['AF3']['Theta']\n",
        "                    af3_alpha = reading_value['AF3']['Alpha']\n",
        "                    af3_betaL = reading_value['AF3']['BetaL']\n",
        "                    af3_betaH = reading_value['AF3']['BetaH']\n",
        "                    af3_gamma = reading_value['AF3']['Gamma']\n",
        "\n",
        "                    t7_theta = reading_value['T7']['Theta']\n",
        "                    t7_alpha = reading_value['T7']['Alpha']\n",
        "                    t7_betaL = reading_value['T7']['BetaL']\n",
        "                    t7_betaH = reading_value['T7']['BetaH']\n",
        "                    t7_gamma = reading_value['T7']['Gamma']\n",
        "\n",
        "                    pz_theta = reading_value['Pz']['Theta']\n",
        "                    pz_alpha = reading_value['Pz']['Alpha']\n",
        "                    pz_betaL = reading_value['Pz']['BetaL']\n",
        "                    pz_betaH = reading_value['Pz']['BetaH']\n",
        "                    pz_gamma = reading_value['Pz']['Gamma']\n",
        "\n",
        "                    t8_theta = reading_value['T8']['Theta']\n",
        "                    t8_alpha = reading_value['T8']['Alpha']\n",
        "                    t8_betaL = reading_value['T8']['BetaL']\n",
        "                    t8_betaH = reading_value['T8']['BetaH']\n",
        "                    t8_gamma = reading_value['T8']['Gamma']\n",
        "\n",
        "                    af4_theta = reading_value['AF4']['Theta']\n",
        "                    af4_alpha = reading_value['AF4']['Alpha']\n",
        "                    af4_betaL = reading_value['AF4']['BetaL']\n",
        "                    af4_betaH = reading_value['AF4']['BetaH']\n",
        "                    af4_gamma = reading_value['AF4']['Gamma']\n",
        "\n",
        "\n",
        "                    row = [user_id, phase, time, af3_theta, af3_alpha, af3_betaL, af3_betaH, af3_gamma, t7_theta, t7_alpha, t7_betaL, t7_betaH, t7_gamma,\n",
        "                           pz_theta, pz_alpha, pz_betaL, pz_betaH, pz_gamma, t8_theta, t8_alpha, t8_betaL, t8_betaH, t8_gamma,\n",
        "                           af4_theta, af4_alpha, af4_betaL, af4_betaH, af4_gamma]\n",
        "\n",
        "                    rows.append(row)\n",
        "\n",
        "    # Define columns as before\n",
        "    columns = ['UserID', 'Phase', 'Time', 'AF3_Theta', 'AF3_Alpha', 'AF3_BetaL', 'AF3_BetaH', 'AF3_Gamma',\n",
        "           'T7_Theta', 'T7_Alpha', 'T7_BetaL', 'T7_BetaH', 'T7_Gamma',\n",
        "           'Pz_Theta', 'Pz_Alpha', 'Pz_BetaL', 'Pz_BetaH', 'Pz_Gamma',\n",
        "           'T8_Theta', 'T8_Alpha', 'T8_BetaL', 'T8_BetaH', 'T8_Gamma',\n",
        "           'AF4_Theta', 'AF4_Alpha', 'AF4_BetaL', 'AF4_BetaH', 'AF4_Gamma']\n",
        "\n",
        "    # Create a DataFrame from the rows and columns\n",
        "    df = pd.DataFrame(rows, columns=columns)\n",
        "\n",
        "    # Filter the DataFrame to only include rows with 'Phase' as \"sudoku\" or \"baseline occhi chiusi\"\n",
        "    filtered_df = df[df['Phase'].isin([\"Baseline 000\", \"sudoku\", \"baseline 001\", \"Sudoku\", \"Baseline 002\", \"Baseline 003\", \"baseline occhi aperti\", \"Baseline 005\", \"Baseline 006 F23\", \"baseline 007\", \"Baseline 008\", \"Baseline occhi aperti 009\", \"baseline occhi aperti 010\", \"baseline 011\", \"baseline\", \"baseline 014\", \"baseline 015\", \"Baseline 016\", \"baseline 017\", \"baseline 018\", \"Baseline 019\", \"baseline 020\", \"baseline 021\"])]\n",
        "\n",
        "    # I do not need UserID and Time\n",
        "    columns_to_remove = ['UserID', 'Time']\n",
        "    filtered_df.drop(columns=columns_to_remove, inplace=True)\n",
        "    lenght.append(len(filtered_df))\n",
        "\n",
        "    # LIST OF ALL DATAFRAMES\n",
        "    dfs_list.append(filtered_df)\n",
        "\n",
        "# FINAL COLLECTIVE DATAFRAME\n",
        "df_final = pd.concat(dfs_list, ignore_index=True)\n",
        "\n",
        "print(df_final.shape)\n",
        "df_final.head()"
      ],
      "metadata": {
        "id": "gzoyFrzG4ZOS",
        "colab": {
          "base_uri": "https://localhost:8080/",
          "height": 360
        },
        "outputId": "bdad569e-380b-4f9e-9203-9965120b684d"
      },
      "execution_count": 111,
      "outputs": [
        {
          "output_type": "stream",
          "name": "stdout",
          "text": [
            "(39361, 26)\n"
          ]
        },
        {
          "output_type": "execute_result",
          "data": {
            "text/plain": [
              "          Phase AF3_Theta AF3_Alpha AF3_BetaL AF3_BetaH AF3_Gamma T7_Theta  \\\n",
              "0  Baseline 000     2.491     2.108     0.544     2.437     0.562    1.331   \n",
              "1  Baseline 000     2.569     2.127     0.651     2.522     0.567    1.193   \n",
              "2  Baseline 000     2.562     2.233     0.876     2.536     0.595    1.098   \n",
              "3  Baseline 000     2.476     2.419      1.16     2.468     0.655    1.143   \n",
              "4  Baseline 000     2.501     2.645     1.439     2.328      0.74    1.304   \n",
              "\n",
              "  T7_Alpha T7_BetaL T7_BetaH  ... T8_Theta T8_Alpha T8_BetaL T8_BetaH  \\\n",
              "0    0.485    0.487    2.687  ...     1.72    1.423    1.564    4.624   \n",
              "1    0.401    0.616    2.201  ...    1.719    1.378    1.534    3.993   \n",
              "2    0.317    0.745    1.717  ...     1.71     1.44    1.466    3.279   \n",
              "3    0.274    0.865    1.359  ...    1.634    1.596    1.365    2.691   \n",
              "4    0.311    0.978    1.217  ...    1.524    1.821    1.257     2.34   \n",
              "\n",
              "  T8_Gamma AF4_Theta AF4_Alpha AF4_BetaL AF4_BetaH AF4_Gamma  \n",
              "0     1.89     4.469      2.61     0.486     2.134     0.673  \n",
              "1    1.575     4.383     2.534      0.49     2.117     0.685  \n",
              "2    1.221     4.062     2.544     0.627     2.064     0.718  \n",
              "3    0.932     3.547      2.69     0.827     1.983      0.78  \n",
              "4    0.761     3.215     2.957      1.04     1.886     0.855  \n",
              "\n",
              "[5 rows x 26 columns]"
            ],
            "text/html": [
              "\n",
              "  <div id=\"df-1bf2c390-2ce2-4834-9877-ddcf8b1265f8\" class=\"colab-df-container\">\n",
              "    <div>\n",
              "<style scoped>\n",
              "    .dataframe tbody tr th:only-of-type {\n",
              "        vertical-align: middle;\n",
              "    }\n",
              "\n",
              "    .dataframe tbody tr th {\n",
              "        vertical-align: top;\n",
              "    }\n",
              "\n",
              "    .dataframe thead th {\n",
              "        text-align: right;\n",
              "    }\n",
              "</style>\n",
              "<table border=\"1\" class=\"dataframe\">\n",
              "  <thead>\n",
              "    <tr style=\"text-align: right;\">\n",
              "      <th></th>\n",
              "      <th>Phase</th>\n",
              "      <th>AF3_Theta</th>\n",
              "      <th>AF3_Alpha</th>\n",
              "      <th>AF3_BetaL</th>\n",
              "      <th>AF3_BetaH</th>\n",
              "      <th>AF3_Gamma</th>\n",
              "      <th>T7_Theta</th>\n",
              "      <th>T7_Alpha</th>\n",
              "      <th>T7_BetaL</th>\n",
              "      <th>T7_BetaH</th>\n",
              "      <th>...</th>\n",
              "      <th>T8_Theta</th>\n",
              "      <th>T8_Alpha</th>\n",
              "      <th>T8_BetaL</th>\n",
              "      <th>T8_BetaH</th>\n",
              "      <th>T8_Gamma</th>\n",
              "      <th>AF4_Theta</th>\n",
              "      <th>AF4_Alpha</th>\n",
              "      <th>AF4_BetaL</th>\n",
              "      <th>AF4_BetaH</th>\n",
              "      <th>AF4_Gamma</th>\n",
              "    </tr>\n",
              "  </thead>\n",
              "  <tbody>\n",
              "    <tr>\n",
              "      <th>0</th>\n",
              "      <td>Baseline 000</td>\n",
              "      <td>2.491</td>\n",
              "      <td>2.108</td>\n",
              "      <td>0.544</td>\n",
              "      <td>2.437</td>\n",
              "      <td>0.562</td>\n",
              "      <td>1.331</td>\n",
              "      <td>0.485</td>\n",
              "      <td>0.487</td>\n",
              "      <td>2.687</td>\n",
              "      <td>...</td>\n",
              "      <td>1.72</td>\n",
              "      <td>1.423</td>\n",
              "      <td>1.564</td>\n",
              "      <td>4.624</td>\n",
              "      <td>1.89</td>\n",
              "      <td>4.469</td>\n",
              "      <td>2.61</td>\n",
              "      <td>0.486</td>\n",
              "      <td>2.134</td>\n",
              "      <td>0.673</td>\n",
              "    </tr>\n",
              "    <tr>\n",
              "      <th>1</th>\n",
              "      <td>Baseline 000</td>\n",
              "      <td>2.569</td>\n",
              "      <td>2.127</td>\n",
              "      <td>0.651</td>\n",
              "      <td>2.522</td>\n",
              "      <td>0.567</td>\n",
              "      <td>1.193</td>\n",
              "      <td>0.401</td>\n",
              "      <td>0.616</td>\n",
              "      <td>2.201</td>\n",
              "      <td>...</td>\n",
              "      <td>1.719</td>\n",
              "      <td>1.378</td>\n",
              "      <td>1.534</td>\n",
              "      <td>3.993</td>\n",
              "      <td>1.575</td>\n",
              "      <td>4.383</td>\n",
              "      <td>2.534</td>\n",
              "      <td>0.49</td>\n",
              "      <td>2.117</td>\n",
              "      <td>0.685</td>\n",
              "    </tr>\n",
              "    <tr>\n",
              "      <th>2</th>\n",
              "      <td>Baseline 000</td>\n",
              "      <td>2.562</td>\n",
              "      <td>2.233</td>\n",
              "      <td>0.876</td>\n",
              "      <td>2.536</td>\n",
              "      <td>0.595</td>\n",
              "      <td>1.098</td>\n",
              "      <td>0.317</td>\n",
              "      <td>0.745</td>\n",
              "      <td>1.717</td>\n",
              "      <td>...</td>\n",
              "      <td>1.71</td>\n",
              "      <td>1.44</td>\n",
              "      <td>1.466</td>\n",
              "      <td>3.279</td>\n",
              "      <td>1.221</td>\n",
              "      <td>4.062</td>\n",
              "      <td>2.544</td>\n",
              "      <td>0.627</td>\n",
              "      <td>2.064</td>\n",
              "      <td>0.718</td>\n",
              "    </tr>\n",
              "    <tr>\n",
              "      <th>3</th>\n",
              "      <td>Baseline 000</td>\n",
              "      <td>2.476</td>\n",
              "      <td>2.419</td>\n",
              "      <td>1.16</td>\n",
              "      <td>2.468</td>\n",
              "      <td>0.655</td>\n",
              "      <td>1.143</td>\n",
              "      <td>0.274</td>\n",
              "      <td>0.865</td>\n",
              "      <td>1.359</td>\n",
              "      <td>...</td>\n",
              "      <td>1.634</td>\n",
              "      <td>1.596</td>\n",
              "      <td>1.365</td>\n",
              "      <td>2.691</td>\n",
              "      <td>0.932</td>\n",
              "      <td>3.547</td>\n",
              "      <td>2.69</td>\n",
              "      <td>0.827</td>\n",
              "      <td>1.983</td>\n",
              "      <td>0.78</td>\n",
              "    </tr>\n",
              "    <tr>\n",
              "      <th>4</th>\n",
              "      <td>Baseline 000</td>\n",
              "      <td>2.501</td>\n",
              "      <td>2.645</td>\n",
              "      <td>1.439</td>\n",
              "      <td>2.328</td>\n",
              "      <td>0.74</td>\n",
              "      <td>1.304</td>\n",
              "      <td>0.311</td>\n",
              "      <td>0.978</td>\n",
              "      <td>1.217</td>\n",
              "      <td>...</td>\n",
              "      <td>1.524</td>\n",
              "      <td>1.821</td>\n",
              "      <td>1.257</td>\n",
              "      <td>2.34</td>\n",
              "      <td>0.761</td>\n",
              "      <td>3.215</td>\n",
              "      <td>2.957</td>\n",
              "      <td>1.04</td>\n",
              "      <td>1.886</td>\n",
              "      <td>0.855</td>\n",
              "    </tr>\n",
              "  </tbody>\n",
              "</table>\n",
              "<p>5 rows × 26 columns</p>\n",
              "</div>\n",
              "    <div class=\"colab-df-buttons\">\n",
              "\n",
              "  <div class=\"colab-df-container\">\n",
              "    <button class=\"colab-df-convert\" onclick=\"convertToInteractive('df-1bf2c390-2ce2-4834-9877-ddcf8b1265f8')\"\n",
              "            title=\"Convert this dataframe to an interactive table.\"\n",
              "            style=\"display:none;\">\n",
              "\n",
              "  <svg xmlns=\"http://www.w3.org/2000/svg\" height=\"24px\" viewBox=\"0 -960 960 960\">\n",
              "    <path d=\"M120-120v-720h720v720H120Zm60-500h600v-160H180v160Zm220 220h160v-160H400v160Zm0 220h160v-160H400v160ZM180-400h160v-160H180v160Zm440 0h160v-160H620v160ZM180-180h160v-160H180v160Zm440 0h160v-160H620v160Z\"/>\n",
              "  </svg>\n",
              "    </button>\n",
              "\n",
              "  <style>\n",
              "    .colab-df-container {\n",
              "      display:flex;\n",
              "      gap: 12px;\n",
              "    }\n",
              "\n",
              "    .colab-df-convert {\n",
              "      background-color: #E8F0FE;\n",
              "      border: none;\n",
              "      border-radius: 50%;\n",
              "      cursor: pointer;\n",
              "      display: none;\n",
              "      fill: #1967D2;\n",
              "      height: 32px;\n",
              "      padding: 0 0 0 0;\n",
              "      width: 32px;\n",
              "    }\n",
              "\n",
              "    .colab-df-convert:hover {\n",
              "      background-color: #E2EBFA;\n",
              "      box-shadow: 0px 1px 2px rgba(60, 64, 67, 0.3), 0px 1px 3px 1px rgba(60, 64, 67, 0.15);\n",
              "      fill: #174EA6;\n",
              "    }\n",
              "\n",
              "    .colab-df-buttons div {\n",
              "      margin-bottom: 4px;\n",
              "    }\n",
              "\n",
              "    [theme=dark] .colab-df-convert {\n",
              "      background-color: #3B4455;\n",
              "      fill: #D2E3FC;\n",
              "    }\n",
              "\n",
              "    [theme=dark] .colab-df-convert:hover {\n",
              "      background-color: #434B5C;\n",
              "      box-shadow: 0px 1px 3px 1px rgba(0, 0, 0, 0.15);\n",
              "      filter: drop-shadow(0px 1px 2px rgba(0, 0, 0, 0.3));\n",
              "      fill: #FFFFFF;\n",
              "    }\n",
              "  </style>\n",
              "\n",
              "    <script>\n",
              "      const buttonEl =\n",
              "        document.querySelector('#df-1bf2c390-2ce2-4834-9877-ddcf8b1265f8 button.colab-df-convert');\n",
              "      buttonEl.style.display =\n",
              "        google.colab.kernel.accessAllowed ? 'block' : 'none';\n",
              "\n",
              "      async function convertToInteractive(key) {\n",
              "        const element = document.querySelector('#df-1bf2c390-2ce2-4834-9877-ddcf8b1265f8');\n",
              "        const dataTable =\n",
              "          await google.colab.kernel.invokeFunction('convertToInteractive',\n",
              "                                                    [key], {});\n",
              "        if (!dataTable) return;\n",
              "\n",
              "        const docLinkHtml = 'Like what you see? Visit the ' +\n",
              "          '<a target=\"_blank\" href=https://colab.research.google.com/notebooks/data_table.ipynb>data table notebook</a>'\n",
              "          + ' to learn more about interactive tables.';\n",
              "        element.innerHTML = '';\n",
              "        dataTable['output_type'] = 'display_data';\n",
              "        await google.colab.output.renderOutput(dataTable, element);\n",
              "        const docLink = document.createElement('div');\n",
              "        docLink.innerHTML = docLinkHtml;\n",
              "        element.appendChild(docLink);\n",
              "      }\n",
              "    </script>\n",
              "  </div>\n",
              "\n",
              "\n",
              "<div id=\"df-83bed4e1-92ce-477b-91c8-d5fd16b2f025\">\n",
              "  <button class=\"colab-df-quickchart\" onclick=\"quickchart('df-83bed4e1-92ce-477b-91c8-d5fd16b2f025')\"\n",
              "            title=\"Suggest charts\"\n",
              "            style=\"display:none;\">\n",
              "\n",
              "<svg xmlns=\"http://www.w3.org/2000/svg\" height=\"24px\"viewBox=\"0 0 24 24\"\n",
              "     width=\"24px\">\n",
              "    <g>\n",
              "        <path d=\"M19 3H5c-1.1 0-2 .9-2 2v14c0 1.1.9 2 2 2h14c1.1 0 2-.9 2-2V5c0-1.1-.9-2-2-2zM9 17H7v-7h2v7zm4 0h-2V7h2v10zm4 0h-2v-4h2v4z\"/>\n",
              "    </g>\n",
              "</svg>\n",
              "  </button>\n",
              "\n",
              "<style>\n",
              "  .colab-df-quickchart {\n",
              "      --bg-color: #E8F0FE;\n",
              "      --fill-color: #1967D2;\n",
              "      --hover-bg-color: #E2EBFA;\n",
              "      --hover-fill-color: #174EA6;\n",
              "      --disabled-fill-color: #AAA;\n",
              "      --disabled-bg-color: #DDD;\n",
              "  }\n",
              "\n",
              "  [theme=dark] .colab-df-quickchart {\n",
              "      --bg-color: #3B4455;\n",
              "      --fill-color: #D2E3FC;\n",
              "      --hover-bg-color: #434B5C;\n",
              "      --hover-fill-color: #FFFFFF;\n",
              "      --disabled-bg-color: #3B4455;\n",
              "      --disabled-fill-color: #666;\n",
              "  }\n",
              "\n",
              "  .colab-df-quickchart {\n",
              "    background-color: var(--bg-color);\n",
              "    border: none;\n",
              "    border-radius: 50%;\n",
              "    cursor: pointer;\n",
              "    display: none;\n",
              "    fill: var(--fill-color);\n",
              "    height: 32px;\n",
              "    padding: 0;\n",
              "    width: 32px;\n",
              "  }\n",
              "\n",
              "  .colab-df-quickchart:hover {\n",
              "    background-color: var(--hover-bg-color);\n",
              "    box-shadow: 0 1px 2px rgba(60, 64, 67, 0.3), 0 1px 3px 1px rgba(60, 64, 67, 0.15);\n",
              "    fill: var(--button-hover-fill-color);\n",
              "  }\n",
              "\n",
              "  .colab-df-quickchart-complete:disabled,\n",
              "  .colab-df-quickchart-complete:disabled:hover {\n",
              "    background-color: var(--disabled-bg-color);\n",
              "    fill: var(--disabled-fill-color);\n",
              "    box-shadow: none;\n",
              "  }\n",
              "\n",
              "  .colab-df-spinner {\n",
              "    border: 2px solid var(--fill-color);\n",
              "    border-color: transparent;\n",
              "    border-bottom-color: var(--fill-color);\n",
              "    animation:\n",
              "      spin 1s steps(1) infinite;\n",
              "  }\n",
              "\n",
              "  @keyframes spin {\n",
              "    0% {\n",
              "      border-color: transparent;\n",
              "      border-bottom-color: var(--fill-color);\n",
              "      border-left-color: var(--fill-color);\n",
              "    }\n",
              "    20% {\n",
              "      border-color: transparent;\n",
              "      border-left-color: var(--fill-color);\n",
              "      border-top-color: var(--fill-color);\n",
              "    }\n",
              "    30% {\n",
              "      border-color: transparent;\n",
              "      border-left-color: var(--fill-color);\n",
              "      border-top-color: var(--fill-color);\n",
              "      border-right-color: var(--fill-color);\n",
              "    }\n",
              "    40% {\n",
              "      border-color: transparent;\n",
              "      border-right-color: var(--fill-color);\n",
              "      border-top-color: var(--fill-color);\n",
              "    }\n",
              "    60% {\n",
              "      border-color: transparent;\n",
              "      border-right-color: var(--fill-color);\n",
              "    }\n",
              "    80% {\n",
              "      border-color: transparent;\n",
              "      border-right-color: var(--fill-color);\n",
              "      border-bottom-color: var(--fill-color);\n",
              "    }\n",
              "    90% {\n",
              "      border-color: transparent;\n",
              "      border-bottom-color: var(--fill-color);\n",
              "    }\n",
              "  }\n",
              "</style>\n",
              "\n",
              "  <script>\n",
              "    async function quickchart(key) {\n",
              "      const quickchartButtonEl =\n",
              "        document.querySelector('#' + key + ' button');\n",
              "      quickchartButtonEl.disabled = true;  // To prevent multiple clicks.\n",
              "      quickchartButtonEl.classList.add('colab-df-spinner');\n",
              "      try {\n",
              "        const charts = await google.colab.kernel.invokeFunction(\n",
              "            'suggestCharts', [key], {});\n",
              "      } catch (error) {\n",
              "        console.error('Error during call to suggestCharts:', error);\n",
              "      }\n",
              "      quickchartButtonEl.classList.remove('colab-df-spinner');\n",
              "      quickchartButtonEl.classList.add('colab-df-quickchart-complete');\n",
              "    }\n",
              "    (() => {\n",
              "      let quickchartButtonEl =\n",
              "        document.querySelector('#df-83bed4e1-92ce-477b-91c8-d5fd16b2f025 button');\n",
              "      quickchartButtonEl.style.display =\n",
              "        google.colab.kernel.accessAllowed ? 'block' : 'none';\n",
              "    })();\n",
              "  </script>\n",
              "</div>\n",
              "    </div>\n",
              "  </div>\n"
            ]
          },
          "metadata": {},
          "execution_count": 111
        }
      ]
    },
    {
      "cell_type": "code",
      "source": [
        "phases"
      ],
      "metadata": {
        "id": "rrJl69LZC1rn",
        "colab": {
          "base_uri": "https://localhost:8080/"
        },
        "outputId": "dccfaccf-fefb-4c13-da1d-bd923e887cd9"
      },
      "execution_count": 112,
      "outputs": [
        {
          "output_type": "execute_result",
          "data": {
            "text/plain": [
              "['Baseline 000',\n",
              " 'baseline occhi chiusi',\n",
              " 'Test macchinine che funzionano, magari',\n",
              " 'sudoku',\n",
              " 'Macchinine con musica ',\n",
              " 'Macchinine Giuste',\n",
              " 'boh',\n",
              " 'baseline 001',\n",
              " 'Macchinine 1',\n",
              " 'Sudoku',\n",
              " 'sudoku + macchine',\n",
              " 'Baseline 002',\n",
              " 'Baseline occhi chiusi',\n",
              " 'macchinine 2',\n",
              " 'Baseline 003',\n",
              " 'occhi chiusi',\n",
              " 'macchinine 1',\n",
              " 'macchinine + fine sudoku',\n",
              " 'baseline occhi aperti',\n",
              " 'Macchinine 2.0',\n",
              " 'Baseline 005',\n",
              " 'Macchinine1',\n",
              " 'M1',\n",
              " 'Waves,       AF3/theta,AF3/alpha,AF3/betaL,AF3/betaH,AF3/gamma,T7/theta,T7/alpha,T7/betaL,T7/betaH,T7/gamma,Pz/theta,Pz/alpha,Pz/betaL,Pz/betaH,Pz/gamma,T8/theta,T8/alpha,T8/betaL,T8/betaH,T8/gamma,AF4/theta,AF4/alpha,AF4/betaL,AF4/betaH,AF4/gamma',\n",
              " 'Baseline 006 F23',\n",
              " '222',\n",
              " 'macchine 2',\n",
              " 'm1',\n",
              " 'baseline 007',\n",
              " 'Baseline 008',\n",
              " 'Baseline occhi aperti 009',\n",
              " 'Macchinine 2',\n",
              " 'baseline occhi aperti 010',\n",
              " 'nulla',\n",
              " 'baseline 011',\n",
              " '& C:/Users/Cerio/AppData/Local/Microsoft/WindowsApps/python3.8.exe \"c:/Users/Cerio/Studio/Poli - Biomedica/2 - 2/info/infoProgrammale/ProgrammiMiei/HACKATHON/Test001_py_mouse/EsperimentiNuovi.py\"',\n",
              " 'baseline',\n",
              " 'baseline 014',\n",
              " 'MM1',\n",
              " 'mmm1',\n",
              " 'Macchinine 2 coffee',\n",
              " 'baseline 015',\n",
              " 'Macchinine 3',\n",
              " 'Baseline 016',\n",
              " 'macchinine 3 con cambio macchina',\n",
              " 'M333',\n",
              " 'baseline 017',\n",
              " 'baseline 018',\n",
              " 'Baseline 019',\n",
              " 'baseline 020',\n",
              " 'mm2',\n",
              " 'baseline 021']"
            ]
          },
          "metadata": {},
          "execution_count": 112
        }
      ]
    },
    {
      "cell_type": "code",
      "source": [
        "# MISSING VALUES CHECK\n",
        "df_final.isna().any()"
      ],
      "metadata": {
        "id": "3eZwPSi_HEek",
        "colab": {
          "base_uri": "https://localhost:8080/"
        },
        "outputId": "2d4f0271-2ad5-4f4c-9b49-a9169ca470c1"
      },
      "execution_count": 113,
      "outputs": [
        {
          "output_type": "execute_result",
          "data": {
            "text/plain": [
              "Phase        False\n",
              "AF3_Theta    False\n",
              "AF3_Alpha    False\n",
              "AF3_BetaL    False\n",
              "AF3_BetaH    False\n",
              "AF3_Gamma    False\n",
              "T7_Theta     False\n",
              "T7_Alpha     False\n",
              "T7_BetaL     False\n",
              "T7_BetaH     False\n",
              "T7_Gamma     False\n",
              "Pz_Theta     False\n",
              "Pz_Alpha     False\n",
              "Pz_BetaL     False\n",
              "Pz_BetaH     False\n",
              "Pz_Gamma     False\n",
              "T8_Theta     False\n",
              "T8_Alpha     False\n",
              "T8_BetaL     False\n",
              "T8_BetaH     False\n",
              "T8_Gamma     False\n",
              "AF4_Theta    False\n",
              "AF4_Alpha    False\n",
              "AF4_BetaL    False\n",
              "AF4_BetaH    False\n",
              "AF4_Gamma    False\n",
              "dtype: bool"
            ]
          },
          "metadata": {},
          "execution_count": 113
        }
      ]
    },
    {
      "cell_type": "code",
      "source": [
        "# Use the astype method to convert columns to float\n",
        "columns_to_convert = [\n",
        "    'AF3_Theta', 'AF3_Alpha', 'AF3_BetaL', 'AF3_BetaH', 'AF3_Gamma',\n",
        "    'T7_Theta', 'T7_Alpha', 'T7_BetaL', 'T7_BetaH', 'T7_Gamma',\n",
        "    'Pz_Theta', 'Pz_Alpha', 'Pz_BetaL', 'Pz_BetaH', 'Pz_Gamma',\n",
        "    'T8_Theta', 'T8_Alpha', 'T8_BetaL', 'T8_BetaH', 'T8_Gamma',\n",
        "    'AF4_Theta', 'AF4_Alpha', 'AF4_BetaL', 'AF4_BetaH', 'AF4_Gamma'\n",
        "]\n",
        "\n",
        "# total df\n",
        "df_final[columns_to_convert] = df_final[columns_to_convert].astype(float)\n",
        "\n",
        "# all dfs\n",
        "for i in dfs_list:\n",
        "  i[columns_to_convert] = i[columns_to_convert].astype(float)"
      ],
      "metadata": {
        "id": "6wqt0211HKUY"
      },
      "execution_count": 114,
      "outputs": []
    },
    {
      "cell_type": "code",
      "source": [
        "print(df_final.dtypes)"
      ],
      "metadata": {
        "id": "yxRAnptDHN0k",
        "colab": {
          "base_uri": "https://localhost:8080/"
        },
        "outputId": "cab1dad9-78b9-4396-8e37-846cd9b0c47b"
      },
      "execution_count": 115,
      "outputs": [
        {
          "output_type": "stream",
          "name": "stdout",
          "text": [
            "Phase         object\n",
            "AF3_Theta    float64\n",
            "AF3_Alpha    float64\n",
            "AF3_BetaL    float64\n",
            "AF3_BetaH    float64\n",
            "AF3_Gamma    float64\n",
            "T7_Theta     float64\n",
            "T7_Alpha     float64\n",
            "T7_BetaL     float64\n",
            "T7_BetaH     float64\n",
            "T7_Gamma     float64\n",
            "Pz_Theta     float64\n",
            "Pz_Alpha     float64\n",
            "Pz_BetaL     float64\n",
            "Pz_BetaH     float64\n",
            "Pz_Gamma     float64\n",
            "T8_Theta     float64\n",
            "T8_Alpha     float64\n",
            "T8_BetaL     float64\n",
            "T8_BetaH     float64\n",
            "T8_Gamma     float64\n",
            "AF4_Theta    float64\n",
            "AF4_Alpha    float64\n",
            "AF4_BetaL    float64\n",
            "AF4_BetaH    float64\n",
            "AF4_Gamma    float64\n",
            "dtype: object\n"
          ]
        }
      ]
    },
    {
      "cell_type": "markdown",
      "source": [
        "---\n",
        "# ***CLASSIFICATION***\n",
        "---"
      ],
      "metadata": {
        "id": "6U0tXnro4ljJ"
      }
    },
    {
      "cell_type": "code",
      "source": [
        "# I need only data, not phase names\n",
        "x = df_final\n",
        "z = x.drop(columns = 'Phase')\n",
        "\n",
        "# Conversion to numpy array\n",
        "xnew = z.to_numpy()\n",
        "# Let's check the shape\n",
        "print(xnew.shape)"
      ],
      "metadata": {
        "id": "5oZ9YmU94l9P",
        "colab": {
          "base_uri": "https://localhost:8080/"
        },
        "outputId": "cdb94335-a0e8-4f22-c521-35068aeec03e"
      },
      "execution_count": 116,
      "outputs": [
        {
          "output_type": "stream",
          "name": "stdout",
          "text": [
            "(39361, 25)\n"
          ]
        }
      ]
    },
    {
      "cell_type": "code",
      "source": [
        "# Labels: I need a one-hot encoder. I realize the most basic (and stupid) one.\n",
        "# I know there also the tfkl function \"to_categorical()\" but I gives me an error\n",
        "# and now I don't have time to solve it\n",
        "y = df_final['Phase']\n",
        "\n",
        "labels = []\n",
        "for i in y:\n",
        "  if i == \"Baseline 000\" or i == \"baseline 001\" or i == \"Baseline 002\" or i == \"Baseline 003\" or i == \"baseline occhi aperti\" or i == \"Baseline 005\" or i == \"Baseline 006 F23\" or i == \"baseline 007\" or i == \"Baseline 008\" or i == \"Baseline occhi aperti 009\" or i == \"baseline occhi aperti 010\" or i == \"baseline 011\" or i == \"baseline\" or i == \"baseline 014\" or i == \"baseline 015\" or i == \"Baseline 016\" or i == \"baseline 017\" or i == \"baseline 018\" or i == \"Baseline 019\" or i == \"baseline 020\" or i == \"baseline 021\":\n",
        "    labels.append(1)\n",
        "  elif i == 'sudoku' or i == 'Sudoku':\n",
        "    labels.append(0)\n",
        "\n",
        "# conversion to array and shape check\n",
        "labels = np.asarray(labels)\n",
        "print(\"Original labels: \", labels.shape)\n",
        "\n",
        "cat_labels = to_categorical(labels)\n",
        "print(\"Categorical labels: \", cat_labels.shape)"
      ],
      "metadata": {
        "id": "IQ9-GI8P4xQG",
        "colab": {
          "base_uri": "https://localhost:8080/"
        },
        "outputId": "16d65677-fee2-4301-e4cb-8ffa0d55f1b5"
      },
      "execution_count": 117,
      "outputs": [
        {
          "output_type": "stream",
          "name": "stdout",
          "text": [
            "Original labels:  (39361,)\n",
            "Categorical labels:  (39361, 2)\n"
          ]
        }
      ]
    },
    {
      "cell_type": "code",
      "source": [
        "# SPLIT DATA INTO TRAIN AND TEST SET\n",
        "X_train, X_test, y_train, y_test = train_test_split(xnew,\n",
        "                                                    cat_labels,\n",
        "                                                    test_size =0.20,\n",
        "                                                    random_state= seed,\n",
        "                                                    shuffle=True)   #fix random seed for replicability\n",
        "\n",
        "# Now split again into train and validation\n",
        "X_train, X_val, y_train, y_val = train_test_split(X_train, y_train, test_size=0.20, random_state=seed, shuffle=True)\n",
        "\n",
        "print( \"X train shape:\", X_train.shape, \"X test shape:\", X_test.shape, \"X val shape:\", X_val.shape, \"y train shape:\", y_train.shape, \"y test shape:\", y_test.shape, \"y val shape:\", y_val.shape)"
      ],
      "metadata": {
        "id": "ewTV2bDp44lz",
        "colab": {
          "base_uri": "https://localhost:8080/"
        },
        "outputId": "c1a49435-006c-46e4-aab4-7da8aa1da0fa"
      },
      "execution_count": 118,
      "outputs": [
        {
          "output_type": "stream",
          "name": "stdout",
          "text": [
            "X train shape: (25190, 25) X test shape: (7873, 25) X val shape: (6298, 25) y train shape: (25190, 2) y test shape: (7873, 2) y val shape: (6298, 2)\n"
          ]
        }
      ]
    },
    {
      "cell_type": "code",
      "source": [
        "y_train_len = len(y_train)\n",
        "\n",
        "train_labels = labels[:y_train_len]\n",
        "print(len(train_labels))"
      ],
      "metadata": {
        "id": "WRrjJ2__46mo",
        "colab": {
          "base_uri": "https://localhost:8080/"
        },
        "outputId": "59b044f8-a645-4550-afd6-8f1991ad7fb4"
      },
      "execution_count": 119,
      "outputs": [
        {
          "output_type": "stream",
          "name": "stdout",
          "text": [
            "25190\n"
          ]
        }
      ]
    },
    {
      "cell_type": "code",
      "source": [
        "# CLASS BALANCING\n",
        "weights = compute_class_weight('balanced', classes=[0, 1], y=train_labels)\n",
        "\n",
        "# Creare un dizionario di pesi delle classi\n",
        "weights_dict = {classe: peso for classe, peso in zip([0, 1], weights)}\n",
        "\n",
        "# Stampa dei pesi delle classi\n",
        "print(\"Classes weights:\", weights_dict)"
      ],
      "metadata": {
        "id": "ePvA3H07486l",
        "colab": {
          "base_uri": "https://localhost:8080/"
        },
        "outputId": "42f43036-6d7f-4e3a-b6a5-28b4541d7e7e"
      },
      "execution_count": 120,
      "outputs": [
        {
          "output_type": "stream",
          "name": "stdout",
          "text": [
            "Classes weights: {0: 0.646129379777356, 1: 2.21081270844304}\n"
          ]
        }
      ]
    },
    {
      "cell_type": "code",
      "source": [
        "y_train.dtype"
      ],
      "metadata": {
        "id": "_MUsXJdPGlvj",
        "colab": {
          "base_uri": "https://localhost:8080/"
        },
        "outputId": "1848930a-9c7a-412d-a001-a3895f64012f"
      },
      "execution_count": 121,
      "outputs": [
        {
          "output_type": "execute_result",
          "data": {
            "text/plain": [
              "dtype('float32')"
            ]
          },
          "metadata": {},
          "execution_count": 121
        }
      ]
    },
    {
      "cell_type": "code",
      "source": [
        "# my model\n",
        "def CNN1D_classifier(input_shape, label):\n",
        "    input_layer = tfkl.Input(shape=input_shape, name='Input')\n",
        "\n",
        "    cnn = tfkl.Conv1D(512,3,padding='same',activation='relu', name = \"prova\")(input_layer)\n",
        "    cnn = tfkl.MaxPooling1D()(cnn)\n",
        "    cnn = tfkl.Conv1D(512,3,padding='same',activation='relu')(cnn)\n",
        "    gap = tfkl.GlobalAveragePooling1D()(cnn)\n",
        "    dropout = tfkl.Dropout(.3, seed=seed)(gap)\n",
        "\n",
        "    classifier = tfkl.Dense(1024, activation='relu')(dropout)\n",
        "    dropout2 = tfkl.Dropout(.3, seed=seed)(classifier)\n",
        "    output_layer = tfkl.Dense(2, activation='softmax')(dropout2)\n",
        "\n",
        "    # Connect input and output through the Model class\n",
        "    model = tfk.Model(inputs=input_layer, outputs=output_layer, name='model')\n",
        "\n",
        "    opt = tf.keras.optimizers.Adam(\n",
        "      learning_rate = 2e-4,\n",
        "      beta_1=0.9,\n",
        "      beta_2=0.999,\n",
        "      epsilon=1e-08,\n",
        "      amsgrad=False,\n",
        "      name=\"Adam\",\n",
        "    )\n",
        "    # Compile the model\n",
        "    model.compile(loss=tfk.losses.CategoricalCrossentropy(), optimizer=tfk.optimizers.Adam(), metrics='accuracy')\n",
        "    #model.compile(loss=tfk.losses.BinaryCrossentropy(), optimizer=tfk.optimizers.Adam(), metrics='accuracy')\n",
        "\n",
        "\n",
        "    # Return the model\n",
        "    return model\n",
        "\n",
        "model = CNN1D_classifier((25, 1), labels)"
      ],
      "metadata": {
        "id": "ev8BIZKI4-_m"
      },
      "execution_count": 122,
      "outputs": []
    },
    {
      "cell_type": "code",
      "source": [
        "# Train the model\n",
        "history = model.fit(\n",
        "    x = X_train,\n",
        "    y = y_train,\n",
        "    batch_size = 32,\n",
        "    class_weight = weights_dict,\n",
        "    epochs = 32,\n",
        "    validation_data=(X_test, y_test),\n",
        "    callbacks = [tfk.callbacks.EarlyStopping(monitor='val_accuracy', mode='max', patience=20, restore_best_weights=True)] # I should recompile with a higher patience\n",
        ").history"
      ],
      "metadata": {
        "id": "pAXZPe3_5AdX",
        "colab": {
          "base_uri": "https://localhost:8080/"
        },
        "outputId": "096129dc-41f9-4817-ddaa-68ecbcf11cf1"
      },
      "execution_count": 123,
      "outputs": [
        {
          "output_type": "stream",
          "name": "stdout",
          "text": [
            "Epoch 1/32\n",
            "788/788 [==============================] - 6s 6ms/step - loss: 1.0522 - accuracy: 0.7733 - val_loss: 0.8759 - val_accuracy: 0.4627\n",
            "Epoch 2/32\n",
            "788/788 [==============================] - 5s 7ms/step - loss: 0.4944 - accuracy: 0.8021 - val_loss: 0.4138 - val_accuracy: 0.8234\n",
            "Epoch 3/32\n",
            "788/788 [==============================] - 5s 6ms/step - loss: 0.4598 - accuracy: 0.8284 - val_loss: 0.4679 - val_accuracy: 0.7804\n",
            "Epoch 4/32\n",
            "788/788 [==============================] - 4s 5ms/step - loss: 0.5048 - accuracy: 0.8188 - val_loss: 0.3764 - val_accuracy: 0.8331\n",
            "Epoch 5/32\n",
            "788/788 [==============================] - 6s 7ms/step - loss: 0.3567 - accuracy: 0.8461 - val_loss: 0.3180 - val_accuracy: 0.8481\n",
            "Epoch 6/32\n",
            "788/788 [==============================] - 5s 6ms/step - loss: 0.3145 - accuracy: 0.8626 - val_loss: 0.2484 - val_accuracy: 0.8857\n",
            "Epoch 7/32\n",
            "788/788 [==============================] - 4s 5ms/step - loss: 0.3115 - accuracy: 0.8716 - val_loss: 0.3018 - val_accuracy: 0.8557\n",
            "Epoch 8/32\n",
            "788/788 [==============================] - 5s 7ms/step - loss: 0.2922 - accuracy: 0.8807 - val_loss: 0.2407 - val_accuracy: 0.8903\n",
            "Epoch 9/32\n",
            "788/788 [==============================] - 5s 7ms/step - loss: 0.2934 - accuracy: 0.8750 - val_loss: 0.2394 - val_accuracy: 0.8891\n",
            "Epoch 10/32\n",
            "788/788 [==============================] - 4s 5ms/step - loss: 0.2473 - accuracy: 0.8958 - val_loss: 0.2888 - val_accuracy: 0.8617\n",
            "Epoch 11/32\n",
            "788/788 [==============================] - 5s 6ms/step - loss: 0.2971 - accuracy: 0.8912 - val_loss: 0.2978 - val_accuracy: 0.8758\n",
            "Epoch 12/32\n",
            "788/788 [==============================] - 5s 7ms/step - loss: 0.2429 - accuracy: 0.8990 - val_loss: 0.1988 - val_accuracy: 0.9148\n",
            "Epoch 13/32\n",
            "788/788 [==============================] - 4s 6ms/step - loss: 0.2058 - accuracy: 0.9123 - val_loss: 0.1854 - val_accuracy: 0.9259\n",
            "Epoch 14/32\n",
            "788/788 [==============================] - 4s 5ms/step - loss: 0.1957 - accuracy: 0.9173 - val_loss: 0.1585 - val_accuracy: 0.9351\n",
            "Epoch 15/32\n",
            "788/788 [==============================] - 6s 8ms/step - loss: 0.2000 - accuracy: 0.9183 - val_loss: 0.1824 - val_accuracy: 0.9205\n",
            "Epoch 16/32\n",
            "788/788 [==============================] - 4s 6ms/step - loss: 0.2081 - accuracy: 0.9141 - val_loss: 0.1748 - val_accuracy: 0.9289\n",
            "Epoch 17/32\n",
            "788/788 [==============================] - 4s 6ms/step - loss: 0.2350 - accuracy: 0.9100 - val_loss: 0.2098 - val_accuracy: 0.9072\n",
            "Epoch 18/32\n",
            "788/788 [==============================] - 6s 7ms/step - loss: 0.1907 - accuracy: 0.9237 - val_loss: 0.1850 - val_accuracy: 0.9190\n",
            "Epoch 19/32\n",
            "788/788 [==============================] - 5s 6ms/step - loss: 0.1715 - accuracy: 0.9279 - val_loss: 0.1363 - val_accuracy: 0.9430\n",
            "Epoch 20/32\n",
            "788/788 [==============================] - 4s 5ms/step - loss: 0.1657 - accuracy: 0.9335 - val_loss: 0.1440 - val_accuracy: 0.9434\n",
            "Epoch 21/32\n",
            "788/788 [==============================] - 5s 7ms/step - loss: 0.1890 - accuracy: 0.9280 - val_loss: 0.1529 - val_accuracy: 0.9336\n",
            "Epoch 22/32\n",
            "788/788 [==============================] - 5s 6ms/step - loss: 0.1623 - accuracy: 0.9336 - val_loss: 0.1197 - val_accuracy: 0.9531\n",
            "Epoch 23/32\n",
            "788/788 [==============================] - 4s 5ms/step - loss: 0.1554 - accuracy: 0.9384 - val_loss: 0.1287 - val_accuracy: 0.9475\n",
            "Epoch 24/32\n",
            "788/788 [==============================] - 5s 6ms/step - loss: 0.1516 - accuracy: 0.9383 - val_loss: 0.1540 - val_accuracy: 0.9427\n",
            "Epoch 25/32\n",
            "788/788 [==============================] - 6s 8ms/step - loss: 0.1651 - accuracy: 0.9356 - val_loss: 0.1315 - val_accuracy: 0.9489\n",
            "Epoch 26/32\n",
            "788/788 [==============================] - 4s 5ms/step - loss: 0.1622 - accuracy: 0.9414 - val_loss: 0.1118 - val_accuracy: 0.9557\n",
            "Epoch 27/32\n",
            "788/788 [==============================] - 4s 6ms/step - loss: 0.1383 - accuracy: 0.9450 - val_loss: 0.1449 - val_accuracy: 0.9414\n",
            "Epoch 28/32\n",
            "788/788 [==============================] - 6s 7ms/step - loss: 0.1380 - accuracy: 0.9444 - val_loss: 0.1291 - val_accuracy: 0.9460\n",
            "Epoch 29/32\n",
            "788/788 [==============================] - 4s 5ms/step - loss: 0.1503 - accuracy: 0.9446 - val_loss: 0.1147 - val_accuracy: 0.9550\n",
            "Epoch 30/32\n",
            "788/788 [==============================] - 4s 5ms/step - loss: 0.1398 - accuracy: 0.9468 - val_loss: 0.1211 - val_accuracy: 0.9525\n",
            "Epoch 31/32\n",
            "788/788 [==============================] - 6s 8ms/step - loss: 0.1253 - accuracy: 0.9498 - val_loss: 0.1063 - val_accuracy: 0.9580\n",
            "Epoch 32/32\n",
            "788/788 [==============================] - 4s 6ms/step - loss: 0.2627 - accuracy: 0.9315 - val_loss: 0.2497 - val_accuracy: 0.9341\n"
          ]
        }
      ]
    },
    {
      "cell_type": "code",
      "source": [
        "# Plot training & validation accuracy values\n",
        "plt.plot(history['accuracy'])\n",
        "plt.plot(history['val_accuracy'])\n",
        "plt.legend(['train_accuracy', 'val_accuracy'])\n",
        "plt.title('(a) Model accuracy')\n",
        "plt.ylabel('Accuracy')\n",
        "plt.xlabel('Epoch')\n",
        "plt.show()\n",
        "\n",
        "# Plot training & validation loss values\n",
        "plt.plot(history['loss'])\n",
        "plt.plot(history['val_loss'])\n",
        "plt.legend(['train_loss', 'val_loss'])\n",
        "plt.title('(b) Model loss')\n",
        "plt.ylabel('Loss')\n",
        "plt.xlabel('Epoch')\n",
        "plt.show()"
      ],
      "metadata": {
        "id": "jXmDUh035CPd",
        "colab": {
          "base_uri": "https://localhost:8080/",
          "height": 927
        },
        "outputId": "3b964d50-f361-4198-bbca-ac18fa555c25"
      },
      "execution_count": 124,
      "outputs": [
        {
          "output_type": "display_data",
          "data": {
            "text/plain": [
              "<Figure size 640x480 with 1 Axes>"
            ],
            "image/png": "[encoded data removed]"
          },
          "metadata": {}
        },
        {
          "output_type": "display_data",
          "data": {
            "text/plain": [
              "<Figure size 640x480 with 1 Axes>"
            ],
            "image/png": "[encoded data removed]"
          },
          "metadata": {}
        }
      ]
    },
    {
      "cell_type": "code",
      "source": [
        "#X_test = X_test.astype(float)\n",
        "from time import time\n",
        "\n",
        "startTime = time()\n",
        "y_pred = model.predict(X_val)\n",
        "correct_predictions = 0\n",
        "finalTime = time()\n",
        "\n",
        "correct_predictions = np.sum(np.argmax(y_pred, axis=1) == np.argmax(y_val, axis=1))\n",
        "total_predictions = len(y_pred)\n",
        "accuracy_percentage = (correct_predictions / total_predictions) * 100\n",
        "print(f\"Accuracy: {accuracy_percentage:.2f}%\\tTotal time for {total_predictions} predictions: {(finalTime-startTime):.2f} seconds\")"
      ],
      "metadata": {
        "id": "5CEOHGxm5EWM",
        "colab": {
          "base_uri": "https://localhost:8080/"
        },
        "outputId": "89668276-b752-4e22-d0ce-33e95d47da3f"
      },
      "execution_count": 125,
      "outputs": [
        {
          "output_type": "stream",
          "name": "stdout",
          "text": [
            "197/197 [==============================] - 1s 3ms/step\n",
            "Accuracy: 93.55%\tTotal time for 6298 predictions: 1.40 seconds\n"
          ]
        }
      ]
    },
    {
      "cell_type": "markdown",
      "source": [
        "---\n",
        "# ***RIFERIMENTO A BASELINE***\n",
        "---"
      ],
      "metadata": {
        "id": "SLOVugqlzGtr"
      }
    },
    {
      "cell_type": "code",
      "source": [
        "# Supponiamo che il tuo DataFrame sia chiamato df\n",
        "# e la colonna del label sia chiamata 'Label'\n",
        "\n",
        "x3 = x.copy()\n",
        "\n",
        "# Lista di valori per il confronto\n",
        "fasi_di_interesse = [\"Baseline 000\", \"baseline 001\", \"Baseline 002\", \"Baseline 003\", \"baseline occhi aperti\", \"Baseline 005\", \"Baseline 006 F23\", \"baseline 007\",\"Baseline 008\", \"Baseline occhi aperti 009\", \"baseline occhi aperti 010\", \"baseline 011\", \"baseline\", \"baseline 014\", \"baseline 015\", \"Baseline 016\", \"baseline 017\" , \"baseline 018\", \"Baseline 019\", \"baseline 020\", \"baseline 021\"]\n",
        "\n",
        "# Seleziona solo le righe con le fasi di interesse\n",
        "dati_relax = x3[x3['Phase'].str.lower().isin([fase.lower() for fase in fasi_di_interesse])]\n",
        "\n",
        "# Calcola la media e la deviazione standard per le colonne \"relax\"\n",
        "mean_relax = dati_relax.mean()\n",
        "std_relax = dati_relax.std()\n",
        "\n",
        "# Applica la normalizzazione alle colonne \"focus\"\n",
        "nuove_fasi = ['Sudoku', 'sudoku']\n",
        "for fase in nuove_fasi:\n",
        "    dati_fase = x3[x3['Phase'].str.lower() == fase.lower()]\n",
        "    colonne_numeriche = dati_fase.select_dtypes(include='number').columns\n",
        "    x3[colonne_numeriche] = (x3[colonne_numeriche] - mean_relax) / std_relax\n",
        "\n",
        "z3 = x3.drop(columns = 'Phase')\n",
        "\n",
        "# Conversion to numpy array\n",
        "xnew3 = z3.to_numpy()\n",
        "# Let's check the shape\n",
        "print(xnew3.shape)"
      ],
      "metadata": {
        "colab": {
          "base_uri": "https://localhost:8080/"
        },
        "id": "o8NGNEJmJuWk",
        "outputId": "7f63dff4-1948-433e-f951-28c4c4ee3aac"
      },
      "execution_count": 126,
      "outputs": [
        {
          "output_type": "stream",
          "name": "stdout",
          "text": [
            "(39361, 25)\n"
          ]
        },
        {
          "output_type": "stream",
          "name": "stderr",
          "text": [
            "<ipython-input-126-293def18d47f>:13: FutureWarning: The default value of numeric_only in DataFrame.mean is deprecated. In a future version, it will default to False. In addition, specifying 'numeric_only=None' is deprecated. Select only valid columns or specify the value of numeric_only to silence this warning.\n",
            "  mean_relax = dati_relax.mean()\n",
            "<ipython-input-126-293def18d47f>:14: FutureWarning: The default value of numeric_only in DataFrame.std is deprecated. In a future version, it will default to False. In addition, specifying 'numeric_only=None' is deprecated. Select only valid columns or specify the value of numeric_only to silence this warning.\n",
            "  std_relax = dati_relax.std()\n"
          ]
        }
      ]
    },
    {
      "cell_type": "code",
      "source": [
        "# SPLIT DATA INTO TRAIN AND TEST SET\n",
        "X_train3, X_test3, y_train3, y_test3 = train_test_split(xnew3, cat_labels,\n",
        "                                                    test_size =0.20,\n",
        "                                                    random_state= seed,\n",
        "                                                    shuffle = True)   #fix random seed for replicability\n",
        "\n",
        "# Now split again into train and validation\n",
        "X_train3, X_val3, y_train3, y_val3 = train_test_split(X_train3, y_train3, test_size=0.20, random_state=seed, shuffle=True)\n",
        "\n",
        "print( \"X train shape:\", X_train3.shape, \"X test shape:\", X_test3.shape, \"X val shape:\", X_val3.shape, \"y train shape:\", y_train3.shape, \"y test shape:\", y_test3.shape, \"y val shape:\", y_val3.shape)"
      ],
      "metadata": {
        "colab": {
          "base_uri": "https://localhost:8080/"
        },
        "id": "hfeWHc0kKh-e",
        "outputId": "9d3f39b3-ca26-49f1-9d00-da5f39f90f9c"
      },
      "execution_count": 127,
      "outputs": [
        {
          "output_type": "stream",
          "name": "stdout",
          "text": [
            "X train shape: (25190, 25) X test shape: (7873, 25) X val shape: (6298, 25) y train shape: (25190, 2) y test shape: (7873, 2) y val shape: (6298, 2)\n"
          ]
        }
      ]
    },
    {
      "cell_type": "code",
      "source": [
        "y_train_len = len(y_train3)\n",
        "\n",
        "train_labels = labels[:y_train_len]\n",
        "print(len(train_labels))"
      ],
      "metadata": {
        "colab": {
          "base_uri": "https://localhost:8080/"
        },
        "id": "YKZgyCwXNGtq",
        "outputId": "f5c44326-5425-4ba9-d535-afb2f96eeda6"
      },
      "execution_count": 128,
      "outputs": [
        {
          "output_type": "stream",
          "name": "stdout",
          "text": [
            "25190\n"
          ]
        }
      ]
    },
    {
      "cell_type": "code",
      "source": [
        "# Train the model\n",
        "history = model.fit(\n",
        "    x = X_train3,\n",
        "    y = y_train3,\n",
        "    batch_size = 32,\n",
        "    class_weight = weights_dict,\n",
        "    epochs = 32,\n",
        "    validation_data=(X_test3, y_test3),\n",
        "    callbacks = [tfk.callbacks.EarlyStopping(monitor='val_accuracy', mode='max', patience=20, restore_best_weights=True)] # I should recompile with a higher patience\n",
        ").history"
      ],
      "metadata": {
        "colab": {
          "base_uri": "https://localhost:8080/"
        },
        "id": "EGjvACksK4Xo",
        "outputId": "1077f9a4-a44c-4615-934a-71867a2deff2"
      },
      "execution_count": 129,
      "outputs": [
        {
          "output_type": "stream",
          "name": "stdout",
          "text": [
            "Epoch 1/32\n",
            "788/788 [==============================] - 5s 7ms/step - loss: 0.7818 - accuracy: 0.7432 - val_loss: 0.4446 - val_accuracy: 0.7780\n",
            "Epoch 2/32\n",
            "788/788 [==============================] - 4s 5ms/step - loss: 0.4254 - accuracy: 0.7920 - val_loss: 0.3881 - val_accuracy: 0.8153\n",
            "Epoch 3/32\n",
            "788/788 [==============================] - 4s 5ms/step - loss: 0.4018 - accuracy: 0.8095 - val_loss: 0.3450 - val_accuracy: 0.8359\n",
            "Epoch 4/32\n",
            "788/788 [==============================] - 6s 8ms/step - loss: 0.3924 - accuracy: 0.8141 - val_loss: 0.3334 - val_accuracy: 0.8444\n",
            "Epoch 5/32\n",
            "788/788 [==============================] - 4s 6ms/step - loss: 0.3849 - accuracy: 0.8188 - val_loss: 0.3708 - val_accuracy: 0.8160\n",
            "Epoch 6/32\n",
            "788/788 [==============================] - 4s 5ms/step - loss: 0.3737 - accuracy: 0.8244 - val_loss: 0.3152 - val_accuracy: 0.8599\n",
            "Epoch 7/32\n",
            "788/788 [==============================] - 6s 7ms/step - loss: 0.3644 - accuracy: 0.8242 - val_loss: 0.3116 - val_accuracy: 0.8565\n",
            "Epoch 8/32\n",
            "788/788 [==============================] - 5s 6ms/step - loss: 0.3587 - accuracy: 0.8255 - val_loss: 0.2798 - val_accuracy: 0.8690\n",
            "Epoch 9/32\n",
            "788/788 [==============================] - 4s 5ms/step - loss: 0.3530 - accuracy: 0.8311 - val_loss: 0.3342 - val_accuracy: 0.8228\n",
            "Epoch 10/32\n",
            "788/788 [==============================] - 6s 7ms/step - loss: 0.3454 - accuracy: 0.8314 - val_loss: 0.3020 - val_accuracy: 0.8473\n",
            "Epoch 11/32\n",
            "788/788 [==============================] - 5s 6ms/step - loss: 0.3355 - accuracy: 0.8415 - val_loss: 0.2889 - val_accuracy: 0.8590\n",
            "Epoch 12/32\n",
            "788/788 [==============================] - 4s 5ms/step - loss: 0.3341 - accuracy: 0.8435 - val_loss: 0.2874 - val_accuracy: 0.8616\n",
            "Epoch 13/32\n",
            "788/788 [==============================] - 5s 7ms/step - loss: 0.3337 - accuracy: 0.8464 - val_loss: 0.2809 - val_accuracy: 0.8732\n",
            "Epoch 14/32\n",
            "788/788 [==============================] - 5s 7ms/step - loss: 0.3194 - accuracy: 0.8494 - val_loss: 0.2606 - val_accuracy: 0.8703\n",
            "Epoch 15/32\n",
            "788/788 [==============================] - 4s 5ms/step - loss: 0.3139 - accuracy: 0.8491 - val_loss: 0.2509 - val_accuracy: 0.8878\n",
            "Epoch 16/32\n",
            "788/788 [==============================] - 4s 6ms/step - loss: 0.3123 - accuracy: 0.8516 - val_loss: 0.2716 - val_accuracy: 0.8678\n",
            "Epoch 17/32\n",
            "788/788 [==============================] - 6s 8ms/step - loss: 0.3092 - accuracy: 0.8525 - val_loss: 0.2522 - val_accuracy: 0.8839\n",
            "Epoch 18/32\n",
            "788/788 [==============================] - 4s 5ms/step - loss: 0.3045 - accuracy: 0.8552 - val_loss: 0.2505 - val_accuracy: 0.8787\n",
            "Epoch 19/32\n",
            "788/788 [==============================] - 4s 5ms/step - loss: 0.3039 - accuracy: 0.8564 - val_loss: 0.2625 - val_accuracy: 0.8701\n",
            "Epoch 20/32\n",
            "788/788 [==============================] - 6s 8ms/step - loss: 0.2984 - accuracy: 0.8578 - val_loss: 0.2528 - val_accuracy: 0.8795\n",
            "Epoch 21/32\n",
            "788/788 [==============================] - 4s 5ms/step - loss: 0.2965 - accuracy: 0.8601 - val_loss: 0.2619 - val_accuracy: 0.8730\n",
            "Epoch 22/32\n",
            "788/788 [==============================] - 4s 5ms/step - loss: 0.2899 - accuracy: 0.8650 - val_loss: 0.2456 - val_accuracy: 0.8816\n",
            "Epoch 23/32\n",
            "788/788 [==============================] - 6s 7ms/step - loss: 0.2869 - accuracy: 0.8672 - val_loss: 0.2138 - val_accuracy: 0.9134\n",
            "Epoch 24/32\n",
            "788/788 [==============================] - 5s 6ms/step - loss: 0.2861 - accuracy: 0.8701 - val_loss: 0.2258 - val_accuracy: 0.8991\n",
            "Epoch 25/32\n",
            "788/788 [==============================] - 4s 6ms/step - loss: 0.2824 - accuracy: 0.8699 - val_loss: 0.2272 - val_accuracy: 0.9056\n",
            "Epoch 26/32\n",
            "788/788 [==============================] - 5s 7ms/step - loss: 0.2771 - accuracy: 0.8743 - val_loss: 0.2591 - val_accuracy: 0.8764\n",
            "Epoch 27/32\n",
            "788/788 [==============================] - 5s 7ms/step - loss: 0.2736 - accuracy: 0.8782 - val_loss: 0.2388 - val_accuracy: 0.9016\n",
            "Epoch 28/32\n",
            "788/788 [==============================] - 4s 5ms/step - loss: 0.2736 - accuracy: 0.8762 - val_loss: 0.2221 - val_accuracy: 0.9087\n",
            "Epoch 29/32\n",
            "788/788 [==============================] - 5s 6ms/step - loss: 0.2660 - accuracy: 0.8803 - val_loss: 0.2503 - val_accuracy: 0.8835\n",
            "Epoch 30/32\n",
            "788/788 [==============================] - 5s 7ms/step - loss: 0.2630 - accuracy: 0.8834 - val_loss: 0.2357 - val_accuracy: 0.8864\n",
            "Epoch 31/32\n",
            "788/788 [==============================] - 4s 5ms/step - loss: 0.2597 - accuracy: 0.8874 - val_loss: 0.2191 - val_accuracy: 0.9046\n",
            "Epoch 32/32\n",
            "788/788 [==============================] - 4s 6ms/step - loss: 0.2592 - accuracy: 0.8883 - val_loss: 0.2126 - val_accuracy: 0.9124\n"
          ]
        }
      ]
    },
    {
      "cell_type": "code",
      "source": [
        "# Plot training & validation accuracy values\n",
        "plt.plot(history['accuracy'])\n",
        "plt.plot(history['val_accuracy'])\n",
        "plt.legend(['train_accuracy', 'val_accuracy'])\n",
        "plt.title('(a) Model accuracy')\n",
        "plt.ylabel('Accuracy')\n",
        "plt.xlabel('Epoch')\n",
        "plt.show()\n",
        "\n",
        "# Plot training & validation loss values\n",
        "plt.plot(history['loss'])\n",
        "plt.plot(history['val_loss'])\n",
        "plt.legend(['train_loss', 'val_loss'])\n",
        "plt.title('(b) Model loss')\n",
        "plt.ylabel('Loss')\n",
        "plt.xlabel('Epoch')\n",
        "plt.show()"
      ],
      "metadata": {
        "colab": {
          "base_uri": "https://localhost:8080/",
          "height": 927
        },
        "id": "J2SBDkcMMkxY",
        "outputId": "596cdf4b-3493-4a09-d425-7654e007d46e"
      },
      "execution_count": 130,
      "outputs": [
        {
          "output_type": "display_data",
          "data": {
            "text/plain": [
              "<Figure size 640x480 with 1 Axes>"
            ],
            "image/png": "[encoded data removed]"
          },
          "metadata": {}
        },
        {
          "output_type": "display_data",
          "data": {
            "text/plain": [
              "<Figure size 640x480 with 1 Axes>"
            ],
            "image/png": "[encoded data removed]"
          },
          "metadata": {}
        }
      ]
    },
    {
      "cell_type": "code",
      "source": [
        "#X_test = X_test.astype(float)\n",
        "from time import time\n",
        "\n",
        "startTime = time()\n",
        "y_pred = model.predict(X_val3)\n",
        "correct_predictions = 0\n",
        "finalTime = time()\n",
        "\n",
        "correct_predictions = np.sum(np.argmax(y_pred, axis=1) == np.argmax(y_val3, axis=1))\n",
        "total_predictions = len(y_pred)\n",
        "accuracy_percentage = (correct_predictions / total_predictions) * 100\n",
        "print(f\"Accuracy: {accuracy_percentage:.2f}%\\tTotal time for {total_predictions} predictions: {(finalTime-startTime):.2f} seconds\")"
      ],
      "metadata": {
        "colab": {
          "base_uri": "https://localhost:8080/"
        },
        "id": "fJ7nIOBkLLqo",
        "outputId": "920c1501-3ed2-4c95-b300-903d89e06a37"
      },
      "execution_count": 131,
      "outputs": [
        {
          "output_type": "stream",
          "name": "stdout",
          "text": [
            "197/197 [==============================] - 0s 2ms/step\n",
            "Accuracy: 91.16%\tTotal time for 6298 predictions: 0.67 seconds\n"
          ]
        }
      ]
    },
    {
      "cell_type": "markdown",
      "source": [
        "---\n",
        "# ***KNN + ADABOOST***\n",
        "---"
      ],
      "metadata": {
        "id": "OCasTiwfrske"
      }
    },
    {
      "cell_type": "code",
      "source": [
        "from sklearn.ensemble import AdaBoostClassifier\n",
        "from sklearn.neighbors import KNeighborsClassifier\n",
        "from sklearn.datasets import make_classification\n",
        "from sklearn.model_selection import train_test_split\n",
        "from sklearn.metrics import accuracy_score\n",
        "from sklearn.tree import DecisionTreeClassifier\n",
        "\n",
        "# Crea il classificatore KNN\n",
        "knn_classifier = KNeighborsClassifier(n_neighbors=5)\n",
        "\n",
        "# Crea il classificatore DecisionTreeClassifier come classificatore base per AdaBoost\n",
        "base_classifier = DecisionTreeClassifier(max_depth=1)  # Puoi personalizzare max_depth a seconda delle tue esigenze\n",
        "\n",
        "# Crea il classificatore AdaBoost con DecisionTreeClassifier come classificatore base\n",
        "adaboost_classifier = AdaBoostClassifier(base_estimator=base_classifier, n_estimators=50, random_state=42)\n",
        "\n",
        "\n",
        "# Addestra il modello\n",
        "adaboost_classifier.fit(X_train, train_labels)\n",
        "\n",
        "#X_test = X_test.astype(float)\n",
        "from time import time\n",
        "\n",
        "startTime = time()\n",
        "y_pred = model.predict(X_val)\n",
        "correct_predictions = 0\n",
        "finalTime = time()\n",
        "\n",
        "correct_predictions = np.sum(np.argmax(y_pred, axis=1) == np.argmax(y_val, axis=1))\n",
        "total_predictions = len(y_pred)\n",
        "accuracy_percentage = (correct_predictions / total_predictions) * 100\n",
        "print(f\"Accuracy: {accuracy_percentage:.2f}%\\tTotal time for {total_predictions} predictions: {(finalTime-startTime):.2f} seconds\")"
      ],
      "metadata": {
        "colab": {
          "base_uri": "https://localhost:8080/"
        },
        "id": "7RvZkDOOsAjn",
        "outputId": "73ababce-900a-44b5-c2f9-742243168103"
      },
      "execution_count": 132,
      "outputs": [
        {
          "output_type": "stream",
          "name": "stderr",
          "text": [
            "/usr/local/lib/python3.10/dist-packages/sklearn/ensemble/_base.py:166: FutureWarning: `base_estimator` was renamed to `estimator` in version 1.2 and will be removed in 1.4.\n",
            "  warnings.warn(\n"
          ]
        },
        {
          "output_type": "stream",
          "name": "stdout",
          "text": [
            "197/197 [==============================] - 0s 2ms/step\n",
            "Accuracy: 85.36%\tTotal time for 6298 predictions: 0.67 seconds\n"
          ]
        }
      ]
    },
    {
      "cell_type": "code",
      "source": [
        "from sklearn.ensemble import AdaBoostClassifier\n",
        "from sklearn.neighbors import KNeighborsClassifier\n",
        "from sklearn.datasets import make_classification\n",
        "from sklearn.model_selection import train_test_split\n",
        "from sklearn.metrics import accuracy_score\n",
        "from sklearn.tree import DecisionTreeClassifier\n",
        "\n",
        "# Crea il classificatore KNN\n",
        "knn_classifier = KNeighborsClassifier(n_neighbors=5)\n",
        "\n",
        "# Crea il classificatore DecisionTreeClassifier come classificatore base per AdaBoost\n",
        "base_classifier = DecisionTreeClassifier(max_depth=1)  # Puoi personalizzare max_depth a seconda delle tue esigenze\n",
        "\n",
        "# Crea il classificatore AdaBoost con DecisionTreeClassifier come classificatore base\n",
        "adaboost_classifier = AdaBoostClassifier(base_estimator=base_classifier, n_estimators=50, random_state=42)\n",
        "\n",
        "\n",
        "# Addestra il modello\n",
        "adaboost_classifier.fit(X_train3, train_labels)\n",
        "\n",
        "#X_test = X_test.astype(float)\n",
        "from time import time\n",
        "\n",
        "startTime = time()\n",
        "y_pred = model.predict(X_val3)\n",
        "correct_predictions = 0\n",
        "finalTime = time()\n",
        "\n",
        "correct_predictions = np.sum(np.argmax(y_pred, axis=1) == np.argmax(y_val3, axis=1))\n",
        "total_predictions = len(y_pred)\n",
        "accuracy_percentage = (correct_predictions / total_predictions) * 100\n",
        "print(f\"Accuracy: {accuracy_percentage:.2f}%\\tTotal time for {total_predictions} predictions: {(finalTime-startTime):.2f} seconds\")"
      ],
      "metadata": {
        "id": "BMzx4Sbrr7CH",
        "colab": {
          "base_uri": "https://localhost:8080/"
        },
        "outputId": "73cd58fd-fc1c-4856-ba3f-cd406bd22b9c"
      },
      "execution_count": 133,
      "outputs": [
        {
          "output_type": "stream",
          "name": "stderr",
          "text": [
            "/usr/local/lib/python3.10/dist-packages/sklearn/ensemble/_base.py:166: FutureWarning: `base_estimator` was renamed to `estimator` in version 1.2 and will be removed in 1.4.\n",
            "  warnings.warn(\n"
          ]
        },
        {
          "output_type": "stream",
          "name": "stdout",
          "text": [
            "197/197 [==============================] - 1s 3ms/step\n",
            "Accuracy: 91.16%\tTotal time for 6298 predictions: 0.70 seconds\n"
          ]
        }
      ]
    }
  ]
}