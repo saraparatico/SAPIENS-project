{
  "nbformat": 4,
  "nbformat_minor": 0,
  "metadata": {
    "colab": {
      "provenance": [],
      "gpuType": "T4"
    },
    "kernelspec": {
      "name": "python3",
      "display_name": "Python 3"
    },
    "language_info": {
      "name": "python"
    },
    "accelerator": "GPU"
  },
  "cells": [
    {
      "cell_type": "markdown",
      "source": [
        "---\n",
        "# ***SETTINGS***\n",
        "---"
      ],
      "metadata": {
        "id": "dU5dx3zs4T6q"
      }
    },
    {
      "cell_type": "code",
      "execution_count": 1,
      "metadata": {
        "id": "545NYldq4Kt4",
        "colab": {
          "base_uri": "https://localhost:8080/"
        },
        "outputId": "aa7e2d9e-a7e4-4fa5-8ed4-f5969181855f"
      },
      "outputs": [
        {
          "output_type": "stream",
          "name": "stdout",
          "text": [
            "Drive already mounted at /content/gdrive; to attempt to forcibly remount, call drive.mount(\"/content/gdrive\", force_remount=True).\n"
          ]
        }
      ],
      "source": [
        "# SARA: montiamo a drive per collegarci alla cartella desiderata\n",
        "from google.colab import drive\n",
        "drive.mount('/content/gdrive')"
      ]
    },
    {
      "cell_type": "code",
      "source": [
        "# IMPORT LIBRARIES\n",
        "import json\n",
        "import os\n",
        "import pandas as pd\n",
        "import seaborn as sns\n",
        "%matplotlib inline\n",
        "import matplotlib.pyplot as plt\n",
        "import math\n",
        "from re import X\n",
        "import tensorflow as tf\n",
        "from sklearn.utils.class_weight import compute_class_weight\n",
        "from tensorflow.keras.applications import ResNet50\n",
        "from tensorflow.keras.applications.resnet50 import preprocess_input\n",
        "from tensorflow.keras.layers import Flatten, GlobalAveragePooling2D, Multiply, Reshape, Dense\n",
        "from tensorflow.keras.layers import UpSampling2D, Conv2D\n",
        "from tensorflow.keras.preprocessing import image\n",
        "from tensorflow.keras.models import Model\n",
        "from keras.utils import to_categorical\n",
        "from sklearn.model_selection import train_test_split\n",
        "\n",
        "tfk = tf.keras\n",
        "tfkl = tf.keras.layers\n",
        "\n",
        "import random\n",
        "import numpy as np\n",
        "seed = 4\n",
        "\n",
        "random.seed(seed)\n",
        "os.environ['PYTHONHASHSEED'] = str(seed)\n",
        "np.random.seed(seed)\n",
        "tf.random.set_seed(seed)\n",
        "tf.compat.v1.set_random_seed(seed)"
      ],
      "metadata": {
        "id": "jndhE5Kd4RPB"
      },
      "execution_count": 2,
      "outputs": []
    },
    {
      "cell_type": "markdown",
      "source": [
        "---\n",
        "# ***DATAFRAME CREATION***\n",
        "---"
      ],
      "metadata": {
        "id": "IIBOm0Nx4f50"
      }
    },
    {
      "cell_type": "code",
      "source": [
        "# I CREATE A LIST OF SINGLE DATAFRAMES AND THEN I CONCATENATE ALL OF THEM FOR MY FUTURE CLASSIFICATION TASK\n",
        "dfs_list = []\n",
        "lenght =  []\n",
        "phases = []\n",
        "\n",
        "# Iterate through all the JSON files in the specified range\n",
        "for i in range(0, 22):\n",
        "    # Generate the file name (assuming the format is POWxxx.json)\n",
        "    json_file_name = f'POW{i:03d}.json'\n",
        "    json_file_path = os.path.join('/content/gdrive/MyDrive/SAPIENS/DB_Macchinine', json_file_name)\n",
        "\n",
        "    # Check if the file exists before attempting to read it\n",
        "    if os.path.exists(json_file_path):\n",
        "        with open(json_file_path, 'r') as json_file:\n",
        "            data = json.load(json_file)\n",
        "\n",
        "        rows = []\n",
        "        # Iterate through the JSON data\n",
        "        for key, value in data.items():\n",
        "            user_id = value['UserID']\n",
        "            readings = value['Readings']\n",
        "\n",
        "            for reading_key, reading_value in readings.items():\n",
        "                phase = reading_value['Phase']\n",
        "                if phase not in phases:\n",
        "                  phases.append(phase)\n",
        "                if phase in  [\"sudoku\", \"Sudoku\", \"Baseline 000\", \"baseline 001\", \"Baseline 002\", \"Baseline 003\"]:\n",
        "                    time = reading_value['Time']\n",
        "                    af3_theta = reading_value['AF3']['Theta']\n",
        "                    af3_alpha = reading_value['AF3']['Alpha']\n",
        "                    af3_betaL = reading_value['AF3']['BetaL']\n",
        "                    af3_betaH = reading_value['AF3']['BetaH']\n",
        "                    af3_gamma = reading_value['AF3']['Gamma']\n",
        "\n",
        "                    t7_theta = reading_value['T7']['Theta']\n",
        "                    t7_alpha = reading_value['T7']['Alpha']\n",
        "                    t7_betaL = reading_value['T7']['BetaL']\n",
        "                    t7_betaH = reading_value['T7']['BetaH']\n",
        "                    t7_gamma = reading_value['T7']['Gamma']\n",
        "\n",
        "                    pz_theta = reading_value['Pz']['Theta']\n",
        "                    pz_alpha = reading_value['Pz']['Alpha']\n",
        "                    pz_betaL = reading_value['Pz']['BetaL']\n",
        "                    pz_betaH = reading_value['Pz']['BetaH']\n",
        "                    pz_gamma = reading_value['Pz']['Gamma']\n",
        "\n",
        "                    t8_theta = reading_value['T8']['Theta']\n",
        "                    t8_alpha = reading_value['T8']['Alpha']\n",
        "                    t8_betaL = reading_value['T8']['BetaL']\n",
        "                    t8_betaH = reading_value['T8']['BetaH']\n",
        "                    t8_gamma = reading_value['T8']['Gamma']\n",
        "\n",
        "                    af4_theta = reading_value['AF4']['Theta']\n",
        "                    af4_alpha = reading_value['AF4']['Alpha']\n",
        "                    af4_betaL = reading_value['AF4']['BetaL']\n",
        "                    af4_betaH = reading_value['AF4']['BetaH']\n",
        "                    af4_gamma = reading_value['AF4']['Gamma']\n",
        "\n",
        "\n",
        "                    row = [user_id, phase, time, af3_theta, af3_alpha, af3_betaL, af3_betaH, af3_gamma, t7_theta, t7_alpha, t7_betaL, t7_betaH, t7_gamma,\n",
        "                           pz_theta, pz_alpha, pz_betaL, pz_betaH, pz_gamma, t8_theta, t8_alpha, t8_betaL, t8_betaH, t8_gamma,\n",
        "                           af4_theta, af4_alpha, af4_betaL, af4_betaH, af4_gamma]\n",
        "\n",
        "                    rows.append(row)\n",
        "\n",
        "    # Define columns as before\n",
        "    columns = ['UserID', 'Phase', 'Time', 'AF3_Theta', 'AF3_Alpha', 'AF3_BetaL', 'AF3_BetaH', 'AF3_Gamma',\n",
        "           'T7_Theta', 'T7_Alpha', 'T7_BetaL', 'T7_BetaH', 'T7_Gamma',\n",
        "           'Pz_Theta', 'Pz_Alpha', 'Pz_BetaL', 'Pz_BetaH', 'Pz_Gamma',\n",
        "           'T8_Theta', 'T8_Alpha', 'T8_BetaL', 'T8_BetaH', 'T8_Gamma',\n",
        "           'AF4_Theta', 'AF4_Alpha', 'AF4_BetaL', 'AF4_BetaH', 'AF4_Gamma']\n",
        "\n",
        "    # Create a DataFrame from the rows and columns\n",
        "    df = pd.DataFrame(rows, columns=columns)\n",
        "\n",
        "    # Filter the DataFrame to only include rows with 'Phase' as \"sudoku\" or \"baseline occhi chiusi\"\n",
        "    filtered_df = df[df['Phase'].isin([\"Baseline 000\", \"sudoku\", \"baseline 001\", \"Sudoku\", \"Baseline 002\", \"Baseline 003\", \"baseline occhi aperti\", \"Baseline 005\", \"Baseline 006 F23\", \"baseline 007\", \"Baseline 008\", \"Baseline occhi aperti 009\", \"baseline occhi aperti 010\", \"baseline 011\", \"baseline\", \"baseline 014\", \"baseline 015\", \"Baseline 016\", \"baseline 017\", \"baseline 018\", \"Baseline 019\", \"baseline 020\", \"baseline 021\"])]\n",
        "\n",
        "    # I do not need UserID and Time\n",
        "    columns_to_remove = ['UserID', 'Time']\n",
        "    filtered_df.drop(columns=columns_to_remove, inplace=True)\n",
        "    lenght.append(len(filtered_df))\n",
        "\n",
        "    # LIST OF ALL DATAFRAMES\n",
        "    dfs_list.append(filtered_df)\n",
        "\n",
        "# FINAL COLLECTIVE DATAFRAME\n",
        "df_final = pd.concat(dfs_list, ignore_index=True)\n",
        "\n",
        "print(df_final.shape)\n",
        "df_final.head()"
      ],
      "metadata": {
        "id": "gzoyFrzG4ZOS",
        "colab": {
          "base_uri": "https://localhost:8080/",
          "height": 360
        },
        "outputId": "259582ed-6cce-434d-dff4-44150adb1ab2"
      },
      "execution_count": 3,
      "outputs": [
        {
          "output_type": "stream",
          "name": "stdout",
          "text": [
            "(39361, 26)\n"
          ]
        },
        {
          "output_type": "execute_result",
          "data": {
            "text/plain": [
              "          Phase AF3_Theta AF3_Alpha AF3_BetaL AF3_BetaH AF3_Gamma T7_Theta  \\\n",
              "0  Baseline 000     2.491     2.108     0.544     2.437     0.562    1.331   \n",
              "1  Baseline 000     2.569     2.127     0.651     2.522     0.567    1.193   \n",
              "2  Baseline 000     2.562     2.233     0.876     2.536     0.595    1.098   \n",
              "3  Baseline 000     2.476     2.419      1.16     2.468     0.655    1.143   \n",
              "4  Baseline 000     2.501     2.645     1.439     2.328      0.74    1.304   \n",
              "\n",
              "  T7_Alpha T7_BetaL T7_BetaH  ... T8_Theta T8_Alpha T8_BetaL T8_BetaH  \\\n",
              "0    0.485    0.487    2.687  ...     1.72    1.423    1.564    4.624   \n",
              "1    0.401    0.616    2.201  ...    1.719    1.378    1.534    3.993   \n",
              "2    0.317    0.745    1.717  ...     1.71     1.44    1.466    3.279   \n",
              "3    0.274    0.865    1.359  ...    1.634    1.596    1.365    2.691   \n",
              "4    0.311    0.978    1.217  ...    1.524    1.821    1.257     2.34   \n",
              "\n",
              "  T8_Gamma AF4_Theta AF4_Alpha AF4_BetaL AF4_BetaH AF4_Gamma  \n",
              "0     1.89     4.469      2.61     0.486     2.134     0.673  \n",
              "1    1.575     4.383     2.534      0.49     2.117     0.685  \n",
              "2    1.221     4.062     2.544     0.627     2.064     0.718  \n",
              "3    0.932     3.547      2.69     0.827     1.983      0.78  \n",
              "4    0.761     3.215     2.957      1.04     1.886     0.855  \n",
              "\n",
              "[5 rows x 26 columns]"
            ],
            "text/html": [
              "\n",
              "  <div id=\"df-47096fd5-024a-44e5-910d-9333faed3570\" class=\"colab-df-container\">\n",
              "    <div>\n",
              "<style scoped>\n",
              "    .dataframe tbody tr th:only-of-type {\n",
              "        vertical-align: middle;\n",
              "    }\n",
              "\n",
              "    .dataframe tbody tr th {\n",
              "        vertical-align: top;\n",
              "    }\n",
              "\n",
              "    .dataframe thead th {\n",
              "        text-align: right;\n",
              "    }\n",
              "</style>\n",
              "<table border=\"1\" class=\"dataframe\">\n",
              "  <thead>\n",
              "    <tr style=\"text-align: right;\">\n",
              "      <th></th>\n",
              "      <th>Phase</th>\n",
              "      <th>AF3_Theta</th>\n",
              "      <th>AF3_Alpha</th>\n",
              "      <th>AF3_BetaL</th>\n",
              "      <th>AF3_BetaH</th>\n",
              "      <th>AF3_Gamma</th>\n",
              "      <th>T7_Theta</th>\n",
              "      <th>T7_Alpha</th>\n",
              "      <th>T7_BetaL</th>\n",
              "      <th>T7_BetaH</th>\n",
              "      <th>...</th>\n",
              "      <th>T8_Theta</th>\n",
              "      <th>T8_Alpha</th>\n",
              "      <th>T8_BetaL</th>\n",
              "      <th>T8_BetaH</th>\n",
              "      <th>T8_Gamma</th>\n",
              "      <th>AF4_Theta</th>\n",
              "      <th>AF4_Alpha</th>\n",
              "      <th>AF4_BetaL</th>\n",
              "      <th>AF4_BetaH</th>\n",
              "      <th>AF4_Gamma</th>\n",
              "    </tr>\n",
              "  </thead>\n",
              "  <tbody>\n",
              "    <tr>\n",
              "      <th>0</th>\n",
              "      <td>Baseline 000</td>\n",
              "      <td>2.491</td>\n",
              "      <td>2.108</td>\n",
              "      <td>0.544</td>\n",
              "      <td>2.437</td>\n",
              "      <td>0.562</td>\n",
              "      <td>1.331</td>\n",
              "      <td>0.485</td>\n",
              "      <td>0.487</td>\n",
              "      <td>2.687</td>\n",
              "      <td>...</td>\n",
              "      <td>1.72</td>\n",
              "      <td>1.423</td>\n",
              "      <td>1.564</td>\n",
              "      <td>4.624</td>\n",
              "      <td>1.89</td>\n",
              "      <td>4.469</td>\n",
              "      <td>2.61</td>\n",
              "      <td>0.486</td>\n",
              "      <td>2.134</td>\n",
              "      <td>0.673</td>\n",
              "    </tr>\n",
              "    <tr>\n",
              "      <th>1</th>\n",
              "      <td>Baseline 000</td>\n",
              "      <td>2.569</td>\n",
              "      <td>2.127</td>\n",
              "      <td>0.651</td>\n",
              "      <td>2.522</td>\n",
              "      <td>0.567</td>\n",
              "      <td>1.193</td>\n",
              "      <td>0.401</td>\n",
              "      <td>0.616</td>\n",
              "      <td>2.201</td>\n",
              "      <td>...</td>\n",
              "      <td>1.719</td>\n",
              "      <td>1.378</td>\n",
              "      <td>1.534</td>\n",
              "      <td>3.993</td>\n",
              "      <td>1.575</td>\n",
              "      <td>4.383</td>\n",
              "      <td>2.534</td>\n",
              "      <td>0.49</td>\n",
              "      <td>2.117</td>\n",
              "      <td>0.685</td>\n",
              "    </tr>\n",
              "    <tr>\n",
              "      <th>2</th>\n",
              "      <td>Baseline 000</td>\n",
              "      <td>2.562</td>\n",
              "      <td>2.233</td>\n",
              "      <td>0.876</td>\n",
              "      <td>2.536</td>\n",
              "      <td>0.595</td>\n",
              "      <td>1.098</td>\n",
              "      <td>0.317</td>\n",
              "      <td>0.745</td>\n",
              "      <td>1.717</td>\n",
              "      <td>...</td>\n",
              "      <td>1.71</td>\n",
              "      <td>1.44</td>\n",
              "      <td>1.466</td>\n",
              "      <td>3.279</td>\n",
              "      <td>1.221</td>\n",
              "      <td>4.062</td>\n",
              "      <td>2.544</td>\n",
              "      <td>0.627</td>\n",
              "      <td>2.064</td>\n",
              "      <td>0.718</td>\n",
              "    </tr>\n",
              "    <tr>\n",
              "      <th>3</th>\n",
              "      <td>Baseline 000</td>\n",
              "      <td>2.476</td>\n",
              "      <td>2.419</td>\n",
              "      <td>1.16</td>\n",
              "      <td>2.468</td>\n",
              "      <td>0.655</td>\n",
              "      <td>1.143</td>\n",
              "      <td>0.274</td>\n",
              "      <td>0.865</td>\n",
              "      <td>1.359</td>\n",
              "      <td>...</td>\n",
              "      <td>1.634</td>\n",
              "      <td>1.596</td>\n",
              "      <td>1.365</td>\n",
              "      <td>2.691</td>\n",
              "      <td>0.932</td>\n",
              "      <td>3.547</td>\n",
              "      <td>2.69</td>\n",
              "      <td>0.827</td>\n",
              "      <td>1.983</td>\n",
              "      <td>0.78</td>\n",
              "    </tr>\n",
              "    <tr>\n",
              "      <th>4</th>\n",
              "      <td>Baseline 000</td>\n",
              "      <td>2.501</td>\n",
              "      <td>2.645</td>\n",
              "      <td>1.439</td>\n",
              "      <td>2.328</td>\n",
              "      <td>0.74</td>\n",
              "      <td>1.304</td>\n",
              "      <td>0.311</td>\n",
              "      <td>0.978</td>\n",
              "      <td>1.217</td>\n",
              "      <td>...</td>\n",
              "      <td>1.524</td>\n",
              "      <td>1.821</td>\n",
              "      <td>1.257</td>\n",
              "      <td>2.34</td>\n",
              "      <td>0.761</td>\n",
              "      <td>3.215</td>\n",
              "      <td>2.957</td>\n",
              "      <td>1.04</td>\n",
              "      <td>1.886</td>\n",
              "      <td>0.855</td>\n",
              "    </tr>\n",
              "  </tbody>\n",
              "</table>\n",
              "<p>5 rows × 26 columns</p>\n",
              "</div>\n",
              "    <div class=\"colab-df-buttons\">\n",
              "\n",
              "  <div class=\"colab-df-container\">\n",
              "    <button class=\"colab-df-convert\" onclick=\"convertToInteractive('df-47096fd5-024a-44e5-910d-9333faed3570')\"\n",
              "            title=\"Convert this dataframe to an interactive table.\"\n",
              "            style=\"display:none;\">\n",
              "\n",
              "  <svg xmlns=\"http://www.w3.org/2000/svg\" height=\"24px\" viewBox=\"0 -960 960 960\">\n",
              "    <path d=\"M120-120v-720h720v720H120Zm60-500h600v-160H180v160Zm220 220h160v-160H400v160Zm0 220h160v-160H400v160ZM180-400h160v-160H180v160Zm440 0h160v-160H620v160ZM180-180h160v-160H180v160Zm440 0h160v-160H620v160Z\"/>\n",
              "  </svg>\n",
              "    </button>\n",
              "\n",
              "  <style>\n",
              "    .colab-df-container {\n",
              "      display:flex;\n",
              "      gap: 12px;\n",
              "    }\n",
              "\n",
              "    .colab-df-convert {\n",
              "      background-color: #E8F0FE;\n",
              "      border: none;\n",
              "      border-radius: 50%;\n",
              "      cursor: pointer;\n",
              "      display: none;\n",
              "      fill: #1967D2;\n",
              "      height: 32px;\n",
              "      padding: 0 0 0 0;\n",
              "      width: 32px;\n",
              "    }\n",
              "\n",
              "    .colab-df-convert:hover {\n",
              "      background-color: #E2EBFA;\n",
              "      box-shadow: 0px 1px 2px rgba(60, 64, 67, 0.3), 0px 1px 3px 1px rgba(60, 64, 67, 0.15);\n",
              "      fill: #174EA6;\n",
              "    }\n",
              "\n",
              "    .colab-df-buttons div {\n",
              "      margin-bottom: 4px;\n",
              "    }\n",
              "\n",
              "    [theme=dark] .colab-df-convert {\n",
              "      background-color: #3B4455;\n",
              "      fill: #D2E3FC;\n",
              "    }\n",
              "\n",
              "    [theme=dark] .colab-df-convert:hover {\n",
              "      background-color: #434B5C;\n",
              "      box-shadow: 0px 1px 3px 1px rgba(0, 0, 0, 0.15);\n",
              "      filter: drop-shadow(0px 1px 2px rgba(0, 0, 0, 0.3));\n",
              "      fill: #FFFFFF;\n",
              "    }\n",
              "  </style>\n",
              "\n",
              "    <script>\n",
              "      const buttonEl =\n",
              "        document.querySelector('#df-47096fd5-024a-44e5-910d-9333faed3570 button.colab-df-convert');\n",
              "      buttonEl.style.display =\n",
              "        google.colab.kernel.accessAllowed ? 'block' : 'none';\n",
              "\n",
              "      async function convertToInteractive(key) {\n",
              "        const element = document.querySelector('#df-47096fd5-024a-44e5-910d-9333faed3570');\n",
              "        const dataTable =\n",
              "          await google.colab.kernel.invokeFunction('convertToInteractive',\n",
              "                                                    [key], {});\n",
              "        if (!dataTable) return;\n",
              "\n",
              "        const docLinkHtml = 'Like what you see? Visit the ' +\n",
              "          '<a target=\"_blank\" href=https://colab.research.google.com/notebooks/data_table.ipynb>data table notebook</a>'\n",
              "          + ' to learn more about interactive tables.';\n",
              "        element.innerHTML = '';\n",
              "        dataTable['output_type'] = 'display_data';\n",
              "        await google.colab.output.renderOutput(dataTable, element);\n",
              "        const docLink = document.createElement('div');\n",
              "        docLink.innerHTML = docLinkHtml;\n",
              "        element.appendChild(docLink);\n",
              "      }\n",
              "    </script>\n",
              "  </div>\n",
              "\n",
              "\n",
              "<div id=\"df-d9cc224c-8d3e-4300-8e8d-8e625a718478\">\n",
              "  <button class=\"colab-df-quickchart\" onclick=\"quickchart('df-d9cc224c-8d3e-4300-8e8d-8e625a718478')\"\n",
              "            title=\"Suggest charts\"\n",
              "            style=\"display:none;\">\n",
              "\n",
              "<svg xmlns=\"http://www.w3.org/2000/svg\" height=\"24px\"viewBox=\"0 0 24 24\"\n",
              "     width=\"24px\">\n",
              "    <g>\n",
              "        <path d=\"M19 3H5c-1.1 0-2 .9-2 2v14c0 1.1.9 2 2 2h14c1.1 0 2-.9 2-2V5c0-1.1-.9-2-2-2zM9 17H7v-7h2v7zm4 0h-2V7h2v10zm4 0h-2v-4h2v4z\"/>\n",
              "    </g>\n",
              "</svg>\n",
              "  </button>\n",
              "\n",
              "<style>\n",
              "  .colab-df-quickchart {\n",
              "      --bg-color: #E8F0FE;\n",
              "      --fill-color: #1967D2;\n",
              "      --hover-bg-color: #E2EBFA;\n",
              "      --hover-fill-color: #174EA6;\n",
              "      --disabled-fill-color: #AAA;\n",
              "      --disabled-bg-color: #DDD;\n",
              "  }\n",
              "\n",
              "  [theme=dark] .colab-df-quickchart {\n",
              "      --bg-color: #3B4455;\n",
              "      --fill-color: #D2E3FC;\n",
              "      --hover-bg-color: #434B5C;\n",
              "      --hover-fill-color: #FFFFFF;\n",
              "      --disabled-bg-color: #3B4455;\n",
              "      --disabled-fill-color: #666;\n",
              "  }\n",
              "\n",
              "  .colab-df-quickchart {\n",
              "    background-color: var(--bg-color);\n",
              "    border: none;\n",
              "    border-radius: 50%;\n",
              "    cursor: pointer;\n",
              "    display: none;\n",
              "    fill: var(--fill-color);\n",
              "    height: 32px;\n",
              "    padding: 0;\n",
              "    width: 32px;\n",
              "  }\n",
              "\n",
              "  .colab-df-quickchart:hover {\n",
              "    background-color: var(--hover-bg-color);\n",
              "    box-shadow: 0 1px 2px rgba(60, 64, 67, 0.3), 0 1px 3px 1px rgba(60, 64, 67, 0.15);\n",
              "    fill: var(--button-hover-fill-color);\n",
              "  }\n",
              "\n",
              "  .colab-df-quickchart-complete:disabled,\n",
              "  .colab-df-quickchart-complete:disabled:hover {\n",
              "    background-color: var(--disabled-bg-color);\n",
              "    fill: var(--disabled-fill-color);\n",
              "    box-shadow: none;\n",
              "  }\n",
              "\n",
              "  .colab-df-spinner {\n",
              "    border: 2px solid var(--fill-color);\n",
              "    border-color: transparent;\n",
              "    border-bottom-color: var(--fill-color);\n",
              "    animation:\n",
              "      spin 1s steps(1) infinite;\n",
              "  }\n",
              "\n",
              "  @keyframes spin {\n",
              "    0% {\n",
              "      border-color: transparent;\n",
              "      border-bottom-color: var(--fill-color);\n",
              "      border-left-color: var(--fill-color);\n",
              "    }\n",
              "    20% {\n",
              "      border-color: transparent;\n",
              "      border-left-color: var(--fill-color);\n",
              "      border-top-color: var(--fill-color);\n",
              "    }\n",
              "    30% {\n",
              "      border-color: transparent;\n",
              "      border-left-color: var(--fill-color);\n",
              "      border-top-color: var(--fill-color);\n",
              "      border-right-color: var(--fill-color);\n",
              "    }\n",
              "    40% {\n",
              "      border-color: transparent;\n",
              "      border-right-color: var(--fill-color);\n",
              "      border-top-color: var(--fill-color);\n",
              "    }\n",
              "    60% {\n",
              "      border-color: transparent;\n",
              "      border-right-color: var(--fill-color);\n",
              "    }\n",
              "    80% {\n",
              "      border-color: transparent;\n",
              "      border-right-color: var(--fill-color);\n",
              "      border-bottom-color: var(--fill-color);\n",
              "    }\n",
              "    90% {\n",
              "      border-color: transparent;\n",
              "      border-bottom-color: var(--fill-color);\n",
              "    }\n",
              "  }\n",
              "</style>\n",
              "\n",
              "  <script>\n",
              "    async function quickchart(key) {\n",
              "      const quickchartButtonEl =\n",
              "        document.querySelector('#' + key + ' button');\n",
              "      quickchartButtonEl.disabled = true;  // To prevent multiple clicks.\n",
              "      quickchartButtonEl.classList.add('colab-df-spinner');\n",
              "      try {\n",
              "        const charts = await google.colab.kernel.invokeFunction(\n",
              "            'suggestCharts', [key], {});\n",
              "      } catch (error) {\n",
              "        console.error('Error during call to suggestCharts:', error);\n",
              "      }\n",
              "      quickchartButtonEl.classList.remove('colab-df-spinner');\n",
              "      quickchartButtonEl.classList.add('colab-df-quickchart-complete');\n",
              "    }\n",
              "    (() => {\n",
              "      let quickchartButtonEl =\n",
              "        document.querySelector('#df-d9cc224c-8d3e-4300-8e8d-8e625a718478 button');\n",
              "      quickchartButtonEl.style.display =\n",
              "        google.colab.kernel.accessAllowed ? 'block' : 'none';\n",
              "    })();\n",
              "  </script>\n",
              "</div>\n",
              "    </div>\n",
              "  </div>\n"
            ]
          },
          "metadata": {},
          "execution_count": 3
        }
      ]
    },
    {
      "cell_type": "code",
      "source": [
        "# list of phases names in all POW data\n",
        "phases"
      ],
      "metadata": {
        "id": "rrJl69LZC1rn",
        "colab": {
          "base_uri": "https://localhost:8080/"
        },
        "outputId": "b94dda23-f600-4ed0-c687-4dd9b80f6065"
      },
      "execution_count": 4,
      "outputs": [
        {
          "output_type": "execute_result",
          "data": {
            "text/plain": [
              "['Baseline 000',\n",
              " 'baseline occhi chiusi',\n",
              " 'Test macchinine che funzionano, magari',\n",
              " 'sudoku',\n",
              " 'Macchinine con musica ',\n",
              " 'Macchinine Giuste',\n",
              " 'boh',\n",
              " 'baseline 001',\n",
              " 'Macchinine 1',\n",
              " 'Sudoku',\n",
              " 'sudoku + macchine',\n",
              " 'Baseline 002',\n",
              " 'Baseline occhi chiusi',\n",
              " 'macchinine 2',\n",
              " 'Baseline 003',\n",
              " 'occhi chiusi',\n",
              " 'macchinine 1',\n",
              " 'macchinine + fine sudoku',\n",
              " 'baseline occhi aperti',\n",
              " 'Macchinine 2.0',\n",
              " 'Baseline 005',\n",
              " 'Macchinine1',\n",
              " 'M1',\n",
              " 'Waves,       AF3/theta,AF3/alpha,AF3/betaL,AF3/betaH,AF3/gamma,T7/theta,T7/alpha,T7/betaL,T7/betaH,T7/gamma,Pz/theta,Pz/alpha,Pz/betaL,Pz/betaH,Pz/gamma,T8/theta,T8/alpha,T8/betaL,T8/betaH,T8/gamma,AF4/theta,AF4/alpha,AF4/betaL,AF4/betaH,AF4/gamma',\n",
              " 'Baseline 006 F23',\n",
              " '222',\n",
              " 'macchine 2',\n",
              " 'm1',\n",
              " 'baseline 007',\n",
              " 'Baseline 008',\n",
              " 'Baseline occhi aperti 009',\n",
              " 'Macchinine 2',\n",
              " 'baseline occhi aperti 010',\n",
              " 'nulla',\n",
              " 'baseline 011',\n",
              " '& C:/Users/Cerio/AppData/Local/Microsoft/WindowsApps/python3.8.exe \"c:/Users/Cerio/Studio/Poli - Biomedica/2 - 2/info/infoProgrammale/ProgrammiMiei/HACKATHON/Test001_py_mouse/EsperimentiNuovi.py\"',\n",
              " 'baseline',\n",
              " 'baseline 014',\n",
              " 'MM1',\n",
              " 'mmm1',\n",
              " 'Macchinine 2 coffee',\n",
              " 'baseline 015',\n",
              " 'Macchinine 3',\n",
              " 'Baseline 016',\n",
              " 'macchinine 3 con cambio macchina',\n",
              " 'M333',\n",
              " 'baseline 017',\n",
              " 'baseline 018',\n",
              " 'Baseline 019',\n",
              " 'baseline 020',\n",
              " 'mm2',\n",
              " 'baseline 021']"
            ]
          },
          "metadata": {},
          "execution_count": 4
        }
      ]
    },
    {
      "cell_type": "code",
      "source": [
        "# MISSING VALUES CHECK\n",
        "df_final.isna().any()"
      ],
      "metadata": {
        "id": "3eZwPSi_HEek",
        "colab": {
          "base_uri": "https://localhost:8080/"
        },
        "outputId": "eb772a2d-b8b0-4e06-e352-c5e6ae07731c"
      },
      "execution_count": 5,
      "outputs": [
        {
          "output_type": "execute_result",
          "data": {
            "text/plain": [
              "Phase        False\n",
              "AF3_Theta    False\n",
              "AF3_Alpha    False\n",
              "AF3_BetaL    False\n",
              "AF3_BetaH    False\n",
              "AF3_Gamma    False\n",
              "T7_Theta     False\n",
              "T7_Alpha     False\n",
              "T7_BetaL     False\n",
              "T7_BetaH     False\n",
              "T7_Gamma     False\n",
              "Pz_Theta     False\n",
              "Pz_Alpha     False\n",
              "Pz_BetaL     False\n",
              "Pz_BetaH     False\n",
              "Pz_Gamma     False\n",
              "T8_Theta     False\n",
              "T8_Alpha     False\n",
              "T8_BetaL     False\n",
              "T8_BetaH     False\n",
              "T8_Gamma     False\n",
              "AF4_Theta    False\n",
              "AF4_Alpha    False\n",
              "AF4_BetaL    False\n",
              "AF4_BetaH    False\n",
              "AF4_Gamma    False\n",
              "dtype: bool"
            ]
          },
          "metadata": {},
          "execution_count": 5
        }
      ]
    },
    {
      "cell_type": "code",
      "source": [
        "# Use the astype method to convert columns to float\n",
        "columns_to_convert = [\n",
        "    'AF3_Theta', 'AF3_Alpha', 'AF3_BetaL', 'AF3_BetaH', 'AF3_Gamma',\n",
        "    'T7_Theta', 'T7_Alpha', 'T7_BetaL', 'T7_BetaH', 'T7_Gamma',\n",
        "    'Pz_Theta', 'Pz_Alpha', 'Pz_BetaL', 'Pz_BetaH', 'Pz_Gamma',\n",
        "    'T8_Theta', 'T8_Alpha', 'T8_BetaL', 'T8_BetaH', 'T8_Gamma',\n",
        "    'AF4_Theta', 'AF4_Alpha', 'AF4_BetaL', 'AF4_BetaH', 'AF4_Gamma'\n",
        "]\n",
        "\n",
        "# total df\n",
        "df_final[columns_to_convert] = df_final[columns_to_convert].astype(float)\n",
        "\n",
        "# all dfs\n",
        "for i in dfs_list:\n",
        "  i[columns_to_convert] = i[columns_to_convert].astype(float)"
      ],
      "metadata": {
        "id": "6wqt0211HKUY"
      },
      "execution_count": 6,
      "outputs": []
    },
    {
      "cell_type": "code",
      "source": [
        "print(df_final.dtypes)"
      ],
      "metadata": {
        "id": "yxRAnptDHN0k",
        "colab": {
          "base_uri": "https://localhost:8080/"
        },
        "outputId": "5cf11beb-ef84-4eb3-8e37-4664688eba60"
      },
      "execution_count": 7,
      "outputs": [
        {
          "output_type": "stream",
          "name": "stdout",
          "text": [
            "Phase         object\n",
            "AF3_Theta    float64\n",
            "AF3_Alpha    float64\n",
            "AF3_BetaL    float64\n",
            "AF3_BetaH    float64\n",
            "AF3_Gamma    float64\n",
            "T7_Theta     float64\n",
            "T7_Alpha     float64\n",
            "T7_BetaL     float64\n",
            "T7_BetaH     float64\n",
            "T7_Gamma     float64\n",
            "Pz_Theta     float64\n",
            "Pz_Alpha     float64\n",
            "Pz_BetaL     float64\n",
            "Pz_BetaH     float64\n",
            "Pz_Gamma     float64\n",
            "T8_Theta     float64\n",
            "T8_Alpha     float64\n",
            "T8_BetaL     float64\n",
            "T8_BetaH     float64\n",
            "T8_Gamma     float64\n",
            "AF4_Theta    float64\n",
            "AF4_Alpha    float64\n",
            "AF4_BetaL    float64\n",
            "AF4_BetaH    float64\n",
            "AF4_Gamma    float64\n",
            "dtype: object\n"
          ]
        }
      ]
    },
    {
      "cell_type": "markdown",
      "source": [
        "---\n",
        "# ***CLASSIFICATION***\n",
        "---"
      ],
      "metadata": {
        "id": "6U0tXnro4ljJ"
      }
    },
    {
      "cell_type": "code",
      "source": [
        "# I need only data, not phase names\n",
        "x = df_final\n",
        "z = x.drop(columns = 'Phase')\n",
        "\n",
        "# Conversion to numpy array\n",
        "xnew = z.to_numpy()\n",
        "# Let's check the shape\n",
        "print(xnew.shape)"
      ],
      "metadata": {
        "id": "5oZ9YmU94l9P",
        "colab": {
          "base_uri": "https://localhost:8080/"
        },
        "outputId": "cb9af9e8-8fa3-4753-d2c2-ce54c5babf4d"
      },
      "execution_count": 8,
      "outputs": [
        {
          "output_type": "stream",
          "name": "stdout",
          "text": [
            "(39361, 25)\n"
          ]
        }
      ]
    },
    {
      "cell_type": "code",
      "source": [
        "# Labels: I need a one-hot encoder. I realize the most basic (and stupid) one.\n",
        "# I know there also the tfkl function \"to_categorical()\" but I gives me an error\n",
        "# and now I don't have time to solve it\n",
        "y = df_final['Phase']\n",
        "\n",
        "labels = []\n",
        "for i in y:\n",
        "  if i == \"Baseline 000\" or i == \"baseline 001\" or i == \"Baseline 002\" or i == \"Baseline 003\" or i == \"baseline occhi aperti\" or i == \"Baseline 005\" or i == \"Baseline 006 F23\" or i == \"baseline 007\" or i == \"Baseline 008\" or i == \"Baseline occhi aperti 009\" or i == \"baseline occhi aperti 010\" or i == \"baseline 011\" or i == \"baseline\" or i == \"baseline 014\" or i == \"baseline 015\" or i == \"Baseline 016\" or i == \"baseline 017\" or i == \"baseline 018\" or i == \"Baseline 019\" or i == \"baseline 020\" or i == \"baseline 021\":\n",
        "    labels.append(1)\n",
        "  elif i == 'sudoku' or i == 'Sudoku':\n",
        "    labels.append(0)\n",
        "\n",
        "# conversion to array and shape check\n",
        "labels = np.asarray(labels)\n",
        "print(\"Original labels: \", labels.shape)\n",
        "\n",
        "cat_labels = to_categorical(labels)\n",
        "print(\"Categorical labels: \", cat_labels.shape)"
      ],
      "metadata": {
        "id": "IQ9-GI8P4xQG",
        "colab": {
          "base_uri": "https://localhost:8080/"
        },
        "outputId": "52ebe28b-be8a-4cfd-c523-ea9342cfa0af"
      },
      "execution_count": 9,
      "outputs": [
        {
          "output_type": "stream",
          "name": "stdout",
          "text": [
            "Original labels:  (39361,)\n",
            "Categorical labels:  (39361, 2)\n"
          ]
        }
      ]
    },
    {
      "cell_type": "code",
      "source": [
        "# SPLIT DATA INTO TRAIN AND TEST SET\n",
        "X_train, X_test, y_train, y_test = train_test_split(xnew,\n",
        "                                                    cat_labels,\n",
        "                                                    test_size =0.20,\n",
        "                                                    random_state= seed,\n",
        "                                                    shuffle=True)   #fix random seed for replicability\n",
        "\n",
        "# Now split again into train and validation\n",
        "X_train, X_val, y_train, y_val = train_test_split(X_train, y_train, test_size=0.20, random_state=seed, shuffle=True)\n",
        "\n",
        "print( \"X train shape:\", X_train.shape, \"X test shape:\", X_test.shape, \"X val shape:\", X_val.shape, \"y train shape:\", y_train.shape, \"y test shape:\", y_test.shape, \"y val shape:\", y_val.shape)"
      ],
      "metadata": {
        "id": "ewTV2bDp44lz",
        "colab": {
          "base_uri": "https://localhost:8080/"
        },
        "outputId": "0ab733b4-a5a4-42b9-95fa-e708f8361b61"
      },
      "execution_count": 10,
      "outputs": [
        {
          "output_type": "stream",
          "name": "stdout",
          "text": [
            "X train shape: (25190, 25) X test shape: (7873, 25) X val shape: (6298, 25) y train shape: (25190, 2) y test shape: (7873, 2) y val shape: (6298, 2)\n"
          ]
        }
      ]
    },
    {
      "cell_type": "code",
      "source": [
        "# While y_train, y_val ecc.. are categorical, I need train_labels which is not hot-encoded version yet.\n",
        "y_train_len = len(y_train)\n",
        "y_val_len = len(y_val)\n",
        "\n",
        "train_labels = labels[:y_train_len]\n",
        "val_labels = labels[:y_val_len]\n",
        "print(len(train_labels))\n",
        "print(len(val_labels))"
      ],
      "metadata": {
        "id": "WRrjJ2__46mo",
        "colab": {
          "base_uri": "https://localhost:8080/"
        },
        "outputId": "598ce3c6-64c3-4a7e-eb2f-aa81faf9edf4"
      },
      "execution_count": 11,
      "outputs": [
        {
          "output_type": "stream",
          "name": "stdout",
          "text": [
            "25190\n",
            "6298\n"
          ]
        }
      ]
    },
    {
      "cell_type": "code",
      "source": [
        "# CLASS BALANCING\n",
        "weights = compute_class_weight('balanced', classes=[0, 1], y=train_labels)\n",
        "\n",
        "# Creare un dizionario di pesi delle classi\n",
        "weights_dict = {classe: peso for classe, peso in zip([0, 1], weights)}\n",
        "\n",
        "# Stampa dei pesi delle classi\n",
        "print(\"Classes weights:\", weights_dict)"
      ],
      "metadata": {
        "id": "ePvA3H07486l",
        "colab": {
          "base_uri": "https://localhost:8080/"
        },
        "outputId": "0c18672f-4320-480d-c9ba-909753be7451"
      },
      "execution_count": 12,
      "outputs": [
        {
          "output_type": "stream",
          "name": "stdout",
          "text": [
            "Classes weights: {0: 0.646129379777356, 1: 2.21081270844304}\n"
          ]
        }
      ]
    },
    {
      "cell_type": "code",
      "source": [
        "y_train.dtype"
      ],
      "metadata": {
        "id": "_MUsXJdPGlvj",
        "colab": {
          "base_uri": "https://localhost:8080/"
        },
        "outputId": "11d9fa2d-bb4b-4f88-8968-a99456863116"
      },
      "execution_count": 13,
      "outputs": [
        {
          "output_type": "execute_result",
          "data": {
            "text/plain": [
              "dtype('float32')"
            ]
          },
          "metadata": {},
          "execution_count": 13
        }
      ]
    },
    {
      "cell_type": "code",
      "source": [
        "# my model\n",
        "def CNN1D_classifier(input_shape, label):\n",
        "    input_layer = tfkl.Input(shape=input_shape, name='Input')\n",
        "\n",
        "    cnn = tfkl.Conv1D(512,3,padding='same',activation='relu', name = \"prova\")(input_layer)\n",
        "    cnn = tfkl.MaxPooling1D()(cnn)\n",
        "    cnn = tfkl.Conv1D(512,3,padding='same',activation='relu')(cnn)\n",
        "    gap = tfkl.GlobalAveragePooling1D()(cnn)\n",
        "    dropout = tfkl.Dropout(.3, seed=seed)(gap)\n",
        "\n",
        "    classifier = tfkl.Dense(1024, activation='relu')(dropout)\n",
        "    dropout2 = tfkl.Dropout(.3, seed=seed)(classifier)\n",
        "    output_layer = tfkl.Dense(2, activation='softmax')(dropout2)\n",
        "\n",
        "    # Connect input and output through the Model class\n",
        "    model = tfk.Model(inputs=input_layer, outputs=output_layer, name='model')\n",
        "\n",
        "    opt = tf.keras.optimizers.Adam(\n",
        "      learning_rate = 2e-4,\n",
        "      beta_1=0.9,\n",
        "      beta_2=0.999,\n",
        "      epsilon=1e-08,\n",
        "      amsgrad=False,\n",
        "      name=\"Adam\",\n",
        "    )\n",
        "    # Compile the model\n",
        "    model.compile(loss=tfk.losses.CategoricalCrossentropy(), optimizer=tfk.optimizers.Adam(), metrics='accuracy')\n",
        "    #model.compile(loss=tfk.losses.BinaryCrossentropy(), optimizer=tfk.optimizers.Adam(), metrics='accuracy')\n",
        "\n",
        "\n",
        "    # Return the model\n",
        "    return model\n",
        "\n",
        "model = CNN1D_classifier((25, 1), labels)"
      ],
      "metadata": {
        "id": "ev8BIZKI4-_m"
      },
      "execution_count": 14,
      "outputs": []
    },
    {
      "cell_type": "code",
      "source": [
        "# Train the model\n",
        "history = model.fit(\n",
        "    x = X_train,\n",
        "    y = y_train,\n",
        "    batch_size = 32,\n",
        "    class_weight = weights_dict,\n",
        "    epochs = 32,\n",
        "    validation_data=(X_test, y_test),\n",
        "    callbacks = [tfk.callbacks.EarlyStopping(monitor='val_accuracy', mode='max', patience=20, restore_best_weights=True)] # I should recompile with a higher patience\n",
        ").history"
      ],
      "metadata": {
        "id": "pAXZPe3_5AdX",
        "colab": {
          "base_uri": "https://localhost:8080/"
        },
        "outputId": "d41a13c7-e0b3-4c08-8aff-2b15b9d05f8f"
      },
      "execution_count": 15,
      "outputs": [
        {
          "output_type": "stream",
          "name": "stdout",
          "text": [
            "Epoch 1/32\n",
            "788/788 [==============================] - 11s 8ms/step - loss: 1.1674 - accuracy: 0.7582 - val_loss: 0.6501 - val_accuracy: 0.6986\n",
            "Epoch 2/32\n",
            "788/788 [==============================] - 5s 6ms/step - loss: 0.4905 - accuracy: 0.8068 - val_loss: 0.4400 - val_accuracy: 0.8127\n",
            "Epoch 3/32\n",
            "788/788 [==============================] - 5s 6ms/step - loss: 0.4196 - accuracy: 0.8251 - val_loss: 0.4016 - val_accuracy: 0.8062\n",
            "Epoch 4/32\n",
            "788/788 [==============================] - 6s 8ms/step - loss: 0.3773 - accuracy: 0.8337 - val_loss: 0.4097 - val_accuracy: 0.8555\n",
            "Epoch 5/32\n",
            "788/788 [==============================] - 7s 9ms/step - loss: 0.3410 - accuracy: 0.8472 - val_loss: 0.3083 - val_accuracy: 0.8636\n",
            "Epoch 6/32\n",
            "788/788 [==============================] - 11s 14ms/step - loss: 0.3510 - accuracy: 0.8475 - val_loss: 0.5661 - val_accuracy: 0.8616\n",
            "Epoch 7/32\n",
            "788/788 [==============================] - 7s 9ms/step - loss: 0.3317 - accuracy: 0.8561 - val_loss: 0.2924 - val_accuracy: 0.8595\n",
            "Epoch 8/32\n",
            "788/788 [==============================] - 6s 8ms/step - loss: 0.2860 - accuracy: 0.8697 - val_loss: 0.2799 - val_accuracy: 0.8750\n",
            "Epoch 9/32\n",
            "788/788 [==============================] - 5s 6ms/step - loss: 0.3071 - accuracy: 0.8653 - val_loss: 0.2573 - val_accuracy: 0.8736\n",
            "Epoch 10/32\n",
            "788/788 [==============================] - 5s 6ms/step - loss: 0.2612 - accuracy: 0.8841 - val_loss: 0.3103 - val_accuracy: 0.8454\n",
            "Epoch 11/32\n",
            "788/788 [==============================] - 6s 7ms/step - loss: 0.2430 - accuracy: 0.8913 - val_loss: 0.2535 - val_accuracy: 0.8811\n",
            "Epoch 12/32\n",
            "788/788 [==============================] - 5s 7ms/step - loss: 0.2440 - accuracy: 0.8931 - val_loss: 0.2102 - val_accuracy: 0.9046\n",
            "Epoch 13/32\n",
            "788/788 [==============================] - 5s 6ms/step - loss: 0.2252 - accuracy: 0.9020 - val_loss: 0.2771 - val_accuracy: 0.8736\n",
            "Epoch 14/32\n",
            "788/788 [==============================] - 8s 10ms/step - loss: 0.2229 - accuracy: 0.9020 - val_loss: 0.1622 - val_accuracy: 0.9326\n",
            "Epoch 15/32\n",
            "788/788 [==============================] - 6s 7ms/step - loss: 0.2092 - accuracy: 0.9099 - val_loss: 0.1827 - val_accuracy: 0.9196\n",
            "Epoch 16/32\n",
            "788/788 [==============================] - 5s 6ms/step - loss: 0.2327 - accuracy: 0.9058 - val_loss: 0.1807 - val_accuracy: 0.9266\n",
            "Epoch 17/32\n",
            "788/788 [==============================] - 8s 10ms/step - loss: 0.2034 - accuracy: 0.9148 - val_loss: 0.1728 - val_accuracy: 0.9232\n",
            "Epoch 18/32\n",
            "788/788 [==============================] - 5s 6ms/step - loss: 0.1887 - accuracy: 0.9210 - val_loss: 0.1694 - val_accuracy: 0.9277\n",
            "Epoch 19/32\n",
            "788/788 [==============================] - 5s 6ms/step - loss: 0.1923 - accuracy: 0.9208 - val_loss: 0.1298 - val_accuracy: 0.9456\n",
            "Epoch 20/32\n",
            "788/788 [==============================] - 6s 8ms/step - loss: 0.1662 - accuracy: 0.9329 - val_loss: 0.1655 - val_accuracy: 0.9389\n",
            "Epoch 21/32\n",
            "788/788 [==============================] - 5s 6ms/step - loss: 0.2213 - accuracy: 0.9181 - val_loss: 0.1862 - val_accuracy: 0.9159\n",
            "Epoch 22/32\n",
            "788/788 [==============================] - 5s 6ms/step - loss: 0.1776 - accuracy: 0.9253 - val_loss: 0.1265 - val_accuracy: 0.9470\n",
            "Epoch 23/32\n",
            "788/788 [==============================] - 8s 10ms/step - loss: 0.1558 - accuracy: 0.9368 - val_loss: 0.1386 - val_accuracy: 0.9436\n",
            "Epoch 24/32\n",
            "788/788 [==============================] - 5s 6ms/step - loss: 0.1450 - accuracy: 0.9407 - val_loss: 0.1556 - val_accuracy: 0.9331\n",
            "Epoch 25/32\n",
            "788/788 [==============================] - 5s 6ms/step - loss: 0.1655 - accuracy: 0.9330 - val_loss: 0.1207 - val_accuracy: 0.9536\n",
            "Epoch 26/32\n",
            "788/788 [==============================] - 6s 8ms/step - loss: 0.1595 - accuracy: 0.9398 - val_loss: 0.1311 - val_accuracy: 0.9481\n",
            "Epoch 27/32\n",
            "788/788 [==============================] - 5s 6ms/step - loss: 0.1602 - accuracy: 0.9414 - val_loss: 0.1438 - val_accuracy: 0.9394\n",
            "Epoch 28/32\n",
            "788/788 [==============================] - 5s 6ms/step - loss: 0.1437 - accuracy: 0.9451 - val_loss: 0.1266 - val_accuracy: 0.9454\n",
            "Epoch 29/32\n",
            "788/788 [==============================] - 7s 8ms/step - loss: 0.1477 - accuracy: 0.9441 - val_loss: 0.1117 - val_accuracy: 0.9522\n",
            "Epoch 30/32\n",
            "788/788 [==============================] - 5s 6ms/step - loss: 0.1306 - accuracy: 0.9483 - val_loss: 0.1693 - val_accuracy: 0.9275\n",
            "Epoch 31/32\n",
            "788/788 [==============================] - 5s 6ms/step - loss: 0.1385 - accuracy: 0.9477 - val_loss: 0.1146 - val_accuracy: 0.9539\n",
            "Epoch 32/32\n",
            "788/788 [==============================] - 6s 8ms/step - loss: 0.1262 - accuracy: 0.9516 - val_loss: 0.1050 - val_accuracy: 0.9552\n"
          ]
        }
      ]
    },
    {
      "cell_type": "code",
      "source": [
        "# Plot training & validation accuracy values\n",
        "plt.plot(history['accuracy'])\n",
        "plt.plot(history['val_accuracy'])\n",
        "plt.legend(['train_accuracy', 'val_accuracy'])\n",
        "plt.title('(a) Model accuracy')\n",
        "plt.ylabel('Accuracy')\n",
        "plt.xlabel('Epoch')\n",
        "plt.show()\n",
        "\n",
        "# Plot training & validation loss values\n",
        "plt.plot(history['loss'])\n",
        "plt.plot(history['val_loss'])\n",
        "plt.legend(['train_loss', 'val_loss'])\n",
        "plt.title('(b) Model loss')\n",
        "plt.ylabel('Loss')\n",
        "plt.xlabel('Epoch')\n",
        "plt.show()"
      ],
      "metadata": {
        "id": "jXmDUh035CPd",
        "colab": {
          "base_uri": "https://localhost:8080/",
          "height": 927
        },
        "outputId": "92d29b06-f431-4451-dfc1-b26e2cee19d5"
      },
      "execution_count": 16,
      "outputs": [
        {
          "output_type": "display_data",
          "data": {
            "text/plain": [
              "<Figure size 640x480 with 1 Axes>"
            ],
            "image/png": "[encoded data removed]"
          },
          "metadata": {}
        },
        {
          "output_type": "display_data",
          "data": {
            "text/plain": [
              "<Figure size 640x480 with 1 Axes>"
            ],
            "image/png": "[encoded data removed]"
          },
          "metadata": {}
        }
      ]
    },
    {
      "cell_type": "code",
      "source": [
        "#X_test = X_test.astype(float)\n",
        "from time import time\n",
        "\n",
        "startTime = time()\n",
        "y_pred = model.predict(X_val)\n",
        "correct_predictions = 0\n",
        "finalTime = time()\n",
        "\n",
        "correct_predictions = np.sum(np.argmax(y_pred, axis=1) == np.argmax(y_val, axis=1))\n",
        "total_predictions = len(y_pred)\n",
        "accuracy_percentage = (correct_predictions / total_predictions) * 100\n",
        "print(f\"Accuracy: {accuracy_percentage:.2f}%\\tTotal time for {total_predictions} predictions: {(finalTime-startTime):.2f} seconds\")"
      ],
      "metadata": {
        "id": "5CEOHGxm5EWM",
        "colab": {
          "base_uri": "https://localhost:8080/"
        },
        "outputId": "44993177-038a-41bd-b2c5-2c9b55719010"
      },
      "execution_count": 17,
      "outputs": [
        {
          "output_type": "stream",
          "name": "stdout",
          "text": [
            "197/197 [==============================] - 1s 3ms/step\n",
            "Accuracy: 95.65%\tTotal time for 6298 predictions: 1.47 seconds\n"
          ]
        }
      ]
    },
    {
      "cell_type": "markdown",
      "source": [
        "---\n",
        "# ***RIFERIMENTO A BASELINE***\n",
        "---"
      ],
      "metadata": {
        "id": "SLOVugqlzGtr"
      }
    },
    {
      "cell_type": "code",
      "source": [
        "# Supponiamo che il tuo DataFrame sia chiamato df\n",
        "# e la colonna del label sia chiamata 'Label'\n",
        "\n",
        "x3 = x.copy()\n",
        "\n",
        "# Lista di valori per il confronto\n",
        "fasi_di_interesse = [\"Baseline 000\", \"baseline 001\", \"Baseline 002\", \"Baseline 003\", \"baseline occhi aperti\", \"Baseline 005\", \"Baseline 006 F23\", \"baseline 007\",\"Baseline 008\", \"Baseline occhi aperti 009\", \"baseline occhi aperti 010\", \"baseline 011\", \"baseline\", \"baseline 014\", \"baseline 015\", \"Baseline 016\", \"baseline 017\" , \"baseline 018\", \"Baseline 019\", \"baseline 020\", \"baseline 021\"]\n",
        "\n",
        "# Seleziona solo le righe con le fasi di interesse\n",
        "dati_relax = x3[x3['Phase'].str.lower().isin([fase.lower() for fase in fasi_di_interesse])]\n",
        "\n",
        "# Calcola la media e la deviazione standard per le colonne \"relax\"\n",
        "mean_relax = dati_relax.mean()\n",
        "std_relax = dati_relax.std()\n",
        "\n",
        "# Applica la normalizzazione alle colonne \"focus\"\n",
        "nuove_fasi = ['Sudoku', 'sudoku']\n",
        "for fase in nuove_fasi:\n",
        "    dati_fase = x3[x3['Phase'].str.lower() == fase.lower()]\n",
        "    colonne_numeriche = dati_fase.select_dtypes(include='number').columns\n",
        "    x3[colonne_numeriche] = (x3[colonne_numeriche] - mean_relax) / std_relax\n",
        "\n",
        "z3 = x3.drop(columns = 'Phase')\n",
        "\n",
        "# Conversion to numpy array\n",
        "xnew3 = z3.to_numpy()\n",
        "# Let's check the shape\n",
        "print(xnew3.shape)"
      ],
      "metadata": {
        "colab": {
          "base_uri": "https://localhost:8080/"
        },
        "id": "o8NGNEJmJuWk",
        "outputId": "78056800-68fd-4496-8b90-12d9bfe6210c"
      },
      "execution_count": 18,
      "outputs": [
        {
          "output_type": "stream",
          "name": "stdout",
          "text": [
            "(39361, 25)\n"
          ]
        },
        {
          "output_type": "stream",
          "name": "stderr",
          "text": [
            "<ipython-input-18-293def18d47f>:13: FutureWarning: The default value of numeric_only in DataFrame.mean is deprecated. In a future version, it will default to False. In addition, specifying 'numeric_only=None' is deprecated. Select only valid columns or specify the value of numeric_only to silence this warning.\n",
            "  mean_relax = dati_relax.mean()\n",
            "<ipython-input-18-293def18d47f>:14: FutureWarning: The default value of numeric_only in DataFrame.std is deprecated. In a future version, it will default to False. In addition, specifying 'numeric_only=None' is deprecated. Select only valid columns or specify the value of numeric_only to silence this warning.\n",
            "  std_relax = dati_relax.std()\n"
          ]
        }
      ]
    },
    {
      "cell_type": "code",
      "source": [
        "# SPLIT DATA INTO TRAIN AND TEST SET\n",
        "X_train3, X_test3, y_train3, y_test3 = train_test_split(xnew3, cat_labels,\n",
        "                                                    test_size =0.20,\n",
        "                                                    random_state= seed,\n",
        "                                                    shuffle = True)   #fix random seed for replicability\n",
        "\n",
        "# Now split again into train and validation\n",
        "X_train3, X_val3, y_train3, y_val3 = train_test_split(X_train3, y_train3, test_size=0.20, random_state=seed, shuffle=True)\n",
        "\n",
        "print( \"X train shape:\", X_train3.shape, \"X test shape:\", X_test3.shape, \"X val shape:\", X_val3.shape, \"y train shape:\", y_train3.shape, \"y test shape:\", y_test3.shape, \"y val shape:\", y_val3.shape)"
      ],
      "metadata": {
        "colab": {
          "base_uri": "https://localhost:8080/"
        },
        "id": "hfeWHc0kKh-e",
        "outputId": "16333d34-3a3d-4e02-df24-7fc5ec60383b"
      },
      "execution_count": 19,
      "outputs": [
        {
          "output_type": "stream",
          "name": "stdout",
          "text": [
            "X train shape: (25190, 25) X test shape: (7873, 25) X val shape: (6298, 25) y train shape: (25190, 2) y test shape: (7873, 2) y val shape: (6298, 2)\n"
          ]
        }
      ]
    },
    {
      "cell_type": "code",
      "source": [
        "# While y_train, y_val ecc.. are categorical, I need train_labels which is not hot-encoded version yet.\n",
        "y_train_len3 = len(y_train3)\n",
        "y_val_len3 = len(y_val3)\n",
        "\n",
        "train_labels3 = labels[:y_train_len3]\n",
        "val_labels3 = labels[:y_val_len3]\n",
        "print(len(train_labels))\n",
        "print(len(val_labels))"
      ],
      "metadata": {
        "colab": {
          "base_uri": "https://localhost:8080/"
        },
        "id": "YKZgyCwXNGtq",
        "outputId": "ff839e6d-914e-4b77-b762-6f9eb45d1d18"
      },
      "execution_count": 20,
      "outputs": [
        {
          "output_type": "stream",
          "name": "stdout",
          "text": [
            "25190\n",
            "6298\n"
          ]
        }
      ]
    },
    {
      "cell_type": "code",
      "source": [
        "# Train the model\n",
        "history = model.fit(\n",
        "    x = X_train3,\n",
        "    y = y_train3,\n",
        "    batch_size = 32,\n",
        "    class_weight = weights_dict,\n",
        "    epochs = 32,\n",
        "    validation_data=(X_test3, y_test3),\n",
        "    callbacks = [tfk.callbacks.EarlyStopping(monitor='val_accuracy', mode='max', patience=20, restore_best_weights=True)] # I should recompile with a higher patience\n",
        ").history"
      ],
      "metadata": {
        "colab": {
          "base_uri": "https://localhost:8080/"
        },
        "id": "EGjvACksK4Xo",
        "outputId": "885137d2-2a8f-4901-fdd9-12eb906e36be"
      },
      "execution_count": 21,
      "outputs": [
        {
          "output_type": "stream",
          "name": "stdout",
          "text": [
            "Epoch 1/32\n",
            "788/788 [==============================] - 5s 7ms/step - loss: 0.7976 - accuracy: 0.7637 - val_loss: 0.4060 - val_accuracy: 0.8408\n",
            "Epoch 2/32\n",
            "788/788 [==============================] - 5s 6ms/step - loss: 0.4125 - accuracy: 0.8097 - val_loss: 0.3379 - val_accuracy: 0.8336\n",
            "Epoch 3/32\n",
            "788/788 [==============================] - 5s 7ms/step - loss: 0.3939 - accuracy: 0.8166 - val_loss: 0.3362 - val_accuracy: 0.8332\n",
            "Epoch 4/32\n",
            "788/788 [==============================] - 6s 7ms/step - loss: 0.3829 - accuracy: 0.8210 - val_loss: 0.2991 - val_accuracy: 0.8694\n",
            "Epoch 5/32\n",
            "788/788 [==============================] - 4s 6ms/step - loss: 0.3700 - accuracy: 0.8258 - val_loss: 0.3105 - val_accuracy: 0.8433\n",
            "Epoch 6/32\n",
            "788/788 [==============================] - 6s 8ms/step - loss: 0.3595 - accuracy: 0.8315 - val_loss: 0.3184 - val_accuracy: 0.8473\n",
            "Epoch 7/32\n",
            "788/788 [==============================] - 5s 7ms/step - loss: 0.3568 - accuracy: 0.8313 - val_loss: 0.2930 - val_accuracy: 0.8589\n",
            "Epoch 8/32\n",
            "788/788 [==============================] - 5s 6ms/step - loss: 0.3394 - accuracy: 0.8398 - val_loss: 0.2818 - val_accuracy: 0.8669\n",
            "Epoch 9/32\n",
            "788/788 [==============================] - 6s 8ms/step - loss: 0.3362 - accuracy: 0.8364 - val_loss: 0.3146 - val_accuracy: 0.8334\n",
            "Epoch 10/32\n",
            "788/788 [==============================] - 6s 7ms/step - loss: 0.3246 - accuracy: 0.8431 - val_loss: 0.2737 - val_accuracy: 0.8702\n",
            "Epoch 11/32\n",
            "788/788 [==============================] - 5s 6ms/step - loss: 0.3187 - accuracy: 0.8472 - val_loss: 0.2697 - val_accuracy: 0.8669\n",
            "Epoch 12/32\n",
            "788/788 [==============================] - 6s 7ms/step - loss: 0.3155 - accuracy: 0.8507 - val_loss: 0.2732 - val_accuracy: 0.8875\n",
            "Epoch 13/32\n",
            "788/788 [==============================] - 6s 7ms/step - loss: 0.3059 - accuracy: 0.8548 - val_loss: 0.2626 - val_accuracy: 0.8751\n",
            "Epoch 14/32\n",
            "788/788 [==============================] - 5s 6ms/step - loss: 0.3033 - accuracy: 0.8544 - val_loss: 0.2389 - val_accuracy: 0.8943\n",
            "Epoch 15/32\n",
            "788/788 [==============================] - 6s 7ms/step - loss: 0.2941 - accuracy: 0.8644 - val_loss: 0.2383 - val_accuracy: 0.8948\n",
            "Epoch 16/32\n",
            "788/788 [==============================] - 6s 7ms/step - loss: 0.2963 - accuracy: 0.8659 - val_loss: 0.2443 - val_accuracy: 0.8857\n",
            "Epoch 17/32\n",
            "788/788 [==============================] - 5s 6ms/step - loss: 0.2905 - accuracy: 0.8672 - val_loss: 0.2253 - val_accuracy: 0.8994\n",
            "Epoch 18/32\n",
            "788/788 [==============================] - 6s 7ms/step - loss: 0.2866 - accuracy: 0.8716 - val_loss: 0.2194 - val_accuracy: 0.9083\n",
            "Epoch 19/32\n",
            "788/788 [==============================] - 6s 7ms/step - loss: 0.2816 - accuracy: 0.8721 - val_loss: 0.2296 - val_accuracy: 0.9101\n",
            "Epoch 20/32\n",
            "788/788 [==============================] - 5s 6ms/step - loss: 0.2796 - accuracy: 0.8772 - val_loss: 0.2375 - val_accuracy: 0.8984\n",
            "Epoch 21/32\n",
            "788/788 [==============================] - 6s 7ms/step - loss: 0.2749 - accuracy: 0.8775 - val_loss: 0.2410 - val_accuracy: 0.8932\n",
            "Epoch 22/32\n",
            "788/788 [==============================] - 6s 7ms/step - loss: 0.2731 - accuracy: 0.8816 - val_loss: 0.2084 - val_accuracy: 0.9149\n",
            "Epoch 23/32\n",
            "788/788 [==============================] - 5s 6ms/step - loss: 0.2713 - accuracy: 0.8802 - val_loss: 0.2138 - val_accuracy: 0.9102\n",
            "Epoch 24/32\n",
            "788/788 [==============================] - 5s 6ms/step - loss: 0.2696 - accuracy: 0.8840 - val_loss: 0.2261 - val_accuracy: 0.8994\n",
            "Epoch 25/32\n",
            "788/788 [==============================] - 6s 7ms/step - loss: 0.2621 - accuracy: 0.8851 - val_loss: 0.2002 - val_accuracy: 0.9220\n",
            "Epoch 26/32\n",
            "788/788 [==============================] - 5s 6ms/step - loss: 0.2601 - accuracy: 0.8859 - val_loss: 0.2239 - val_accuracy: 0.9030\n",
            "Epoch 27/32\n",
            "788/788 [==============================] - 5s 7ms/step - loss: 0.2565 - accuracy: 0.8902 - val_loss: 0.2210 - val_accuracy: 0.9079\n",
            "Epoch 28/32\n",
            "788/788 [==============================] - 6s 7ms/step - loss: 0.2538 - accuracy: 0.8895 - val_loss: 0.3097 - val_accuracy: 0.8478\n",
            "Epoch 29/32\n",
            "788/788 [==============================] - 5s 6ms/step - loss: 0.2525 - accuracy: 0.8893 - val_loss: 0.2337 - val_accuracy: 0.8971\n",
            "Epoch 30/32\n",
            "788/788 [==============================] - 5s 7ms/step - loss: 0.2554 - accuracy: 0.8902 - val_loss: 0.2191 - val_accuracy: 0.9073\n",
            "Epoch 31/32\n",
            "788/788 [==============================] - 7s 8ms/step - loss: 0.2566 - accuracy: 0.8915 - val_loss: 0.2257 - val_accuracy: 0.9007\n",
            "Epoch 32/32\n",
            "788/788 [==============================] - 5s 6ms/step - loss: 0.2488 - accuracy: 0.8954 - val_loss: 0.1964 - val_accuracy: 0.9218\n"
          ]
        }
      ]
    },
    {
      "cell_type": "code",
      "source": [
        "# Plot training & validation accuracy values\n",
        "plt.plot(history['accuracy'])\n",
        "plt.plot(history['val_accuracy'])\n",
        "plt.legend(['train_accuracy', 'val_accuracy'])\n",
        "plt.title('(a) Model accuracy')\n",
        "plt.ylabel('Accuracy')\n",
        "plt.xlabel('Epoch')\n",
        "plt.show()\n",
        "\n",
        "# Plot training & validation loss values\n",
        "plt.plot(history['loss'])\n",
        "plt.plot(history['val_loss'])\n",
        "plt.legend(['train_loss', 'val_loss'])\n",
        "plt.title('(b) Model loss')\n",
        "plt.ylabel('Loss')\n",
        "plt.xlabel('Epoch')\n",
        "plt.show()"
      ],
      "metadata": {
        "colab": {
          "base_uri": "https://localhost:8080/",
          "height": 927
        },
        "id": "J2SBDkcMMkxY",
        "outputId": "a7bbf401-1d9d-463b-a412-771a93787f74"
      },
      "execution_count": 22,
      "outputs": [
        {
          "output_type": "display_data",
          "data": {
            "text/plain": [
              "<Figure size 640x480 with 1 Axes>"
            ],
            "image/png": "[encoded data removed]"
          },
          "metadata": {}
        },
        {
          "output_type": "display_data",
          "data": {
            "text/plain": [
              "<Figure size 640x480 with 1 Axes>"
            ],
            "image/png": "[encoded data removed]"
          },
          "metadata": {}
        }
      ]
    },
    {
      "cell_type": "code",
      "source": [
        "#X_test = X_test.astype(float)\n",
        "from time import time\n",
        "\n",
        "startTime = time()\n",
        "y_pred3 = model.predict(X_val3)\n",
        "correct_predictions = 0\n",
        "finalTime = time()\n",
        "\n",
        "correct_predictions = np.sum(np.argmax(y_pred3, axis=1) == np.argmax(y_val3, axis=1))\n",
        "total_predictions = len(y_pred3)\n",
        "accuracy_percentage = (correct_predictions / total_predictions) * 100\n",
        "print(f\"Accuracy: {accuracy_percentage:.2f}%\\tTotal time for {total_predictions} predictions: {(finalTime-startTime):.2f} seconds\")"
      ],
      "metadata": {
        "colab": {
          "base_uri": "https://localhost:8080/"
        },
        "id": "fJ7nIOBkLLqo",
        "outputId": "2daa9206-6ce3-4abe-b4d0-3f887e28697f"
      },
      "execution_count": 27,
      "outputs": [
        {
          "output_type": "stream",
          "name": "stdout",
          "text": [
            "197/197 [==============================] - 1s 4ms/step\n",
            "Accuracy: 91.47%\tTotal time for 6298 predictions: 1.45 seconds\n"
          ]
        }
      ]
    },
    {
      "cell_type": "code",
      "source": [
        "y_pred3"
      ],
      "metadata": {
        "colab": {
          "base_uri": "https://localhost:8080/"
        },
        "id": "guFexd_h9zCs",
        "outputId": "66ca8918-eb0a-4e48-d154-e9f159072e6c"
      },
      "execution_count": 28,
      "outputs": [
        {
          "output_type": "execute_result",
          "data": {
            "text/plain": [
              "array([[9.9671364e-01, 3.2863549e-03],\n",
              "       [9.9987209e-01, 1.2787826e-04],\n",
              "       [9.9313074e-01, 6.8692896e-03],\n",
              "       ...,\n",
              "       [9.7414804e-01, 2.5851931e-02],\n",
              "       [9.2837745e-01, 7.1622588e-02],\n",
              "       [1.0000000e+00, 0.0000000e+00]], dtype=float32)"
            ]
          },
          "metadata": {},
          "execution_count": 28
        }
      ]
    },
    {
      "cell_type": "markdown",
      "source": [
        "---\n",
        "# ***KNN + ADABOOST***\n",
        "---"
      ],
      "metadata": {
        "id": "OCasTiwfrske"
      }
    },
    {
      "cell_type": "code",
      "source": [
        "from sklearn.ensemble import AdaBoostClassifier\n",
        "from sklearn.neighbors import KNeighborsClassifier\n",
        "from sklearn.datasets import make_classification\n",
        "from sklearn.model_selection import train_test_split\n",
        "from sklearn.metrics import accuracy_score\n",
        "from sklearn.tree import DecisionTreeClassifier\n",
        "\n",
        "# Crea il classificatore KNN\n",
        "knn_classifier = KNeighborsClassifier(n_neighbors=5)\n",
        "\n",
        "# Crea il classificatore DecisionTreeClassifier come classificatore base per AdaBoost\n",
        "base_classifier = DecisionTreeClassifier(max_depth=1)  # Puoi personalizzare max_depth a seconda delle tue esigenze\n",
        "\n",
        "# Crea il classificatore AdaBoost con DecisionTreeClassifier come classificatore base\n",
        "adaboost_classifier = AdaBoostClassifier(base_estimator=base_classifier, n_estimators=50, random_state=42)\n",
        "\n",
        "\n",
        "# Addestra il modello\n",
        "adaboost_classifier.fit(X_train, train_labels)\n",
        "\n",
        "#X_test = X_test.astype(float)\n",
        "from time import time\n",
        "\n",
        "startTime = time()\n",
        "y_pred_ad = model.predict(X_val)\n",
        "correct_predictions = 0\n",
        "finalTime = time()\n",
        "\n",
        "correct_predictions = np.sum(np.argmax(y_pred_ad, axis=1) == np.argmax(y_val, axis=1))\n",
        "total_predictions = len(y_pred_ad)\n",
        "accuracy_percentage = (correct_predictions / total_predictions) * 100\n",
        "print(f\"Accuracy: {accuracy_percentage:.2f}%\\tTotal time for {total_predictions} predictions: {(finalTime-startTime):.2f} seconds\")"
      ],
      "metadata": {
        "colab": {
          "base_uri": "https://localhost:8080/"
        },
        "id": "7RvZkDOOsAjn",
        "outputId": "503a8811-b4ba-419a-83d1-014a6b958afe"
      },
      "execution_count": 25,
      "outputs": [
        {
          "output_type": "stream",
          "name": "stderr",
          "text": [
            "/usr/local/lib/python3.10/dist-packages/sklearn/ensemble/_base.py:166: FutureWarning: `base_estimator` was renamed to `estimator` in version 1.2 and will be removed in 1.4.\n",
            "  warnings.warn(\n"
          ]
        },
        {
          "output_type": "stream",
          "name": "stdout",
          "text": [
            "197/197 [==============================] - 0s 2ms/step\n",
            "Accuracy: 85.36%\tTotal time for 6298 predictions: 0.54 seconds\n"
          ]
        }
      ]
    },
    {
      "cell_type": "code",
      "source": [
        "y_pred_ad"
      ],
      "metadata": {
        "colab": {
          "base_uri": "https://localhost:8080/"
        },
        "id": "bgicnzpw5M3s",
        "outputId": "4f19b120-2522-4f18-9a92-ed3ba1745681"
      },
      "execution_count": 26,
      "outputs": [
        {
          "output_type": "execute_result",
          "data": {
            "text/plain": [
              "array([[1.0000000e+00, 2.4849788e-28],\n",
              "       [1.0000000e+00, 0.0000000e+00],\n",
              "       [1.0000000e+00, 3.0535709e-12],\n",
              "       ...,\n",
              "       [1.0000000e+00, 0.0000000e+00],\n",
              "       [1.0000000e+00, 2.1773586e-11],\n",
              "       [1.0000000e+00, 0.0000000e+00]], dtype=float32)"
            ]
          },
          "metadata": {},
          "execution_count": 26
        }
      ]
    },
    {
      "cell_type": "code",
      "source": [
        "from sklearn.ensemble import AdaBoostClassifier\n",
        "from sklearn.neighbors import KNeighborsClassifier\n",
        "from sklearn.datasets import make_classification\n",
        "from sklearn.model_selection import train_test_split\n",
        "from sklearn.metrics import accuracy_score\n",
        "from sklearn.tree import DecisionTreeClassifier\n",
        "\n",
        "# Crea il classificatore KNN\n",
        "knn_classifier = KNeighborsClassifier(n_neighbors=5)\n",
        "\n",
        "# Crea il classificatore DecisionTreeClassifier come classificatore base per AdaBoost\n",
        "base_classifier = DecisionTreeClassifier(max_depth=1)  # Puoi personalizzare max_depth a seconda delle tue esigenze\n",
        "\n",
        "# Crea il classificatore AdaBoost con DecisionTreeClassifier come classificatore base\n",
        "adaboost_classifier = AdaBoostClassifier(base_estimator=base_classifier, n_estimators=50, random_state=42)\n",
        "\n",
        "\n",
        "# Addestra il modello\n",
        "adaboost_classifier.fit(X_train3, train_labels3)\n",
        "\n",
        "#X_test = X_test.astype(float)\n",
        "from time import time\n",
        "\n",
        "startTime = time()\n",
        "y_pred_ad3 = model.predict(X_val3)\n",
        "correct_predictions = 0\n",
        "finalTime = time()\n",
        "\n",
        "correct_predictions = np.sum(np.argmax(y_pred_ad3, axis=1) == np.argmax(y_val3, axis=1))\n",
        "total_predictions = len(y_pred_ad3)\n",
        "accuracy_percentage = (correct_predictions / total_predictions) * 100\n",
        "print(f\"Accuracy: {accuracy_percentage:.2f}%\\tTotal time for {total_predictions} predictions: {(finalTime-startTime):.2f} seconds\")"
      ],
      "metadata": {
        "id": "BMzx4Sbrr7CH",
        "colab": {
          "base_uri": "https://localhost:8080/"
        },
        "outputId": "adcbcdf9-2a82-40b1-e187-23e0887417f0"
      },
      "execution_count": 29,
      "outputs": [
        {
          "output_type": "stream",
          "name": "stderr",
          "text": [
            "/usr/local/lib/python3.10/dist-packages/sklearn/ensemble/_base.py:166: FutureWarning: `base_estimator` was renamed to `estimator` in version 1.2 and will be removed in 1.4.\n",
            "  warnings.warn(\n"
          ]
        },
        {
          "output_type": "stream",
          "name": "stdout",
          "text": [
            "197/197 [==============================] - 1s 3ms/step\n",
            "Accuracy: 91.47%\tTotal time for 6298 predictions: 0.86 seconds\n"
          ]
        }
      ]
    },
    {
      "cell_type": "code",
      "source": [
        "y_pred_ad3"
      ],
      "metadata": {
        "colab": {
          "base_uri": "https://localhost:8080/"
        },
        "id": "kYtGeuZ05aI7",
        "outputId": "c2a2e259-a503-4638-dcdb-3e31cbb6e23b"
      },
      "execution_count": 30,
      "outputs": [
        {
          "output_type": "execute_result",
          "data": {
            "text/plain": [
              "array([[9.9671364e-01, 3.2863549e-03],\n",
              "       [9.9987209e-01, 1.2787826e-04],\n",
              "       [9.9313074e-01, 6.8692896e-03],\n",
              "       ...,\n",
              "       [9.7414804e-01, 2.5851931e-02],\n",
              "       [9.2837745e-01, 7.1622588e-02],\n",
              "       [1.0000000e+00, 0.0000000e+00]], dtype=float32)"
            ]
          },
          "metadata": {},
          "execution_count": 30
        }
      ]
    },
    {
      "cell_type": "markdown",
      "source": [
        "---\n",
        "# ***DECISION TREE***\n",
        "---"
      ],
      "metadata": {
        "id": "CF2MjjnHaaPn"
      }
    },
    {
      "cell_type": "code",
      "source": [
        "model_dt = DecisionTreeClassifier(criterion='gini', max_depth=9, min_samples_leaf=2, min_samples_split=6)\n",
        "model_dt.fit(X_train, y_train)\n",
        "startTime = time()\n",
        "y_pred_dt = model_dt.predict(X_val)\n",
        "correct_predictions = 0\n",
        "finalTime = time()\n",
        "\n",
        "correct_predictions = np.sum(np.argmax(y_pred_dt, axis=1) == np.argmax(y_val, axis=1))\n",
        "total_predictions = len(y_pred_dt)\n",
        "accuracy_percentage = (correct_predictions / total_predictions) * 100\n",
        "print(f\"Accuracy: {accuracy_percentage:.2f}%\\tTotal time for {total_predictions} predictions: {(finalTime-startTime):.2f} seconds\")"
      ],
      "metadata": {
        "colab": {
          "base_uri": "https://localhost:8080/"
        },
        "id": "nW-1hWJjdL0E",
        "outputId": "8e6ba964-a20d-4460-ae7f-83818cb4f0a1"
      },
      "execution_count": 31,
      "outputs": [
        {
          "output_type": "stream",
          "name": "stdout",
          "text": [
            "Accuracy: 94.25%\tTotal time for 6298 predictions: 0.00 seconds\n"
          ]
        }
      ]
    },
    {
      "cell_type": "code",
      "source": [
        "y_pred_dt"
      ],
      "metadata": {
        "colab": {
          "base_uri": "https://localhost:8080/"
        },
        "id": "hC15WWJ65ph2",
        "outputId": "792e5634-a3c6-46bf-eb22-84363d4d4be1"
      },
      "execution_count": 32,
      "outputs": [
        {
          "output_type": "execute_result",
          "data": {
            "text/plain": [
              "array([[1., 0.],\n",
              "       [1., 0.],\n",
              "       [1., 0.],\n",
              "       ...,\n",
              "       [1., 0.],\n",
              "       [1., 0.],\n",
              "       [1., 0.]], dtype=float32)"
            ]
          },
          "metadata": {},
          "execution_count": 32
        }
      ]
    },
    {
      "cell_type": "code",
      "source": [
        "model_dt = DecisionTreeClassifier(criterion='gini', max_depth=9, min_samples_leaf=2, min_samples_split=6)\n",
        "model_dt.fit(X_train3, y_train3)\n",
        "startTime = time()\n",
        "y_pred_dt3 = model_dt.predict(X_val3)\n",
        "correct_predictions = 0\n",
        "finalTime = time()\n",
        "\n",
        "correct_predictions = np.sum(np.argmax(y_pred_dt3, axis=1) == np.argmax(y_val3, axis=1))\n",
        "total_predictions = len(y_pred_dt3)\n",
        "accuracy_percentage = (correct_predictions / total_predictions) * 100\n",
        "print(f\"Accuracy: {accuracy_percentage:.2f}%\\tTotal time for {total_predictions} predictions: {(finalTime-startTime):.2f} seconds\")"
      ],
      "metadata": {
        "colab": {
          "base_uri": "https://localhost:8080/"
        },
        "id": "OsjMZmz7aWDs",
        "outputId": "9f14f27e-f9cc-485b-fd9a-c181d2d47817"
      },
      "execution_count": 33,
      "outputs": [
        {
          "output_type": "stream",
          "name": "stdout",
          "text": [
            "Accuracy: 94.20%\tTotal time for 6298 predictions: 0.00 seconds\n"
          ]
        }
      ]
    },
    {
      "cell_type": "markdown",
      "source": [
        "---\n",
        "# ***RANDOM FOREST***\n",
        "---"
      ],
      "metadata": {
        "id": "AdZPqMRadWx5"
      }
    },
    {
      "cell_type": "code",
      "source": [
        "from sklearn.ensemble import RandomForestClassifier\n",
        "model_rf = RandomForestClassifier(criterion='gini', max_depth=9, min_samples_leaf=2, min_samples_split=5, n_estimators=100)\n",
        "model_rf.fit(X_train, y_train)\n",
        "startTime = time()\n",
        "y_pred_rf = model_rf.predict(X_val)\n",
        "correct_predictions = 0\n",
        "finalTime = time()\n",
        "\n",
        "correct_predictions = np.sum(np.argmax(y_pred_rf, axis=1) == np.argmax(y_val, axis=1))\n",
        "total_predictions = len(y_pred_rf)\n",
        "accuracy_percentage = (correct_predictions / total_predictions) * 100\n",
        "print(f\"Accuracy: {accuracy_percentage:.2f}%\\tTotal time for {total_predictions} predictions: {(finalTime-startTime):.2f} seconds\")"
      ],
      "metadata": {
        "colab": {
          "base_uri": "https://localhost:8080/"
        },
        "id": "v5ZrNxrdcV3j",
        "outputId": "c85e4eb7-63b6-498f-af02-7a77c6b3d46d"
      },
      "execution_count": 34,
      "outputs": [
        {
          "output_type": "stream",
          "name": "stdout",
          "text": [
            "Accuracy: 94.22%\tTotal time for 6298 predictions: 0.16 seconds\n"
          ]
        }
      ]
    },
    {
      "cell_type": "code",
      "source": [
        "y_pred_rf"
      ],
      "metadata": {
        "colab": {
          "base_uri": "https://localhost:8080/"
        },
        "id": "K1Xv4wCi5yUl",
        "outputId": "8643c3cd-08f7-4ba3-efe2-89d9a4af621e"
      },
      "execution_count": 35,
      "outputs": [
        {
          "output_type": "execute_result",
          "data": {
            "text/plain": [
              "array([[1., 0.],\n",
              "       [1., 0.],\n",
              "       [1., 0.],\n",
              "       ...,\n",
              "       [1., 0.],\n",
              "       [1., 0.],\n",
              "       [1., 0.]], dtype=float32)"
            ]
          },
          "metadata": {},
          "execution_count": 35
        }
      ]
    },
    {
      "cell_type": "code",
      "source": [
        "from sklearn.ensemble import RandomForestClassifier\n",
        "model_rf = RandomForestClassifier(criterion='gini', max_depth=9, min_samples_leaf=2, min_samples_split=5, n_estimators=100)\n",
        "model_rf.fit(X_train3, y_train3)\n",
        "startTime = time()\n",
        "y_pred_rf3 = model_rf.predict(X_val3)\n",
        "correct_predictions = 0\n",
        "finalTime = time()\n",
        "\n",
        "correct_predictions = np.sum(np.argmax(y_pred_rf3, axis=1) == np.argmax(y_val3, axis=1))\n",
        "total_predictions = len(y_pred_rf3)\n",
        "accuracy_percentage = (correct_predictions / total_predictions) * 100\n",
        "print(f\"Accuracy: {accuracy_percentage:.2f}%\\tTotal time for {total_predictions} predictions: {(finalTime-startTime):.2f} seconds\")"
      ],
      "metadata": {
        "colab": {
          "base_uri": "https://localhost:8080/"
        },
        "id": "MCFsaPI-cjlI",
        "outputId": "13c01b48-d479-4845-c2b4-36763f5705bf"
      },
      "execution_count": 36,
      "outputs": [
        {
          "output_type": "stream",
          "name": "stdout",
          "text": [
            "Accuracy: 94.25%\tTotal time for 6298 predictions: 0.51 seconds\n"
          ]
        }
      ]
    },
    {
      "cell_type": "markdown",
      "source": [
        "---\n",
        "# ***SUPPORT VECTOR MACHINE***\n",
        "---"
      ],
      "metadata": {
        "id": "MGsRYGildmpk"
      }
    },
    {
      "cell_type": "code",
      "source": [
        "from sklearn.svm import SVC\n",
        "model_svc = SVC(C=1, degree= 2, gamma= 1, kernel='rbf',probability=True)\n",
        "model_svc.fit(X_train, train_labels)\n",
        "startTime = time()\n",
        "y_pred_sv = model_svc.predict(X_val)\n",
        "correct_predictions = 0\n",
        "finalTime = time()\n",
        "print(y_pred_sv)\n",
        "\n",
        "correct_predictions = np.sum(y_pred_sv == val_labels)\n",
        "total_predictions = len(y_pred_sv)\n",
        "accuracy_percentage = (correct_predictions / total_predictions) * 100\n",
        "print(f\"Accuracy: {accuracy_percentage:.2f}%\\tTotal time for {total_predictions} predictions: {(finalTime-startTime):.2f} seconds\")"
      ],
      "metadata": {
        "colab": {
          "base_uri": "https://localhost:8080/"
        },
        "id": "TemhCAf876op",
        "outputId": "9143d6ad-5378-4522-ad93-adb23da5187d"
      },
      "execution_count": 39,
      "outputs": [
        {
          "output_type": "stream",
          "name": "stdout",
          "text": [
            "[0 0 0 ... 0 0 0]\n",
            "Accuracy: 51.35%\tTotal time for 6298 predictions: 15.26 seconds\n"
          ]
        }
      ]
    },
    {
      "cell_type": "code",
      "source": [
        "y_pred_sv"
      ],
      "metadata": {
        "colab": {
          "base_uri": "https://localhost:8080/"
        },
        "id": "jX_7K7XE99UT",
        "outputId": "7cd08a01-3251-4c9f-ded5-73e47b867121"
      },
      "execution_count": 40,
      "outputs": [
        {
          "output_type": "execute_result",
          "data": {
            "text/plain": [
              "array([0, 0, 0, ..., 0, 0, 0])"
            ]
          },
          "metadata": {},
          "execution_count": 40
        }
      ]
    },
    {
      "cell_type": "code",
      "source": [
        "from sklearn.svm import SVC\n",
        "model_svc = SVC(C=1, degree= 2, gamma= 1, kernel='rbf',probability=True)\n",
        "model_svc.fit(X_train, train_labels)\n",
        "startTime = time()\n",
        "y_pred_sv2 = model_svc.predict(X_val)\n",
        "correct_predictions = 0\n",
        "finalTime = time()\n",
        "y_pred_sv2 = to_categorical(y_pred_sv2)\n",
        "print(y_pred_sv2)\n",
        "\n",
        "correct_predictions = np.sum(np.argmax(y_pred_sv2, axis =1) == np.argmax(y_val, axis=1))\n",
        "total_predictions = len(y_pred_sv)\n",
        "accuracy_percentage = (correct_predictions / total_predictions) * 100\n",
        "print(f\"Accuracy: {accuracy_percentage:.2f}%\\tTotal time for {total_predictions} predictions: {(finalTime-startTime):.2f} seconds\")"
      ],
      "metadata": {
        "colab": {
          "base_uri": "https://localhost:8080/"
        },
        "id": "_kJa36N1-A6v",
        "outputId": "b08005e4-64ae-479c-b34f-7c00d255a716"
      },
      "execution_count": 42,
      "outputs": [
        {
          "output_type": "stream",
          "name": "stdout",
          "text": [
            "[[1. 0.]\n",
            " [1. 0.]\n",
            " [1. 0.]\n",
            " ...\n",
            " [1. 0.]\n",
            " [1. 0.]\n",
            " [1. 0.]]\n",
            "Accuracy: 85.22%\tTotal time for 6298 predictions: 13.57 seconds\n"
          ]
        }
      ]
    },
    {
      "cell_type": "code",
      "source": [
        "y_pred_sv2"
      ],
      "metadata": {
        "colab": {
          "base_uri": "https://localhost:8080/"
        },
        "id": "uqGE4oJPBId6",
        "outputId": "67bfb97f-249b-458b-c861-f81911740c97"
      },
      "execution_count": 43,
      "outputs": [
        {
          "output_type": "execute_result",
          "data": {
            "text/plain": [
              "array([[1., 0.],\n",
              "       [1., 0.],\n",
              "       [1., 0.],\n",
              "       ...,\n",
              "       [1., 0.],\n",
              "       [1., 0.],\n",
              "       [1., 0.]], dtype=float32)"
            ]
          },
          "metadata": {},
          "execution_count": 43
        }
      ]
    }
  ]
}