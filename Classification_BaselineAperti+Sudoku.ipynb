{
  "nbformat": 4,
  "nbformat_minor": 0,
  "metadata": {
    "colab": {
      "provenance": [],
      "gpuType": "T4"
    },
    "kernelspec": {
      "name": "python3",
      "display_name": "Python 3"
    },
    "language_info": {
      "name": "python"
    },
    "accelerator": "GPU"
  },
  "cells": [
    {
      "cell_type": "markdown",
      "source": [
        "---\n",
        "# ***SETTINGS***\n",
        "---"
      ],
      "metadata": {
        "id": "dU5dx3zs4T6q"
      }
    },
    {
      "cell_type": "code",
      "execution_count": 1,
      "metadata": {
        "id": "545NYldq4Kt4",
        "colab": {
          "base_uri": "https://localhost:8080/"
        },
        "outputId": "58bfb84f-02e2-41ad-b7d7-cd8e8c0aad96"
      },
      "outputs": [
        {
          "output_type": "stream",
          "name": "stdout",
          "text": [
            "Mounted at /content/gdrive\n"
          ]
        }
      ],
      "source": [
        "# SARA: montiamo a drive per collegarci alla cartella desiderata\n",
        "from google.colab import drive\n",
        "drive.mount('/content/gdrive')"
      ]
    },
    {
      "cell_type": "code",
      "source": [
        "# IMPORT LIBRARIES\n",
        "import json\n",
        "import os\n",
        "import pandas as pd\n",
        "import seaborn as sns\n",
        "%matplotlib inline\n",
        "import matplotlib.pyplot as plt\n",
        "import math\n",
        "from re import X\n",
        "import tensorflow as tf\n",
        "from sklearn.utils.class_weight import compute_class_weight\n",
        "from tensorflow.keras.applications import ResNet50\n",
        "from tensorflow.keras.applications.resnet50 import preprocess_input\n",
        "from tensorflow.keras.layers import Flatten, GlobalAveragePooling2D, Multiply, Reshape, Dense\n",
        "from tensorflow.keras.layers import UpSampling2D, Conv2D\n",
        "from tensorflow.keras.preprocessing import image\n",
        "from tensorflow.keras.models import Model\n",
        "from keras.utils import to_categorical\n",
        "from sklearn.model_selection import train_test_split\n",
        "\n",
        "tfk = tf.keras\n",
        "tfkl = tf.keras.layers\n",
        "\n",
        "import random\n",
        "import numpy as np\n",
        "seed = 4\n",
        "\n",
        "random.seed(seed)\n",
        "os.environ['PYTHONHASHSEED'] = str(seed)\n",
        "np.random.seed(seed)\n",
        "tf.random.set_seed(seed)\n",
        "tf.compat.v1.set_random_seed(seed)"
      ],
      "metadata": {
        "id": "jndhE5Kd4RPB"
      },
      "execution_count": 2,
      "outputs": []
    },
    {
      "cell_type": "markdown",
      "source": [
        "---\n",
        "# ***DATAFRAME CREATION***\n",
        "---"
      ],
      "metadata": {
        "id": "IIBOm0Nx4f50"
      }
    },
    {
      "cell_type": "code",
      "source": [
        "# I CREATE A LIST OD SINGLE DATAFRAMES AND THEN I CONCATENATE ALL OF THEM FOR MY FUTURE CLASSIFICATION TASK\n",
        "dfs_list = []\n",
        "lenght =  []\n",
        "phases = []\n",
        "\n",
        "# Iterate through all the JSON files in the specified range\n",
        "for i in range(0, 22):\n",
        "    # Generate the file name (assuming the format is POWxxx.json)\n",
        "    json_file_name = f'POW{i:03d}.json'\n",
        "    json_file_path = os.path.join('/content/gdrive/MyDrive/SAPIENS/DB_Macchinine', json_file_name)\n",
        "\n",
        "    # Check if the file exists before attempting to read it\n",
        "    if os.path.exists(json_file_path):\n",
        "        with open(json_file_path, 'r') as json_file:\n",
        "            data = json.load(json_file)\n",
        "\n",
        "        rows = []\n",
        "        # Iterate through the JSON data\n",
        "        for key, value in data.items():\n",
        "            user_id = value['UserID']\n",
        "            readings = value['Readings']\n",
        "\n",
        "            for reading_key, reading_value in readings.items():\n",
        "                phase = reading_value['Phase']\n",
        "                if phase not in phases:\n",
        "                  phases.append(phase)\n",
        "                if phase in  [\"sudoku\", \"Sudoku\", \"Baseline 000\", \"baseline 001\", \"Baseline 002\", \"Baseline 003\"]:\n",
        "                    time = reading_value['Time']\n",
        "                    af3_theta = reading_value['AF3']['Theta']\n",
        "                    af3_alpha = reading_value['AF3']['Alpha']\n",
        "                    af3_betaL = reading_value['AF3']['BetaL']\n",
        "                    af3_betaH = reading_value['AF3']['BetaH']\n",
        "                    af3_gamma = reading_value['AF3']['Gamma']\n",
        "\n",
        "                    t7_theta = reading_value['T7']['Theta']\n",
        "                    t7_alpha = reading_value['T7']['Alpha']\n",
        "                    t7_betaL = reading_value['T7']['BetaL']\n",
        "                    t7_betaH = reading_value['T7']['BetaH']\n",
        "                    t7_gamma = reading_value['T7']['Gamma']\n",
        "\n",
        "                    pz_theta = reading_value['Pz']['Theta']\n",
        "                    pz_alpha = reading_value['Pz']['Alpha']\n",
        "                    pz_betaL = reading_value['Pz']['BetaL']\n",
        "                    pz_betaH = reading_value['Pz']['BetaH']\n",
        "                    pz_gamma = reading_value['Pz']['Gamma']\n",
        "\n",
        "                    t8_theta = reading_value['T8']['Theta']\n",
        "                    t8_alpha = reading_value['T8']['Alpha']\n",
        "                    t8_betaL = reading_value['T8']['BetaL']\n",
        "                    t8_betaH = reading_value['T8']['BetaH']\n",
        "                    t8_gamma = reading_value['T8']['Gamma']\n",
        "\n",
        "                    af4_theta = reading_value['AF4']['Theta']\n",
        "                    af4_alpha = reading_value['AF4']['Alpha']\n",
        "                    af4_betaL = reading_value['AF4']['BetaL']\n",
        "                    af4_betaH = reading_value['AF4']['BetaH']\n",
        "                    af4_gamma = reading_value['AF4']['Gamma']\n",
        "\n",
        "\n",
        "                    row = [user_id, phase, time, af3_theta, af3_alpha, af3_betaL, af3_betaH, af3_gamma, t7_theta, t7_alpha, t7_betaL, t7_betaH, t7_gamma,\n",
        "                           pz_theta, pz_alpha, pz_betaL, pz_betaH, pz_gamma, t8_theta, t8_alpha, t8_betaL, t8_betaH, t8_gamma,\n",
        "                           af4_theta, af4_alpha, af4_betaL, af4_betaH, af4_gamma]\n",
        "\n",
        "                    rows.append(row)\n",
        "\n",
        "    # Define columns as before\n",
        "    columns = ['UserID', 'Phase', 'Time', 'AF3_Theta', 'AF3_Alpha', 'AF3_BetaL', 'AF3_BetaH', 'AF3_Gamma',\n",
        "           'T7_Theta', 'T7_Alpha', 'T7_BetaL', 'T7_BetaH', 'T7_Gamma',\n",
        "           'Pz_Theta', 'Pz_Alpha', 'Pz_BetaL', 'Pz_BetaH', 'Pz_Gamma',\n",
        "           'T8_Theta', 'T8_Alpha', 'T8_BetaL', 'T8_BetaH', 'T8_Gamma',\n",
        "           'AF4_Theta', 'AF4_Alpha', 'AF4_BetaL', 'AF4_BetaH', 'AF4_Gamma']\n",
        "\n",
        "    # Create a DataFrame from the rows and columns\n",
        "    df = pd.DataFrame(rows, columns=columns)\n",
        "\n",
        "    # Filter the DataFrame to only include rows with 'Phase' as \"sudoku\" or \"baseline occhi chiusi\"\n",
        "    filtered_df = df[df['Phase'].isin([\"Baseline 000\", \"sudoku\", \"baseline 001\", \"Sudoku\", \"Baseline 002\", \"Baseline 003\", \"baseline occhi aperti\", \"Baseline 005\", \"Baseline 006 F23\", \"baseline 007\", \"Baseline 008\", \"Baseline occhi aperti 009\", \"baseline occhi aperti 010\", \"baseline 011\", \"baseline\", \"baseline 014\", \"baseline 015\", \"Baseline 016\", \"baseline 017\", \"baseline 018\", \"Baseline 019\", \"baseline 020\", \"baseline 021\"])]\n",
        "\n",
        "    # I do not need UserID and Time\n",
        "    columns_to_remove = ['UserID', 'Time']\n",
        "    filtered_df.drop(columns=columns_to_remove, inplace=True)\n",
        "    lenght.append(len(filtered_df))\n",
        "\n",
        "    # LIST OF ALL DATAFRAMES\n",
        "    dfs_list.append(filtered_df)\n",
        "\n",
        "# FINAL COLLECTIVE DATAFRAME\n",
        "df_final = pd.concat(dfs_list, ignore_index=True)\n",
        "\n",
        "print(df_final.shape)\n",
        "df_final.head()"
      ],
      "metadata": {
        "id": "gzoyFrzG4ZOS",
        "colab": {
          "base_uri": "https://localhost:8080/",
          "height": 360
        },
        "outputId": "0d0cae6c-9866-4040-acc4-180a26308bbf"
      },
      "execution_count": 3,
      "outputs": [
        {
          "output_type": "stream",
          "name": "stdout",
          "text": [
            "(39361, 26)\n"
          ]
        },
        {
          "output_type": "execute_result",
          "data": {
            "text/plain": [
              "          Phase AF3_Theta AF3_Alpha AF3_BetaL AF3_BetaH AF3_Gamma T7_Theta  \\\n",
              "0  Baseline 000     2.491     2.108     0.544     2.437     0.562    1.331   \n",
              "1  Baseline 000     2.569     2.127     0.651     2.522     0.567    1.193   \n",
              "2  Baseline 000     2.562     2.233     0.876     2.536     0.595    1.098   \n",
              "3  Baseline 000     2.476     2.419      1.16     2.468     0.655    1.143   \n",
              "4  Baseline 000     2.501     2.645     1.439     2.328      0.74    1.304   \n",
              "\n",
              "  T7_Alpha T7_BetaL T7_BetaH  ... T8_Theta T8_Alpha T8_BetaL T8_BetaH  \\\n",
              "0    0.485    0.487    2.687  ...     1.72    1.423    1.564    4.624   \n",
              "1    0.401    0.616    2.201  ...    1.719    1.378    1.534    3.993   \n",
              "2    0.317    0.745    1.717  ...     1.71     1.44    1.466    3.279   \n",
              "3    0.274    0.865    1.359  ...    1.634    1.596    1.365    2.691   \n",
              "4    0.311    0.978    1.217  ...    1.524    1.821    1.257     2.34   \n",
              "\n",
              "  T8_Gamma AF4_Theta AF4_Alpha AF4_BetaL AF4_BetaH AF4_Gamma  \n",
              "0     1.89     4.469      2.61     0.486     2.134     0.673  \n",
              "1    1.575     4.383     2.534      0.49     2.117     0.685  \n",
              "2    1.221     4.062     2.544     0.627     2.064     0.718  \n",
              "3    0.932     3.547      2.69     0.827     1.983      0.78  \n",
              "4    0.761     3.215     2.957      1.04     1.886     0.855  \n",
              "\n",
              "[5 rows x 26 columns]"
            ],
            "text/html": [
              "\n",
              "  <div id=\"df-451e0795-4138-4811-b982-34840338758d\" class=\"colab-df-container\">\n",
              "    <div>\n",
              "<style scoped>\n",
              "    .dataframe tbody tr th:only-of-type {\n",
              "        vertical-align: middle;\n",
              "    }\n",
              "\n",
              "    .dataframe tbody tr th {\n",
              "        vertical-align: top;\n",
              "    }\n",
              "\n",
              "    .dataframe thead th {\n",
              "        text-align: right;\n",
              "    }\n",
              "</style>\n",
              "<table border=\"1\" class=\"dataframe\">\n",
              "  <thead>\n",
              "    <tr style=\"text-align: right;\">\n",
              "      <th></th>\n",
              "      <th>Phase</th>\n",
              "      <th>AF3_Theta</th>\n",
              "      <th>AF3_Alpha</th>\n",
              "      <th>AF3_BetaL</th>\n",
              "      <th>AF3_BetaH</th>\n",
              "      <th>AF3_Gamma</th>\n",
              "      <th>T7_Theta</th>\n",
              "      <th>T7_Alpha</th>\n",
              "      <th>T7_BetaL</th>\n",
              "      <th>T7_BetaH</th>\n",
              "      <th>...</th>\n",
              "      <th>T8_Theta</th>\n",
              "      <th>T8_Alpha</th>\n",
              "      <th>T8_BetaL</th>\n",
              "      <th>T8_BetaH</th>\n",
              "      <th>T8_Gamma</th>\n",
              "      <th>AF4_Theta</th>\n",
              "      <th>AF4_Alpha</th>\n",
              "      <th>AF4_BetaL</th>\n",
              "      <th>AF4_BetaH</th>\n",
              "      <th>AF4_Gamma</th>\n",
              "    </tr>\n",
              "  </thead>\n",
              "  <tbody>\n",
              "    <tr>\n",
              "      <th>0</th>\n",
              "      <td>Baseline 000</td>\n",
              "      <td>2.491</td>\n",
              "      <td>2.108</td>\n",
              "      <td>0.544</td>\n",
              "      <td>2.437</td>\n",
              "      <td>0.562</td>\n",
              "      <td>1.331</td>\n",
              "      <td>0.485</td>\n",
              "      <td>0.487</td>\n",
              "      <td>2.687</td>\n",
              "      <td>...</td>\n",
              "      <td>1.72</td>\n",
              "      <td>1.423</td>\n",
              "      <td>1.564</td>\n",
              "      <td>4.624</td>\n",
              "      <td>1.89</td>\n",
              "      <td>4.469</td>\n",
              "      <td>2.61</td>\n",
              "      <td>0.486</td>\n",
              "      <td>2.134</td>\n",
              "      <td>0.673</td>\n",
              "    </tr>\n",
              "    <tr>\n",
              "      <th>1</th>\n",
              "      <td>Baseline 000</td>\n",
              "      <td>2.569</td>\n",
              "      <td>2.127</td>\n",
              "      <td>0.651</td>\n",
              "      <td>2.522</td>\n",
              "      <td>0.567</td>\n",
              "      <td>1.193</td>\n",
              "      <td>0.401</td>\n",
              "      <td>0.616</td>\n",
              "      <td>2.201</td>\n",
              "      <td>...</td>\n",
              "      <td>1.719</td>\n",
              "      <td>1.378</td>\n",
              "      <td>1.534</td>\n",
              "      <td>3.993</td>\n",
              "      <td>1.575</td>\n",
              "      <td>4.383</td>\n",
              "      <td>2.534</td>\n",
              "      <td>0.49</td>\n",
              "      <td>2.117</td>\n",
              "      <td>0.685</td>\n",
              "    </tr>\n",
              "    <tr>\n",
              "      <th>2</th>\n",
              "      <td>Baseline 000</td>\n",
              "      <td>2.562</td>\n",
              "      <td>2.233</td>\n",
              "      <td>0.876</td>\n",
              "      <td>2.536</td>\n",
              "      <td>0.595</td>\n",
              "      <td>1.098</td>\n",
              "      <td>0.317</td>\n",
              "      <td>0.745</td>\n",
              "      <td>1.717</td>\n",
              "      <td>...</td>\n",
              "      <td>1.71</td>\n",
              "      <td>1.44</td>\n",
              "      <td>1.466</td>\n",
              "      <td>3.279</td>\n",
              "      <td>1.221</td>\n",
              "      <td>4.062</td>\n",
              "      <td>2.544</td>\n",
              "      <td>0.627</td>\n",
              "      <td>2.064</td>\n",
              "      <td>0.718</td>\n",
              "    </tr>\n",
              "    <tr>\n",
              "      <th>3</th>\n",
              "      <td>Baseline 000</td>\n",
              "      <td>2.476</td>\n",
              "      <td>2.419</td>\n",
              "      <td>1.16</td>\n",
              "      <td>2.468</td>\n",
              "      <td>0.655</td>\n",
              "      <td>1.143</td>\n",
              "      <td>0.274</td>\n",
              "      <td>0.865</td>\n",
              "      <td>1.359</td>\n",
              "      <td>...</td>\n",
              "      <td>1.634</td>\n",
              "      <td>1.596</td>\n",
              "      <td>1.365</td>\n",
              "      <td>2.691</td>\n",
              "      <td>0.932</td>\n",
              "      <td>3.547</td>\n",
              "      <td>2.69</td>\n",
              "      <td>0.827</td>\n",
              "      <td>1.983</td>\n",
              "      <td>0.78</td>\n",
              "    </tr>\n",
              "    <tr>\n",
              "      <th>4</th>\n",
              "      <td>Baseline 000</td>\n",
              "      <td>2.501</td>\n",
              "      <td>2.645</td>\n",
              "      <td>1.439</td>\n",
              "      <td>2.328</td>\n",
              "      <td>0.74</td>\n",
              "      <td>1.304</td>\n",
              "      <td>0.311</td>\n",
              "      <td>0.978</td>\n",
              "      <td>1.217</td>\n",
              "      <td>...</td>\n",
              "      <td>1.524</td>\n",
              "      <td>1.821</td>\n",
              "      <td>1.257</td>\n",
              "      <td>2.34</td>\n",
              "      <td>0.761</td>\n",
              "      <td>3.215</td>\n",
              "      <td>2.957</td>\n",
              "      <td>1.04</td>\n",
              "      <td>1.886</td>\n",
              "      <td>0.855</td>\n",
              "    </tr>\n",
              "  </tbody>\n",
              "</table>\n",
              "<p>5 rows × 26 columns</p>\n",
              "</div>\n",
              "    <div class=\"colab-df-buttons\">\n",
              "\n",
              "  <div class=\"colab-df-container\">\n",
              "    <button class=\"colab-df-convert\" onclick=\"convertToInteractive('df-451e0795-4138-4811-b982-34840338758d')\"\n",
              "            title=\"Convert this dataframe to an interactive table.\"\n",
              "            style=\"display:none;\">\n",
              "\n",
              "  <svg xmlns=\"http://www.w3.org/2000/svg\" height=\"24px\" viewBox=\"0 -960 960 960\">\n",
              "    <path d=\"M120-120v-720h720v720H120Zm60-500h600v-160H180v160Zm220 220h160v-160H400v160Zm0 220h160v-160H400v160ZM180-400h160v-160H180v160Zm440 0h160v-160H620v160ZM180-180h160v-160H180v160Zm440 0h160v-160H620v160Z\"/>\n",
              "  </svg>\n",
              "    </button>\n",
              "\n",
              "  <style>\n",
              "    .colab-df-container {\n",
              "      display:flex;\n",
              "      gap: 12px;\n",
              "    }\n",
              "\n",
              "    .colab-df-convert {\n",
              "      background-color: #E8F0FE;\n",
              "      border: none;\n",
              "      border-radius: 50%;\n",
              "      cursor: pointer;\n",
              "      display: none;\n",
              "      fill: #1967D2;\n",
              "      height: 32px;\n",
              "      padding: 0 0 0 0;\n",
              "      width: 32px;\n",
              "    }\n",
              "\n",
              "    .colab-df-convert:hover {\n",
              "      background-color: #E2EBFA;\n",
              "      box-shadow: 0px 1px 2px rgba(60, 64, 67, 0.3), 0px 1px 3px 1px rgba(60, 64, 67, 0.15);\n",
              "      fill: #174EA6;\n",
              "    }\n",
              "\n",
              "    .colab-df-buttons div {\n",
              "      margin-bottom: 4px;\n",
              "    }\n",
              "\n",
              "    [theme=dark] .colab-df-convert {\n",
              "      background-color: #3B4455;\n",
              "      fill: #D2E3FC;\n",
              "    }\n",
              "\n",
              "    [theme=dark] .colab-df-convert:hover {\n",
              "      background-color: #434B5C;\n",
              "      box-shadow: 0px 1px 3px 1px rgba(0, 0, 0, 0.15);\n",
              "      filter: drop-shadow(0px 1px 2px rgba(0, 0, 0, 0.3));\n",
              "      fill: #FFFFFF;\n",
              "    }\n",
              "  </style>\n",
              "\n",
              "    <script>\n",
              "      const buttonEl =\n",
              "        document.querySelector('#df-451e0795-4138-4811-b982-34840338758d button.colab-df-convert');\n",
              "      buttonEl.style.display =\n",
              "        google.colab.kernel.accessAllowed ? 'block' : 'none';\n",
              "\n",
              "      async function convertToInteractive(key) {\n",
              "        const element = document.querySelector('#df-451e0795-4138-4811-b982-34840338758d');\n",
              "        const dataTable =\n",
              "          await google.colab.kernel.invokeFunction('convertToInteractive',\n",
              "                                                    [key], {});\n",
              "        if (!dataTable) return;\n",
              "\n",
              "        const docLinkHtml = 'Like what you see? Visit the ' +\n",
              "          '<a target=\"_blank\" href=https://colab.research.google.com/notebooks/data_table.ipynb>data table notebook</a>'\n",
              "          + ' to learn more about interactive tables.';\n",
              "        element.innerHTML = '';\n",
              "        dataTable['output_type'] = 'display_data';\n",
              "        await google.colab.output.renderOutput(dataTable, element);\n",
              "        const docLink = document.createElement('div');\n",
              "        docLink.innerHTML = docLinkHtml;\n",
              "        element.appendChild(docLink);\n",
              "      }\n",
              "    </script>\n",
              "  </div>\n",
              "\n",
              "\n",
              "<div id=\"df-21a1d8c8-57d7-4a68-b272-03e968e4c395\">\n",
              "  <button class=\"colab-df-quickchart\" onclick=\"quickchart('df-21a1d8c8-57d7-4a68-b272-03e968e4c395')\"\n",
              "            title=\"Suggest charts\"\n",
              "            style=\"display:none;\">\n",
              "\n",
              "<svg xmlns=\"http://www.w3.org/2000/svg\" height=\"24px\"viewBox=\"0 0 24 24\"\n",
              "     width=\"24px\">\n",
              "    <g>\n",
              "        <path d=\"M19 3H5c-1.1 0-2 .9-2 2v14c0 1.1.9 2 2 2h14c1.1 0 2-.9 2-2V5c0-1.1-.9-2-2-2zM9 17H7v-7h2v7zm4 0h-2V7h2v10zm4 0h-2v-4h2v4z\"/>\n",
              "    </g>\n",
              "</svg>\n",
              "  </button>\n",
              "\n",
              "<style>\n",
              "  .colab-df-quickchart {\n",
              "      --bg-color: #E8F0FE;\n",
              "      --fill-color: #1967D2;\n",
              "      --hover-bg-color: #E2EBFA;\n",
              "      --hover-fill-color: #174EA6;\n",
              "      --disabled-fill-color: #AAA;\n",
              "      --disabled-bg-color: #DDD;\n",
              "  }\n",
              "\n",
              "  [theme=dark] .colab-df-quickchart {\n",
              "      --bg-color: #3B4455;\n",
              "      --fill-color: #D2E3FC;\n",
              "      --hover-bg-color: #434B5C;\n",
              "      --hover-fill-color: #FFFFFF;\n",
              "      --disabled-bg-color: #3B4455;\n",
              "      --disabled-fill-color: #666;\n",
              "  }\n",
              "\n",
              "  .colab-df-quickchart {\n",
              "    background-color: var(--bg-color);\n",
              "    border: none;\n",
              "    border-radius: 50%;\n",
              "    cursor: pointer;\n",
              "    display: none;\n",
              "    fill: var(--fill-color);\n",
              "    height: 32px;\n",
              "    padding: 0;\n",
              "    width: 32px;\n",
              "  }\n",
              "\n",
              "  .colab-df-quickchart:hover {\n",
              "    background-color: var(--hover-bg-color);\n",
              "    box-shadow: 0 1px 2px rgba(60, 64, 67, 0.3), 0 1px 3px 1px rgba(60, 64, 67, 0.15);\n",
              "    fill: var(--button-hover-fill-color);\n",
              "  }\n",
              "\n",
              "  .colab-df-quickchart-complete:disabled,\n",
              "  .colab-df-quickchart-complete:disabled:hover {\n",
              "    background-color: var(--disabled-bg-color);\n",
              "    fill: var(--disabled-fill-color);\n",
              "    box-shadow: none;\n",
              "  }\n",
              "\n",
              "  .colab-df-spinner {\n",
              "    border: 2px solid var(--fill-color);\n",
              "    border-color: transparent;\n",
              "    border-bottom-color: var(--fill-color);\n",
              "    animation:\n",
              "      spin 1s steps(1) infinite;\n",
              "  }\n",
              "\n",
              "  @keyframes spin {\n",
              "    0% {\n",
              "      border-color: transparent;\n",
              "      border-bottom-color: var(--fill-color);\n",
              "      border-left-color: var(--fill-color);\n",
              "    }\n",
              "    20% {\n",
              "      border-color: transparent;\n",
              "      border-left-color: var(--fill-color);\n",
              "      border-top-color: var(--fill-color);\n",
              "    }\n",
              "    30% {\n",
              "      border-color: transparent;\n",
              "      border-left-color: var(--fill-color);\n",
              "      border-top-color: var(--fill-color);\n",
              "      border-right-color: var(--fill-color);\n",
              "    }\n",
              "    40% {\n",
              "      border-color: transparent;\n",
              "      border-right-color: var(--fill-color);\n",
              "      border-top-color: var(--fill-color);\n",
              "    }\n",
              "    60% {\n",
              "      border-color: transparent;\n",
              "      border-right-color: var(--fill-color);\n",
              "    }\n",
              "    80% {\n",
              "      border-color: transparent;\n",
              "      border-right-color: var(--fill-color);\n",
              "      border-bottom-color: var(--fill-color);\n",
              "    }\n",
              "    90% {\n",
              "      border-color: transparent;\n",
              "      border-bottom-color: var(--fill-color);\n",
              "    }\n",
              "  }\n",
              "</style>\n",
              "\n",
              "  <script>\n",
              "    async function quickchart(key) {\n",
              "      const quickchartButtonEl =\n",
              "        document.querySelector('#' + key + ' button');\n",
              "      quickchartButtonEl.disabled = true;  // To prevent multiple clicks.\n",
              "      quickchartButtonEl.classList.add('colab-df-spinner');\n",
              "      try {\n",
              "        const charts = await google.colab.kernel.invokeFunction(\n",
              "            'suggestCharts', [key], {});\n",
              "      } catch (error) {\n",
              "        console.error('Error during call to suggestCharts:', error);\n",
              "      }\n",
              "      quickchartButtonEl.classList.remove('colab-df-spinner');\n",
              "      quickchartButtonEl.classList.add('colab-df-quickchart-complete');\n",
              "    }\n",
              "    (() => {\n",
              "      let quickchartButtonEl =\n",
              "        document.querySelector('#df-21a1d8c8-57d7-4a68-b272-03e968e4c395 button');\n",
              "      quickchartButtonEl.style.display =\n",
              "        google.colab.kernel.accessAllowed ? 'block' : 'none';\n",
              "    })();\n",
              "  </script>\n",
              "</div>\n",
              "    </div>\n",
              "  </div>\n"
            ]
          },
          "metadata": {},
          "execution_count": 3
        }
      ]
    },
    {
      "cell_type": "code",
      "source": [
        "phases"
      ],
      "metadata": {
        "id": "rrJl69LZC1rn",
        "colab": {
          "base_uri": "https://localhost:8080/"
        },
        "outputId": "5013219f-36f8-4e98-f95f-1fa46a47e77b"
      },
      "execution_count": 4,
      "outputs": [
        {
          "output_type": "execute_result",
          "data": {
            "text/plain": [
              "['Baseline 000',\n",
              " 'baseline occhi chiusi',\n",
              " 'Test macchinine che funzionano, magari',\n",
              " 'sudoku',\n",
              " 'Macchinine con musica ',\n",
              " 'Macchinine Giuste',\n",
              " 'boh',\n",
              " 'baseline 001',\n",
              " 'Macchinine 1',\n",
              " 'Sudoku',\n",
              " 'sudoku + macchine',\n",
              " 'Baseline 002',\n",
              " 'Baseline occhi chiusi',\n",
              " 'macchinine 2',\n",
              " 'Baseline 003',\n",
              " 'occhi chiusi',\n",
              " 'macchinine 1',\n",
              " 'macchinine + fine sudoku',\n",
              " 'baseline occhi aperti',\n",
              " 'Macchinine 2.0',\n",
              " 'Baseline 005',\n",
              " 'Macchinine1',\n",
              " 'M1',\n",
              " 'Waves,       AF3/theta,AF3/alpha,AF3/betaL,AF3/betaH,AF3/gamma,T7/theta,T7/alpha,T7/betaL,T7/betaH,T7/gamma,Pz/theta,Pz/alpha,Pz/betaL,Pz/betaH,Pz/gamma,T8/theta,T8/alpha,T8/betaL,T8/betaH,T8/gamma,AF4/theta,AF4/alpha,AF4/betaL,AF4/betaH,AF4/gamma',\n",
              " 'Baseline 006 F23',\n",
              " '222',\n",
              " 'macchine 2',\n",
              " 'm1',\n",
              " 'baseline 007',\n",
              " 'Baseline 008',\n",
              " 'Baseline occhi aperti 009',\n",
              " 'Macchinine 2',\n",
              " 'baseline occhi aperti 010',\n",
              " 'nulla',\n",
              " 'baseline 011',\n",
              " '& C:/Users/Cerio/AppData/Local/Microsoft/WindowsApps/python3.8.exe \"c:/Users/Cerio/Studio/Poli - Biomedica/2 - 2/info/infoProgrammale/ProgrammiMiei/HACKATHON/Test001_py_mouse/EsperimentiNuovi.py\"',\n",
              " 'baseline',\n",
              " 'baseline 014',\n",
              " 'MM1',\n",
              " 'mmm1',\n",
              " 'Macchinine 2 coffee',\n",
              " 'baseline 015',\n",
              " 'Macchinine 3',\n",
              " 'Baseline 016',\n",
              " 'macchinine 3 con cambio macchina',\n",
              " 'M333',\n",
              " 'baseline 017',\n",
              " 'baseline 018',\n",
              " 'Baseline 019',\n",
              " 'baseline 020',\n",
              " 'mm2',\n",
              " 'baseline 021']"
            ]
          },
          "metadata": {},
          "execution_count": 4
        }
      ]
    },
    {
      "cell_type": "code",
      "source": [
        "# MISSING VALUES CHECK\n",
        "df_final.isna().any()"
      ],
      "metadata": {
        "id": "3eZwPSi_HEek",
        "colab": {
          "base_uri": "https://localhost:8080/"
        },
        "outputId": "4d2ddfca-60d9-495a-8b15-45bcad49894d"
      },
      "execution_count": 5,
      "outputs": [
        {
          "output_type": "execute_result",
          "data": {
            "text/plain": [
              "Phase        False\n",
              "AF3_Theta    False\n",
              "AF3_Alpha    False\n",
              "AF3_BetaL    False\n",
              "AF3_BetaH    False\n",
              "AF3_Gamma    False\n",
              "T7_Theta     False\n",
              "T7_Alpha     False\n",
              "T7_BetaL     False\n",
              "T7_BetaH     False\n",
              "T7_Gamma     False\n",
              "Pz_Theta     False\n",
              "Pz_Alpha     False\n",
              "Pz_BetaL     False\n",
              "Pz_BetaH     False\n",
              "Pz_Gamma     False\n",
              "T8_Theta     False\n",
              "T8_Alpha     False\n",
              "T8_BetaL     False\n",
              "T8_BetaH     False\n",
              "T8_Gamma     False\n",
              "AF4_Theta    False\n",
              "AF4_Alpha    False\n",
              "AF4_BetaL    False\n",
              "AF4_BetaH    False\n",
              "AF4_Gamma    False\n",
              "dtype: bool"
            ]
          },
          "metadata": {},
          "execution_count": 5
        }
      ]
    },
    {
      "cell_type": "code",
      "source": [
        "# Use the astype method to convert columns to float\n",
        "columns_to_convert = [\n",
        "    'AF3_Theta', 'AF3_Alpha', 'AF3_BetaL', 'AF3_BetaH', 'AF3_Gamma',\n",
        "    'T7_Theta', 'T7_Alpha', 'T7_BetaL', 'T7_BetaH', 'T7_Gamma',\n",
        "    'Pz_Theta', 'Pz_Alpha', 'Pz_BetaL', 'Pz_BetaH', 'Pz_Gamma',\n",
        "    'T8_Theta', 'T8_Alpha', 'T8_BetaL', 'T8_BetaH', 'T8_Gamma',\n",
        "    'AF4_Theta', 'AF4_Alpha', 'AF4_BetaL', 'AF4_BetaH', 'AF4_Gamma'\n",
        "]\n",
        "\n",
        "# total df\n",
        "df_final[columns_to_convert] = df_final[columns_to_convert].astype(float)\n",
        "\n",
        "# all dfs\n",
        "for i in dfs_list:\n",
        "  i[columns_to_convert] = i[columns_to_convert].astype(float)"
      ],
      "metadata": {
        "id": "6wqt0211HKUY"
      },
      "execution_count": 6,
      "outputs": []
    },
    {
      "cell_type": "code",
      "source": [
        "print(df_final.dtypes)"
      ],
      "metadata": {
        "id": "yxRAnptDHN0k",
        "colab": {
          "base_uri": "https://localhost:8080/"
        },
        "outputId": "330e72da-0502-4fe2-aae1-678270917e06"
      },
      "execution_count": 7,
      "outputs": [
        {
          "output_type": "stream",
          "name": "stdout",
          "text": [
            "Phase         object\n",
            "AF3_Theta    float64\n",
            "AF3_Alpha    float64\n",
            "AF3_BetaL    float64\n",
            "AF3_BetaH    float64\n",
            "AF3_Gamma    float64\n",
            "T7_Theta     float64\n",
            "T7_Alpha     float64\n",
            "T7_BetaL     float64\n",
            "T7_BetaH     float64\n",
            "T7_Gamma     float64\n",
            "Pz_Theta     float64\n",
            "Pz_Alpha     float64\n",
            "Pz_BetaL     float64\n",
            "Pz_BetaH     float64\n",
            "Pz_Gamma     float64\n",
            "T8_Theta     float64\n",
            "T8_Alpha     float64\n",
            "T8_BetaL     float64\n",
            "T8_BetaH     float64\n",
            "T8_Gamma     float64\n",
            "AF4_Theta    float64\n",
            "AF4_Alpha    float64\n",
            "AF4_BetaL    float64\n",
            "AF4_BetaH    float64\n",
            "AF4_Gamma    float64\n",
            "dtype: object\n"
          ]
        }
      ]
    },
    {
      "cell_type": "markdown",
      "source": [
        "---\n",
        "# ***CLASSIFICATION***\n",
        "---"
      ],
      "metadata": {
        "id": "6U0tXnro4ljJ"
      }
    },
    {
      "cell_type": "code",
      "source": [
        "# I need only data, not phase names\n",
        "x = df_final\n",
        "z = x.drop(columns = 'Phase')\n",
        "\n",
        "# Conversion to numpy array\n",
        "xnew = z.to_numpy()\n",
        "# Let's check the shape\n",
        "print(xnew.shape)"
      ],
      "metadata": {
        "id": "5oZ9YmU94l9P",
        "colab": {
          "base_uri": "https://localhost:8080/"
        },
        "outputId": "08ce2ca1-a219-4d8a-ec91-9ce4af9b25ba"
      },
      "execution_count": 8,
      "outputs": [
        {
          "output_type": "stream",
          "name": "stdout",
          "text": [
            "(39361, 25)\n"
          ]
        }
      ]
    },
    {
      "cell_type": "code",
      "source": [
        "# Labels: I need a one-hot encoder. I realize the most basic (and stupid) one.\n",
        "# I know there also the tfkl function \"to_categorical()\" but I gives me an error\n",
        "# and now I don't have time to solve it\n",
        "y = df_final['Phase']\n",
        "\n",
        "labels = []\n",
        "for i in y:\n",
        "  if i == \"Baseline 000\" or i == \"baseline 001\" or i == \"Baseline 002\" or i == \"Baseline 003\" or i == \"baseline occhi aperti\" or i == \"Baseline 005\" or i == \"Baseline 006 F23\" or i == \"baseline 007\" or i == \"Baseline 008\" or i == \"Baseline occhi aperti 009\" or i == \"baseline occhi aperti 010\" or i == \"baseline 011\" or i == \"baseline\" or i == \"baseline 014\" or i == \"baseline 015\" or i == \"Baseline 016\" or i == \"baseline 017\" or i == \"baseline 018\" or i == \"Baseline 019\" or i == \"baseline 020\" or i == \"baseline 021\":\n",
        "    labels.append(1)\n",
        "  elif i == 'sudoku' or i == 'Sudoku':\n",
        "    labels.append(0)\n",
        "\n",
        "# conversion to array and shape check\n",
        "labels = np.asarray(labels)\n",
        "print(\"Original labels: \", labels.shape)\n",
        "\n",
        "cat_labels = to_categorical(labels)\n",
        "print(\"Categorical labels: \", cat_labels.shape)"
      ],
      "metadata": {
        "id": "IQ9-GI8P4xQG",
        "colab": {
          "base_uri": "https://localhost:8080/"
        },
        "outputId": "6bf13aa5-a00a-4f6e-9277-602b3f465e73"
      },
      "execution_count": 9,
      "outputs": [
        {
          "output_type": "stream",
          "name": "stdout",
          "text": [
            "Original labels:  (39361,)\n",
            "Categorical labels:  (39361, 2)\n"
          ]
        }
      ]
    },
    {
      "cell_type": "code",
      "source": [
        "# SPLIT DATA INTO TRAIN AND TEST SET\n",
        "X_train, X_test, y_train, y_test = train_test_split(xnew, cat_labels,\n",
        "                                                    test_size =0.20,\n",
        "                                                    random_state= seed)   #fix random seed for replicability\n",
        "\n",
        "# Now split again into train and validation\n",
        "X_train, X_val, y_train, y_val = train_test_split(X_train, y_train, test_size=0.20, random_state=seed)\n",
        "\n",
        "print( \"X train shape:\", X_train.shape, \"X test shape:\", X_test.shape, \"X val shape:\", X_val.shape, \"y train shape:\", y_train.shape, \"y test shape:\", y_test.shape, \"y val shape:\", y_val.shape)"
      ],
      "metadata": {
        "id": "ewTV2bDp44lz",
        "colab": {
          "base_uri": "https://localhost:8080/"
        },
        "outputId": "73475389-2d16-416b-9634-4c621b943d55"
      },
      "execution_count": 10,
      "outputs": [
        {
          "output_type": "stream",
          "name": "stdout",
          "text": [
            "X train shape: (25190, 25) X test shape: (7873, 25) X val shape: (6298, 25) y train shape: (25190, 2) y test shape: (7873, 2) y val shape: (6298, 2)\n"
          ]
        }
      ]
    },
    {
      "cell_type": "code",
      "source": [
        "y_train_len = len(y_train)\n",
        "\n",
        "train_labels = labels[:y_train_len]\n",
        "print(len(train_labels))"
      ],
      "metadata": {
        "id": "WRrjJ2__46mo",
        "colab": {
          "base_uri": "https://localhost:8080/"
        },
        "outputId": "0c271a19-f8c3-4977-b896-3738cf16f5f6"
      },
      "execution_count": 11,
      "outputs": [
        {
          "output_type": "stream",
          "name": "stdout",
          "text": [
            "25190\n"
          ]
        }
      ]
    },
    {
      "cell_type": "code",
      "source": [
        "# CLASS BALANCING\n",
        "weights = compute_class_weight('balanced', classes=[0, 1], y=train_labels)\n",
        "\n",
        "# Creare un dizionario di pesi delle classi\n",
        "weights_dict = {classe: peso for classe, peso in zip([0, 1], weights)}\n",
        "\n",
        "# Stampa dei pesi delle classi\n",
        "print(\"Classes weights:\", weights_dict)"
      ],
      "metadata": {
        "id": "ePvA3H07486l",
        "colab": {
          "base_uri": "https://localhost:8080/"
        },
        "outputId": "a18a0d94-8178-433c-df99-d69ddebac701"
      },
      "execution_count": 12,
      "outputs": [
        {
          "output_type": "stream",
          "name": "stdout",
          "text": [
            "Classes weights: {0: 0.646129379777356, 1: 2.21081270844304}\n"
          ]
        }
      ]
    },
    {
      "cell_type": "code",
      "source": [
        "y_train.dtype"
      ],
      "metadata": {
        "id": "_MUsXJdPGlvj",
        "colab": {
          "base_uri": "https://localhost:8080/"
        },
        "outputId": "76465024-d8c4-4a15-f69e-889374d0b4ca"
      },
      "execution_count": 13,
      "outputs": [
        {
          "output_type": "execute_result",
          "data": {
            "text/plain": [
              "dtype('float32')"
            ]
          },
          "metadata": {},
          "execution_count": 13
        }
      ]
    },
    {
      "cell_type": "code",
      "source": [
        "# my model\n",
        "def CNN1D_classifier(input_shape, label):\n",
        "    input_layer = tfkl.Input(shape=input_shape, name='Input')\n",
        "\n",
        "    cnn = tfkl.Conv1D(512,3,padding='same',activation='relu', name = \"prova\")(input_layer)\n",
        "    cnn = tfkl.MaxPooling1D()(cnn)\n",
        "    cnn = tfkl.Conv1D(512,3,padding='same',activation='relu')(cnn)\n",
        "    gap = tfkl.GlobalAveragePooling1D()(cnn)\n",
        "    dropout = tfkl.Dropout(.3, seed=seed)(gap)\n",
        "\n",
        "    classifier = tfkl.Dense(1024, activation='relu')(dropout)\n",
        "    dropout2 = tfkl.Dropout(.3, seed=seed)(classifier)\n",
        "    output_layer = tfkl.Dense(2, activation='softmax')(dropout2)\n",
        "\n",
        "    # Connect input and output through the Model class\n",
        "    model = tfk.Model(inputs=input_layer, outputs=output_layer, name='model')\n",
        "\n",
        "    opt = tf.keras.optimizers.Adam(\n",
        "      learning_rate = 2e-4,\n",
        "      beta_1=0.9,\n",
        "      beta_2=0.999,\n",
        "      epsilon=1e-08,\n",
        "      amsgrad=False,\n",
        "      name=\"Adam\",\n",
        "    )\n",
        "    # Compile the model\n",
        "    model.compile(loss=tfk.losses.CategoricalCrossentropy(), optimizer=tfk.optimizers.Adam(), metrics='accuracy')\n",
        "    #model.compile(loss=tfk.losses.BinaryCrossentropy(), optimizer=tfk.optimizers.Adam(), metrics='accuracy')\n",
        "\n",
        "\n",
        "    # Return the model\n",
        "    return model\n",
        "\n",
        "model = CNN1D_classifier((25, 1), labels)"
      ],
      "metadata": {
        "id": "ev8BIZKI4-_m"
      },
      "execution_count": 14,
      "outputs": []
    },
    {
      "cell_type": "code",
      "source": [
        "# Train the model\n",
        "history = model.fit(\n",
        "    x = X_train,\n",
        "    y = y_train,\n",
        "    batch_size = 32,\n",
        "    class_weight = weights_dict,\n",
        "    epochs = 32,\n",
        "    validation_data=(X_test, y_test),\n",
        "    callbacks = [tfk.callbacks.EarlyStopping(monitor='val_accuracy', mode='max', patience=20, restore_best_weights=True)] # I should recompile with a higher patience\n",
        ").history"
      ],
      "metadata": {
        "id": "pAXZPe3_5AdX",
        "colab": {
          "base_uri": "https://localhost:8080/"
        },
        "outputId": "76054e7c-c38b-43be-c151-ee6014755eea"
      },
      "execution_count": 15,
      "outputs": [
        {
          "output_type": "stream",
          "name": "stdout",
          "text": [
            "Epoch 1/32\n",
            "788/788 [==============================] - 17s 7ms/step - loss: 1.2108 - accuracy: 0.7582 - val_loss: 0.5144 - val_accuracy: 0.7213\n",
            "Epoch 2/32\n",
            "788/788 [==============================] - 4s 5ms/step - loss: 0.4909 - accuracy: 0.8017 - val_loss: 0.5040 - val_accuracy: 0.7611\n",
            "Epoch 3/32\n",
            "788/788 [==============================] - 4s 5ms/step - loss: 0.4307 - accuracy: 0.8200 - val_loss: 0.4087 - val_accuracy: 0.7919\n",
            "Epoch 4/32\n",
            "788/788 [==============================] - 6s 8ms/step - loss: 0.3730 - accuracy: 0.8364 - val_loss: 0.3272 - val_accuracy: 0.8678\n",
            "Epoch 5/32\n",
            "788/788 [==============================] - 4s 6ms/step - loss: 0.3798 - accuracy: 0.8434 - val_loss: 0.3568 - val_accuracy: 0.8285\n",
            "Epoch 6/32\n",
            "788/788 [==============================] - 4s 5ms/step - loss: 0.3306 - accuracy: 0.8521 - val_loss: 0.4425 - val_accuracy: 0.8381\n",
            "Epoch 7/32\n",
            "788/788 [==============================] - 6s 7ms/step - loss: 0.3153 - accuracy: 0.8559 - val_loss: 0.2887 - val_accuracy: 0.8610\n",
            "Epoch 8/32\n",
            "788/788 [==============================] - 5s 6ms/step - loss: 0.2920 - accuracy: 0.8686 - val_loss: 0.2154 - val_accuracy: 0.8986\n",
            "Epoch 9/32\n",
            "788/788 [==============================] - 5s 6ms/step - loss: 0.2672 - accuracy: 0.8774 - val_loss: 0.2391 - val_accuracy: 0.8886\n",
            "Epoch 10/32\n",
            "788/788 [==============================] - 7s 9ms/step - loss: 0.2499 - accuracy: 0.8898 - val_loss: 0.3129 - val_accuracy: 0.8416\n",
            "Epoch 11/32\n",
            "788/788 [==============================] - 4s 6ms/step - loss: 0.2641 - accuracy: 0.8942 - val_loss: 0.2438 - val_accuracy: 0.8762\n",
            "Epoch 12/32\n",
            "788/788 [==============================] - 4s 5ms/step - loss: 0.2407 - accuracy: 0.8984 - val_loss: 0.2086 - val_accuracy: 0.9126\n",
            "Epoch 13/32\n",
            "788/788 [==============================] - 6s 7ms/step - loss: 0.2327 - accuracy: 0.9036 - val_loss: 0.2554 - val_accuracy: 0.8720\n",
            "Epoch 14/32\n",
            "788/788 [==============================] - 5s 6ms/step - loss: 0.2309 - accuracy: 0.9080 - val_loss: 0.2291 - val_accuracy: 0.9080\n",
            "Epoch 15/32\n",
            "788/788 [==============================] - 4s 5ms/step - loss: 0.2270 - accuracy: 0.9047 - val_loss: 0.1791 - val_accuracy: 0.9244\n",
            "Epoch 16/32\n",
            "788/788 [==============================] - 6s 7ms/step - loss: 0.1945 - accuracy: 0.9150 - val_loss: 0.1531 - val_accuracy: 0.9369\n",
            "Epoch 17/32\n",
            "788/788 [==============================] - 5s 6ms/step - loss: 0.1935 - accuracy: 0.9194 - val_loss: 0.1576 - val_accuracy: 0.9294\n",
            "Epoch 18/32\n",
            "788/788 [==============================] - 4s 5ms/step - loss: 0.1971 - accuracy: 0.9200 - val_loss: 0.2040 - val_accuracy: 0.9089\n",
            "Epoch 19/32\n",
            "788/788 [==============================] - 5s 6ms/step - loss: 0.2013 - accuracy: 0.9208 - val_loss: 0.1571 - val_accuracy: 0.9343\n",
            "Epoch 20/32\n",
            "788/788 [==============================] - 5s 7ms/step - loss: 0.1702 - accuracy: 0.9304 - val_loss: 0.1443 - val_accuracy: 0.9414\n",
            "Epoch 21/32\n",
            "788/788 [==============================] - 4s 5ms/step - loss: 0.1774 - accuracy: 0.9294 - val_loss: 0.1739 - val_accuracy: 0.9191\n",
            "Epoch 22/32\n",
            "788/788 [==============================] - 4s 5ms/step - loss: 0.1628 - accuracy: 0.9331 - val_loss: 0.1316 - val_accuracy: 0.9464\n",
            "Epoch 23/32\n",
            "788/788 [==============================] - 6s 7ms/step - loss: 0.1548 - accuracy: 0.9374 - val_loss: 0.1317 - val_accuracy: 0.9414\n",
            "Epoch 24/32\n",
            "788/788 [==============================] - 4s 5ms/step - loss: 0.1561 - accuracy: 0.9393 - val_loss: 0.2603 - val_accuracy: 0.9120\n",
            "Epoch 25/32\n",
            "788/788 [==============================] - 4s 5ms/step - loss: 0.2157 - accuracy: 0.9254 - val_loss: 0.1410 - val_accuracy: 0.9450\n",
            "Epoch 26/32\n",
            "788/788 [==============================] - 5s 7ms/step - loss: 0.1925 - accuracy: 0.9314 - val_loss: 0.1253 - val_accuracy: 0.9434\n",
            "Epoch 27/32\n",
            "788/788 [==============================] - 5s 6ms/step - loss: 0.1397 - accuracy: 0.9410 - val_loss: 0.1437 - val_accuracy: 0.9384\n",
            "Epoch 28/32\n",
            "788/788 [==============================] - 4s 5ms/step - loss: 0.1299 - accuracy: 0.9457 - val_loss: 0.1322 - val_accuracy: 0.9446\n",
            "Epoch 29/32\n",
            "788/788 [==============================] - 5s 7ms/step - loss: 0.1267 - accuracy: 0.9474 - val_loss: 0.1044 - val_accuracy: 0.9574\n",
            "Epoch 30/32\n",
            "788/788 [==============================] - 5s 7ms/step - loss: 0.2034 - accuracy: 0.9350 - val_loss: 0.1376 - val_accuracy: 0.9458\n",
            "Epoch 31/32\n",
            "788/788 [==============================] - 4s 5ms/step - loss: 0.1519 - accuracy: 0.9400 - val_loss: 0.1196 - val_accuracy: 0.9536\n",
            "Epoch 32/32\n",
            "788/788 [==============================] - 5s 6ms/step - loss: 0.1416 - accuracy: 0.9453 - val_loss: 0.1076 - val_accuracy: 0.9563\n"
          ]
        }
      ]
    },
    {
      "cell_type": "code",
      "source": [
        "# Plot training & validation accuracy values\n",
        "plt.plot(history['accuracy'])\n",
        "plt.plot(history['val_accuracy'])\n",
        "plt.legend(['train_accuracy', 'val_accuracy'])\n",
        "plt.title('(a) Model accuracy')\n",
        "plt.ylabel('Accuracy')\n",
        "plt.xlabel('Epoch')\n",
        "plt.show()\n",
        "\n",
        "# Plot training & validation loss values\n",
        "plt.plot(history['loss'])\n",
        "plt.plot(history['val_loss'])\n",
        "plt.legend(['train_loss', 'val_loss'])\n",
        "plt.title('(b) Model loss')\n",
        "plt.ylabel('Loss')\n",
        "plt.xlabel('Epoch')\n",
        "plt.show()"
      ],
      "metadata": {
        "id": "jXmDUh035CPd",
        "colab": {
          "base_uri": "https://localhost:8080/",
          "height": 927
        },
        "outputId": "828c9815-a2e8-4b48-8e84-e24a6fc47294"
      },
      "execution_count": 16,
      "outputs": [
        {
          "output_type": "display_data",
          "data": {
            "text/plain": [
              "<Figure size 640x480 with 1 Axes>"
            ],
            "image/png": "[encoded data removed]"
          },
          "metadata": {}
        },
        {
          "output_type": "display_data",
          "data": {
            "text/plain": [
              "<Figure size 640x480 with 1 Axes>"
            ],
            "image/png": "[encoded data removed]"
          },
          "metadata": {}
        }
      ]
    },
    {
      "cell_type": "code",
      "source": [
        "#X_test = X_test.astype(float)\n",
        "from time import time\n",
        "\n",
        "startTime = time()\n",
        "y_pred = model.predict(X_val)\n",
        "correct_predictions = 0\n",
        "finalTime = time()\n",
        "\n",
        "correct_predictions = np.sum(np.argmax(y_pred, axis=1) == np.argmax(y_val, axis=1))\n",
        "total_predictions = len(y_pred)\n",
        "accuracy_percentage = (correct_predictions / total_predictions) * 100\n",
        "print(f\"Accuracy: {accuracy_percentage:.2f}%\\tTotal time for {total_predictions} predictions: {(finalTime-startTime):.2f} seconds\")"
      ],
      "metadata": {
        "id": "5CEOHGxm5EWM",
        "colab": {
          "base_uri": "https://localhost:8080/"
        },
        "outputId": "2fd2ae13-2870-4ca5-81e2-53fee192084c"
      },
      "execution_count": 17,
      "outputs": [
        {
          "output_type": "stream",
          "name": "stdout",
          "text": [
            "197/197 [==============================] - 1s 2ms/step\n",
            "Accuracy: 95.74%\tTotal time for 6298 predictions: 0.68 seconds\n"
          ]
        }
      ]
    },
    {
      "cell_type": "markdown",
      "source": [
        "---\n",
        "# ***RIFERIMENTO A BASELINE***\n",
        "---"
      ],
      "metadata": {
        "id": "SLOVugqlzGtr"
      }
    },
    {
      "cell_type": "code",
      "source": [
        "# Lista di valori per il confronto\n",
        "fasi_di_interesse = [\"Baseline 000\", \"baseline 001\", \"Baseline 002\", \"Baseline 003\", \"baseline occhi aperti\", \"Baseline 005\", \"Baseline 006 F23\", \"baseline 007\",\"Baseline 008\", \"Baseline occhi aperti 009\", \"baseline occhi aperti 010\", \"baseline 011\", \"baseline\", \"baseline 014\", \"baseline 015\", \"Baseline 016\", \"baseline 017\" , \"baseline 018\", \"Baseline 019\", \"baseline 020\", \"baseline 021\"]\n",
        "\n",
        "# Seleziona solo le righe con le fasi di interesse\n",
        "dati_relax = x[x['Phase'].str.lower().isin([fase.lower() for fase in fasi_di_interesse])]\n",
        "\n",
        "# Ora puoi continuare con il calcolo della media sui dati selezionati\n",
        "media_relax = dati_relax.mean().mean()\n",
        "\n",
        "x2 = x.copy()\n",
        "\n",
        "nuove_fasi = ['Sudoku', 'sudoku']\n",
        "colonne_numeriche = x.select_dtypes(include='number').columns\n",
        "x2[colonne_numeriche] = x2[colonne_numeriche] - media_relax\n",
        "\n",
        "z2 = x2.drop(columns = 'Phase')\n",
        "\n",
        "# Conversion to numpy array\n",
        "xnew2 = z.to_numpy()\n",
        "# Let's check the shape\n",
        "print(xnew2.shape)"
      ],
      "metadata": {
        "colab": {
          "base_uri": "https://localhost:8080/"
        },
        "id": "GIEvrxNUpCdp",
        "outputId": "60c7439b-83c9-4e8b-8429-58fc5f355929"
      },
      "execution_count": 18,
      "outputs": [
        {
          "output_type": "stream",
          "name": "stdout",
          "text": [
            "(39361, 25)\n"
          ]
        },
        {
          "output_type": "stream",
          "name": "stderr",
          "text": [
            "<ipython-input-18-dce580f408d6>:8: FutureWarning: The default value of numeric_only in DataFrame.mean is deprecated. In a future version, it will default to False. In addition, specifying 'numeric_only=None' is deprecated. Select only valid columns or specify the value of numeric_only to silence this warning.\n",
            "  media_relax = dati_relax.mean().mean()\n"
          ]
        }
      ]
    },
    {
      "cell_type": "code",
      "source": [
        "# SPLIT DATA INTO TRAIN AND TEST SET\n",
        "X_train2, X_test2, y_train2, y_test2 = train_test_split(xnew2, cat_labels,\n",
        "                                                    test_size =0.20,\n",
        "                                                    random_state= seed)   #fix random seed for replicability\n",
        "\n",
        "# Now split again into train and validation\n",
        "X_train2, X_val2, y_train2, y_val2 = train_test_split(X_train2, y_train2, test_size=0.20, random_state=seed)\n",
        "\n",
        "print( \"X train shape:\", X_train.shape, \"X test shape:\", X_test.shape, \"X val shape:\", X_val.shape, \"y train shape:\", y_train.shape, \"y test shape:\", y_test.shape, \"y val shape:\", y_val.shape)"
      ],
      "metadata": {
        "colab": {
          "base_uri": "https://localhost:8080/"
        },
        "id": "y2q0-8BLqVKW",
        "outputId": "6951b0f1-d794-4a74-9d94-dce2c6e2d971"
      },
      "execution_count": 19,
      "outputs": [
        {
          "output_type": "stream",
          "name": "stdout",
          "text": [
            "X train shape: (25190, 25) X test shape: (7873, 25) X val shape: (6298, 25) y train shape: (25190, 2) y test shape: (7873, 2) y val shape: (6298, 2)\n"
          ]
        }
      ]
    },
    {
      "cell_type": "code",
      "source": [
        "# Train the model\n",
        "history = model.fit(\n",
        "    x = X_train2,\n",
        "    y = y_train2,\n",
        "    batch_size = 32,\n",
        "    class_weight = weights_dict,\n",
        "    epochs = 32,\n",
        "    validation_data=(X_test2, y_test2),\n",
        "    callbacks = [tfk.callbacks.EarlyStopping(monitor='val_accuracy', mode='max', patience=20, restore_best_weights=True)] # I should recompile with a higher patience\n",
        ").history"
      ],
      "metadata": {
        "colab": {
          "base_uri": "https://localhost:8080/"
        },
        "id": "41J34z2Fqeci",
        "outputId": "14d46b84-6634-49be-e298-7c41bce78639"
      },
      "execution_count": 20,
      "outputs": [
        {
          "output_type": "stream",
          "name": "stdout",
          "text": [
            "Epoch 1/32\n",
            "788/788 [==============================] - 5s 6ms/step - loss: 0.1242 - accuracy: 0.9520 - val_loss: 0.1167 - val_accuracy: 0.9508\n",
            "Epoch 2/32\n",
            "788/788 [==============================] - 7s 8ms/step - loss: 0.1183 - accuracy: 0.9529 - val_loss: 0.1139 - val_accuracy: 0.9524\n",
            "Epoch 3/32\n",
            "788/788 [==============================] - 4s 5ms/step - loss: 0.1269 - accuracy: 0.9518 - val_loss: 0.1054 - val_accuracy: 0.9588\n",
            "Epoch 4/32\n",
            "788/788 [==============================] - 4s 5ms/step - loss: 0.1108 - accuracy: 0.9547 - val_loss: 0.1090 - val_accuracy: 0.9555\n",
            "Epoch 5/32\n",
            "788/788 [==============================] - 7s 8ms/step - loss: 0.1207 - accuracy: 0.9543 - val_loss: 0.1742 - val_accuracy: 0.9324\n",
            "Epoch 6/32\n",
            "788/788 [==============================] - 4s 6ms/step - loss: 0.1961 - accuracy: 0.9471 - val_loss: 0.1227 - val_accuracy: 0.9545\n",
            "Epoch 7/32\n",
            "788/788 [==============================] - 4s 6ms/step - loss: 0.1061 - accuracy: 0.9570 - val_loss: 0.0995 - val_accuracy: 0.9601\n",
            "Epoch 8/32\n",
            "788/788 [==============================] - 6s 7ms/step - loss: 0.0980 - accuracy: 0.9618 - val_loss: 0.1681 - val_accuracy: 0.9643\n",
            "Epoch 9/32\n",
            "788/788 [==============================] - 5s 6ms/step - loss: 0.1015 - accuracy: 0.9604 - val_loss: 0.1085 - val_accuracy: 0.9559\n",
            "Epoch 10/32\n",
            "788/788 [==============================] - 4s 5ms/step - loss: 0.1348 - accuracy: 0.9565 - val_loss: 0.1042 - val_accuracy: 0.9594\n",
            "Epoch 11/32\n",
            "788/788 [==============================] - 5s 6ms/step - loss: 0.2237 - accuracy: 0.9451 - val_loss: 0.1616 - val_accuracy: 0.9426\n",
            "Epoch 12/32\n",
            "788/788 [==============================] - 5s 7ms/step - loss: 0.1607 - accuracy: 0.9482 - val_loss: 0.0883 - val_accuracy: 0.9652\n",
            "Epoch 13/32\n",
            "788/788 [==============================] - 4s 5ms/step - loss: 0.1069 - accuracy: 0.9600 - val_loss: 0.0868 - val_accuracy: 0.9680\n",
            "Epoch 14/32\n",
            "788/788 [==============================] - 5s 6ms/step - loss: 0.1070 - accuracy: 0.9607 - val_loss: 0.0909 - val_accuracy: 0.9693\n",
            "Epoch 15/32\n",
            "788/788 [==============================] - 6s 7ms/step - loss: 0.1026 - accuracy: 0.9638 - val_loss: 0.0837 - val_accuracy: 0.9674\n",
            "Epoch 16/32\n",
            "788/788 [==============================] - 4s 6ms/step - loss: 0.0992 - accuracy: 0.9643 - val_loss: 0.0911 - val_accuracy: 0.9628\n",
            "Epoch 17/32\n",
            "788/788 [==============================] - 4s 5ms/step - loss: 0.0903 - accuracy: 0.9665 - val_loss: 0.1014 - val_accuracy: 0.9718\n",
            "Epoch 18/32\n",
            "788/788 [==============================] - 6s 8ms/step - loss: 0.1244 - accuracy: 0.9615 - val_loss: 0.0884 - val_accuracy: 0.9657\n",
            "Epoch 19/32\n",
            "788/788 [==============================] - 4s 6ms/step - loss: 0.1190 - accuracy: 0.9620 - val_loss: 0.0803 - val_accuracy: 0.9689\n",
            "Epoch 20/32\n",
            "788/788 [==============================] - 4s 5ms/step - loss: 0.1036 - accuracy: 0.9638 - val_loss: 0.1224 - val_accuracy: 0.9649\n",
            "Epoch 21/32\n",
            "788/788 [==============================] - 5s 7ms/step - loss: 0.1466 - accuracy: 0.9635 - val_loss: 0.0999 - val_accuracy: 0.9610\n",
            "Epoch 22/32\n",
            "788/788 [==============================] - 5s 6ms/step - loss: 0.0876 - accuracy: 0.9674 - val_loss: 0.0792 - val_accuracy: 0.9699\n",
            "Epoch 23/32\n",
            "788/788 [==============================] - 4s 5ms/step - loss: 0.0818 - accuracy: 0.9691 - val_loss: 0.0674 - val_accuracy: 0.9751\n",
            "Epoch 24/32\n",
            "788/788 [==============================] - 5s 6ms/step - loss: 0.1015 - accuracy: 0.9680 - val_loss: 0.1681 - val_accuracy: 0.9440\n",
            "Epoch 25/32\n",
            "788/788 [==============================] - 5s 7ms/step - loss: 0.0965 - accuracy: 0.9634 - val_loss: 0.0712 - val_accuracy: 0.9746\n",
            "Epoch 26/32\n",
            "788/788 [==============================] - 4s 5ms/step - loss: 0.0884 - accuracy: 0.9685 - val_loss: 0.0916 - val_accuracy: 0.9667\n",
            "Epoch 27/32\n",
            "788/788 [==============================] - 4s 5ms/step - loss: 0.0794 - accuracy: 0.9719 - val_loss: 0.0893 - val_accuracy: 0.9644\n",
            "Epoch 28/32\n",
            "788/788 [==============================] - 6s 8ms/step - loss: 0.0831 - accuracy: 0.9705 - val_loss: 0.0631 - val_accuracy: 0.9764\n",
            "Epoch 29/32\n",
            "788/788 [==============================] - 4s 6ms/step - loss: 0.0864 - accuracy: 0.9730 - val_loss: 0.0816 - val_accuracy: 0.9666\n",
            "Epoch 30/32\n",
            "788/788 [==============================] - 4s 5ms/step - loss: 0.0848 - accuracy: 0.9705 - val_loss: 0.0812 - val_accuracy: 0.9668\n",
            "Epoch 31/32\n",
            "788/788 [==============================] - 6s 8ms/step - loss: 0.1084 - accuracy: 0.9683 - val_loss: 0.0743 - val_accuracy: 0.9705\n",
            "Epoch 32/32\n",
            "788/788 [==============================] - 5s 6ms/step - loss: 0.0874 - accuracy: 0.9721 - val_loss: 0.1375 - val_accuracy: 0.9627\n"
          ]
        }
      ]
    },
    {
      "cell_type": "code",
      "source": [
        "#X_test = X_test.astype(float)\n",
        "from time import time\n",
        "\n",
        "startTime = time()\n",
        "y_pred = model.predict(X_val2)\n",
        "correct_predictions = 0\n",
        "finalTime = time()\n",
        "\n",
        "correct_predictions = np.sum(np.argmax(y_pred, axis=1) == np.argmax(y_val2, axis=1))\n",
        "total_predictions = len(y_pred)\n",
        "accuracy_percentage = (correct_predictions / total_predictions) * 100\n",
        "print(f\"Accuracy: {accuracy_percentage:.2f}%\\tTotal time for {total_predictions} predictions: {(finalTime-startTime):.2f} seconds\")"
      ],
      "metadata": {
        "colab": {
          "base_uri": "https://localhost:8080/"
        },
        "id": "_Y6XqWNarFMk",
        "outputId": "cfbcde83-334c-41b0-c0d0-a3159b578cb9"
      },
      "execution_count": 21,
      "outputs": [
        {
          "output_type": "stream",
          "name": "stdout",
          "text": [
            "197/197 [==============================] - 0s 2ms/step\n",
            "Accuracy: 96.14%\tTotal time for 6298 predictions: 0.48 seconds\n"
          ]
        }
      ]
    },
    {
      "cell_type": "markdown",
      "source": [
        "---\n",
        "# ***KNN + ADABOOST***\n",
        "---"
      ],
      "metadata": {
        "id": "OCasTiwfrske"
      }
    },
    {
      "cell_type": "code",
      "source": [
        "from sklearn.ensemble import AdaBoostClassifier\n",
        "from sklearn.neighbors import KNeighborsClassifier\n",
        "from sklearn.datasets import make_classification\n",
        "from sklearn.model_selection import train_test_split\n",
        "from sklearn.metrics import accuracy_score\n",
        "from sklearn.tree import DecisionTreeClassifier\n",
        "\n",
        "# Crea il classificatore KNN\n",
        "knn_classifier = KNeighborsClassifier(n_neighbors=5)\n",
        "\n",
        "# Crea il classificatore DecisionTreeClassifier come classificatore base per AdaBoost\n",
        "base_classifier = DecisionTreeClassifier(max_depth=1)  # Puoi personalizzare max_depth a seconda delle tue esigenze\n",
        "\n",
        "# Crea il classificatore AdaBoost con DecisionTreeClassifier come classificatore base\n",
        "adaboost_classifier = AdaBoostClassifier(base_estimator=base_classifier, n_estimators=50, random_state=42)\n",
        "\n",
        "\n",
        "# Addestra il modello\n",
        "adaboost_classifier.fit(X_train, train_labels)\n",
        "\n",
        "#X_test = X_test.astype(float)\n",
        "from time import time\n",
        "\n",
        "startTime = time()\n",
        "y_pred = model.predict(X_val)\n",
        "correct_predictions = 0\n",
        "finalTime = time()\n",
        "\n",
        "correct_predictions = np.sum(np.argmax(y_pred, axis=1) == np.argmax(y_val, axis=1))\n",
        "total_predictions = len(y_pred)\n",
        "accuracy_percentage = (correct_predictions / total_predictions) * 100\n",
        "print(f\"Accuracy: {accuracy_percentage:.2f}%\\tTotal time for {total_predictions} predictions: {(finalTime-startTime):.2f} seconds\")"
      ],
      "metadata": {
        "colab": {
          "base_uri": "https://localhost:8080/"
        },
        "id": "7RvZkDOOsAjn",
        "outputId": "95886f03-fac4-442d-cafa-30890b97fc76"
      },
      "execution_count": 22,
      "outputs": [
        {
          "output_type": "stream",
          "name": "stderr",
          "text": [
            "/usr/local/lib/python3.10/dist-packages/sklearn/ensemble/_base.py:166: FutureWarning: `base_estimator` was renamed to `estimator` in version 1.2 and will be removed in 1.4.\n",
            "  warnings.warn(\n"
          ]
        },
        {
          "output_type": "stream",
          "name": "stdout",
          "text": [
            "197/197 [==============================] - 0s 2ms/step\n",
            "Accuracy: 96.14%\tTotal time for 6298 predictions: 0.50 seconds\n"
          ]
        }
      ]
    },
    {
      "cell_type": "code",
      "source": [
        "from sklearn.ensemble import AdaBoostClassifier\n",
        "from sklearn.neighbors import KNeighborsClassifier\n",
        "from sklearn.datasets import make_classification\n",
        "from sklearn.model_selection import train_test_split\n",
        "from sklearn.metrics import accuracy_score\n",
        "from sklearn.tree import DecisionTreeClassifier\n",
        "\n",
        "# Crea il classificatore KNN\n",
        "knn_classifier = KNeighborsClassifier(n_neighbors=5)\n",
        "\n",
        "# Crea il classificatore DecisionTreeClassifier come classificatore base per AdaBoost\n",
        "base_classifier = DecisionTreeClassifier(max_depth=1)  # Puoi personalizzare max_depth a seconda delle tue esigenze\n",
        "\n",
        "# Crea il classificatore AdaBoost con DecisionTreeClassifier come classificatore base\n",
        "adaboost_classifier = AdaBoostClassifier(base_estimator=base_classifier, n_estimators=50, random_state=42)\n",
        "\n",
        "\n",
        "# Addestra il modello\n",
        "adaboost_classifier.fit(X_train2, train_labels)\n",
        "\n",
        "#X_test = X_test.astype(float)\n",
        "from time import time\n",
        "\n",
        "startTime = time()\n",
        "y_pred = model.predict(X_val2)\n",
        "correct_predictions = 0\n",
        "finalTime = time()\n",
        "\n",
        "correct_predictions = np.sum(np.argmax(y_pred, axis=1) == np.argmax(y_val2, axis=1))\n",
        "total_predictions = len(y_pred)\n",
        "accuracy_percentage = (correct_predictions / total_predictions) * 100\n",
        "print(f\"Accuracy: {accuracy_percentage:.2f}%\\tTotal time for {total_predictions} predictions: {(finalTime-startTime):.2f} seconds\")"
      ],
      "metadata": {
        "colab": {
          "base_uri": "https://localhost:8080/"
        },
        "id": "uDdYdKinr3oA",
        "outputId": "3d90b650-b5e0-49b5-a957-b448a76e9406"
      },
      "execution_count": 23,
      "outputs": [
        {
          "output_type": "stream",
          "name": "stderr",
          "text": [
            "/usr/local/lib/python3.10/dist-packages/sklearn/ensemble/_base.py:166: FutureWarning: `base_estimator` was renamed to `estimator` in version 1.2 and will be removed in 1.4.\n",
            "  warnings.warn(\n"
          ]
        },
        {
          "output_type": "stream",
          "name": "stdout",
          "text": [
            "197/197 [==============================] - 1s 3ms/step\n",
            "Accuracy: 96.14%\tTotal time for 6298 predictions: 0.69 seconds\n"
          ]
        }
      ]
    },
    {
      "cell_type": "code",
      "source": [],
      "metadata": {
        "id": "BMzx4Sbrr7CH"
      },
      "execution_count": 23,
      "outputs": []
    }
  ]
}